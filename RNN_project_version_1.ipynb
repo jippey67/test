{
 "cells": [
  {
   "cell_type": "markdown",
   "metadata": {
    "deletable": true,
    "editable": true
   },
   "source": [
    "# Artificial Intelligence Nanodegree\n",
    "## Recurrent Neural Network Projects\n",
    "\n",
    "Welcome to the Recurrent Neural Network Project in the Artificial Intelligence Nanodegree! In this notebook, some template code has already been provided for you, and you will need to implement additional functionality to successfully complete this project. You will not need to modify the included code beyond what is requested. Sections that begin with **'Implementation'** in the header indicate that the following block of code will require additional functionality which you must provide. Instructions will be provided for each section and the specifics of the implementation are marked in the code block with a 'TODO' statement. Please be sure to read the instructions carefully!\n",
    "\n",
    "In addition to implementing code, there will be questions that you must answer which relate to the project and your implementation. Each section where you will answer a question is preceded by a **'Question X'** header. Carefully read each question and provide thorough answers in the following text boxes that begin with **'Answer:'**. Your project submission will be evaluated based on your answers to each of the questions and the implementation you provide.  \n",
    "\n",
    ">**Note:** Code and Markdown cells can be executed using the **Shift + Enter** keyboard shortcut. In addition, Markdown cells can be edited by typically double-clicking the cell to enter edit mode."
   ]
  },
  {
   "cell_type": "markdown",
   "metadata": {
    "deletable": true,
    "editable": true
   },
   "source": [
    "### Implementation TODOs in this notebook\n",
    "\n",
    "This notebook contains two problems, cut into a variety of TODOs.  Make sure to complete each section containing a TODO marker throughout the notebook.  For convinence we provide links to each of these sections below.\n",
    "\n",
    "[TODO #1: Implement a function to window time series](#TODO_1)\n",
    "\n",
    "[TODO #2: Create a simple RNN model using keras to perform regression](#TODO_2)\n",
    "\n",
    "[TODO #3: Finish cleaning a large text corpus](#TODO_3)\n",
    "\n",
    "[TODO #4: Implement a function to window a large text corpus](#TODO_4)\n",
    "\n",
    "[TODO #5: Create a simple RNN model using keras to perform multiclass classification](#TODO_5)\n",
    "\n",
    "[TODO #6: Generate text using a fully trained RNN model and a variety of input sequences](#TODO_6)\n"
   ]
  },
  {
   "cell_type": "markdown",
   "metadata": {
    "deletable": true,
    "editable": true
   },
   "source": [
    "# Problem 1: Perform time series prediction \n",
    "\n",
    "In this project you will perform time series prediction using a Recurrent Neural Network regressor.  In particular you will re-create the figure shown in the notes - where the stock price of Apple was forecasted (or predicted) 7 days in advance.  In completing this exercise you will learn how to construct RNNs using Keras, which will also aid in completing the second project in this notebook.\n",
    "\n",
    "The particular network architecture we will employ for our RNN is known as  [Long Term Short Memory (LTSM)](https://en.wikipedia.org/wiki/Long_short-term_memory), which helps significantly avoid technical problems with optimization of RNNs.  "
   ]
  },
  {
   "cell_type": "markdown",
   "metadata": {
    "deletable": true,
    "editable": true
   },
   "source": [
    "## 1.1 Getting started\n",
    "\n",
    "First we must load in our time series - a history of around 140 days of Apple's stock price.  Then we need to perform a number of pre-processing steps to prepare it for use with an RNN model.  First off, it is good practice to normalize time series - by normalizing its range.  This helps us avoid serious numerical issues associated how common activation functions (like tanh) transform very large (positive or negative) numbers, as well as helping us to avoid related issues when computing derivatives.\n",
    "\n",
    "Here we normalize the series to lie in the range [0,1] [using this scikit function](http://scikit-learn.org/stable/modules/generated/sklearn.preprocessing.MinMaxScaler.html), but it is also commonplace to normalize by a series standard deviation."
   ]
  },
  {
   "cell_type": "code",
   "execution_count": 1,
   "metadata": {
    "collapsed": true,
    "deletable": true,
    "editable": true
   },
   "outputs": [],
   "source": [
    "### Load in necessary libraries for data input and normalization\n",
    "%matplotlib inline\n",
    "import numpy as np\n",
    "import matplotlib.pyplot as plt\n",
    "from sklearn.preprocessing import MinMaxScaler\n",
    "\n",
    "### load in and normalize the dataset\n",
    "dataset = np.loadtxt('datasets/apple_prices.csv')\n",
    "scaler = MinMaxScaler(feature_range=(0, 1)) \n",
    "dataset = scaler.fit_transform(dataset.reshape(-1,1))\n"
   ]
  },
  {
   "cell_type": "markdown",
   "metadata": {
    "deletable": true,
    "editable": true
   },
   "source": [
    "Lets take a quick look at the (normalized) time series we'll be performing predictions on."
   ]
  },
  {
   "cell_type": "code",
   "execution_count": 2,
   "metadata": {
    "collapsed": false,
    "deletable": true,
    "editable": true
   },
   "outputs": [
    {
     "data": {
      "text/plain": [
       "<matplotlib.text.Text at 0x1146bf550>"
      ]
     },
     "execution_count": 2,
     "metadata": {},
     "output_type": "execute_result"
    },
    {
     "data": {
      "image/png": "[encoded data removed]",
      "text/plain": [
       "<matplotlib.figure.Figure at 0x1090b6550>"
      ]
     },
     "metadata": {},
     "output_type": "display_data"
    }
   ],
   "source": [
    "# lets take a look at our time series\n",
    "plt.plot(dataset)\n",
    "plt.xlabel('time period')\n",
    "plt.ylabel('normalized series value')"
   ]
  },
  {
   "cell_type": "markdown",
   "metadata": {
    "deletable": true,
    "editable": true
   },
   "source": [
    "## 1.2  Cutting our time series into sequences\n",
    "\n",
    "Remember, our time series is a sequence of numbers that we can represent in general mathematically as \n",
    "\n",
    "$$s_{0},s_{1},s_{2},...,s_{P}$$\n",
    "\n",
    "where $s_{p}$ is the numerical value of the time series at time period $p$ and where $P$ is the total length of the series.  In order to apply our RNN we treat the time series prediction problem as a regression problem, and so need to use a sliding window to construct a set of associated input/output pairs to regress on.  This process is animated in the gif below.\n",
    "\n",
    "<img src=\"images/timeseries_windowing_training.gif\" width=600 height=600/>\n",
    "\n",
    "For example - using a window of size T = 5 (as illustrated in the gif above) we produce a set of input/output pairs like the one shown in the table below\n",
    "\n",
    "$$\\begin{array}{c|c}\n",
    "\\text{Input} & \\text{Output}\\\\\n",
    "\\hline \\color{CornflowerBlue} {\\langle s_{1},s_{2},s_{3},s_{4}\\rangle} & \\color{Goldenrod}{ s_{5}} \\\\\n",
    "\\ \\color{CornflowerBlue} {\\langle s_{2},s_{3},s_{4},s_{5} \\rangle } & \\color{Goldenrod} {s_{6} } \\\\\n",
    "\\color{CornflowerBlue}  {\\vdots} & \\color{Goldenrod} {\\vdots}\\\\\n",
    "\\color{CornflowerBlue} { \\langle s_{P-4},s_{P-3},s_{P-2},s_{P-1} \\rangle } & \\color{Goldenrod} {s_{P}}\n",
    "\\end{array}$$\n",
    "\n",
    "Notice here that each input is a sequence (or vector) of length 4 (and in general has length equal to the window size T) while each corresponding output is a scalar value.  Notice also how given a time series of length P and window size T = 5 as shown above, we created P - 5  input/output pairs.  More generally, for a window size T we create P - T such pairs.\n",
    "\n",
    "Now its time for you to window the input time series as described above!  "
   ]
  },
  {
   "cell_type": "markdown",
   "metadata": {
    "deletable": true,
    "editable": true
   },
   "source": [
    "<a id='TODO_1'></a>\n",
    "\n",
    "**TODO:** Create a function that runs a sliding window along the input series and creates associated input/output pairs.  A skeleton function has been provided for you.  Note that this function should input a) the series and b) the window length, and return the input/output subsequences.  Make sure to format returned input/output as generally shown in table above (where window_size = 5), and make sure your returned input is a numpy array."
   ]
  },
  {
   "cell_type": "code",
   "execution_count": 3,
   "metadata": {
    "collapsed": true,
    "deletable": true,
    "editable": true
   },
   "outputs": [],
   "source": [
    "### TODO: fill out the function below that transforms the input series and window-size into a set of input/output pairs for use with our RNN model\n",
    "def window_transform_series(series,window_size):\n",
    "    # containers for input/output pairs\n",
    "    X = []\n",
    "    y = []\n",
    "    n = series.size\n",
    "    for i in range(0,n-window_size):\n",
    "        temp = []\n",
    "        for j in range(window_size):\n",
    "            temp.append(series[i+j])            \n",
    "        X.append(temp)\n",
    "        y.append(series[window_size + i])\n",
    "    return np.array(X),np.array(y)"
   ]
  },
  {
   "cell_type": "markdown",
   "metadata": {
    "deletable": true,
    "editable": true
   },
   "source": [
    "With this function in place apply it to the series in the Python cell below.  We use a window_size = 7 for these experiments."
   ]
  },
  {
   "cell_type": "code",
   "execution_count": 10,
   "metadata": {
    "collapsed": false
   },
   "outputs": [
    {
     "name": "stdout",
     "output_type": "stream",
     "text": [
      "[[ 1  3  5  7]\n",
      " [ 3  5  7  9]\n",
      " [ 5  7  9 11]]\n",
      "[ 9 11 13]\n"
     ]
    }
   ],
   "source": [
    "odd_nums = np.array([1,3,5,7,9,11,13])\n",
    "X,y = window_transform_series(odd_nums,4)\n",
    "print (X)\n",
    "print(y)"
   ]
  },
  {
   "cell_type": "code",
   "execution_count": 7,
   "metadata": {
    "collapsed": false,
    "deletable": true,
    "editable": true
   },
   "outputs": [
    {
     "name": "stdout",
     "output_type": "stream",
     "text": [
      "[[[ 0.66800433]\n",
      "  [ 0.61529124]]\n",
      "\n",
      " [[ 0.61529124]\n",
      "  [ 0.47101372]]\n",
      "\n",
      " [[ 0.47101372]\n",
      "  [ 0.46055638]]\n",
      "\n",
      " [[ 0.46055638]\n",
      "  [ 0.47916102]]\n",
      "\n",
      " [[ 0.47916102]\n",
      "  [ 0.51323922]]\n",
      "\n",
      " [[ 0.51323922]\n",
      "  [ 0.51077685]]\n",
      "\n",
      " [[ 0.51077685]\n",
      "  [ 0.47818802]]\n",
      "\n",
      " [[ 0.47818802]\n",
      "  [ 0.4801947 ]]\n",
      "\n",
      " [[ 0.4801947 ]\n",
      "  [ 0.46517702]]\n",
      "\n",
      " [[ 0.46517702]\n",
      "  [ 0.46435635]]\n",
      "\n",
      " [[ 0.46435635]\n",
      "  [ 0.53381973]]\n",
      "\n",
      " [[ 0.53381973]\n",
      "  [ 0.45070671]]\n",
      "\n",
      " [[ 0.45070671]\n",
      "  [ 0.40191522]]\n",
      "\n",
      " [[ 0.40191522]\n",
      "  [ 0.54619246]]\n",
      "\n",
      " [[ 0.54619246]\n",
      "  [ 0.51858942]]\n",
      "\n",
      " [[ 0.51858942]\n",
      "  [ 0.48490662]]\n",
      "\n",
      " [[ 0.48490662]\n",
      "  [ 0.50782797]]\n",
      "\n",
      " [[ 0.50782797]\n",
      "  [ 0.56865793]]\n",
      "\n",
      " [[ 0.56865793]\n",
      "  [ 0.60069921]]\n",
      "\n",
      " [[ 0.60069921]\n",
      "  [ 0.56124038]]\n",
      "\n",
      " [[ 0.56124038]\n",
      "  [ 0.57911545]]\n",
      "\n",
      " [[ 0.57911545]\n",
      "  [ 0.57029945]]\n",
      "\n",
      " [[ 0.57029945]\n",
      "  [ 0.45788119]]\n",
      "\n",
      " [[ 0.45788119]\n",
      "  [ 0.46994981]]\n",
      "\n",
      " [[ 0.46994981]\n",
      "  [ 0.45474992]]\n",
      "\n",
      " [[ 0.45474992]\n",
      "  [ 0.45812426]]\n",
      "\n",
      " [[ 0.45812426]\n",
      "  [ 0.48226167]]\n",
      "\n",
      " [[ 0.48226167]\n",
      "  [ 0.42976141]]\n",
      "\n",
      " [[ 0.42976141]\n",
      "  [ 0.36306433]]\n",
      "\n",
      " [[ 0.36306433]\n",
      "  [ 0.35312345]]\n",
      "\n",
      " [[ 0.35312345]\n",
      "  [ 0.32482138]]\n",
      "\n",
      " [[ 0.32482138]\n",
      "  [ 0.38212494]]\n",
      "\n",
      " [[ 0.38212494]\n",
      "  [ 0.27542167]]\n",
      "\n",
      " [[ 0.27542167]\n",
      "  [ 0.40918081]]\n",
      "\n",
      " [[ 0.40918081]\n",
      "  [ 0.37300492]]\n",
      "\n",
      " [[ 0.37300492]\n",
      "  [ 0.39626081]]\n",
      "\n",
      " [[ 0.39626081]\n",
      "  [ 0.40717423]]\n",
      "\n",
      " [[ 0.40717423]\n",
      "  [ 0.26283631]]\n",
      "\n",
      " [[ 0.26283631]\n",
      "  [ 0.28663928]]\n",
      "\n",
      " [[ 0.28663928]\n",
      "  [ 0.21401421]]\n",
      "\n",
      " [[ 0.21401421]\n",
      "  [ 0.17954089]]\n",
      "\n",
      " [[ 0.17954089]\n",
      "  [ 0.16601305]]\n",
      "\n",
      " [[ 0.16601305]\n",
      "  [ 0.15111709]]\n",
      "\n",
      " [[ 0.15111709]\n",
      "  [ 0.09816076]]\n",
      "\n",
      " [[ 0.09816076]\n",
      "  [ 0.11247903]]\n",
      "\n",
      " [[ 0.11247903]\n",
      "  [ 0.18556008]]\n",
      "\n",
      " [[ 0.18556008]\n",
      "  [ 0.22596129]]\n",
      "\n",
      " [[ 0.22596129]\n",
      "  [ 0.24420115]]\n",
      "\n",
      " [[ 0.24420115]\n",
      "  [ 0.2416781 ]]\n",
      "\n",
      " [[ 0.2416781 ]\n",
      "  [ 0.18698887]]\n",
      "\n",
      " [[ 0.18698887]\n",
      "  [ 0.24657233]]\n",
      "\n",
      " [[ 0.24657233]\n",
      "  [ 0.25934017]]\n",
      "\n",
      " [[ 0.25934017]\n",
      "  [ 0.15215077]]\n",
      "\n",
      " [[ 0.15215077]\n",
      "  [ 0.06760895]]\n",
      "\n",
      " [[ 0.06760895]\n",
      "  [ 0.17206258]]\n",
      "\n",
      " [[ 0.17206258]\n",
      "  [ 0.16552655]]\n",
      "\n",
      " [[ 0.16552655]\n",
      "  [ 0.2173582 ]]\n",
      "\n",
      " [[ 0.2173582 ]\n",
      "  [ 0.28663928]]\n",
      "\n",
      " [[ 0.28663928]\n",
      "  [ 0.21599027]]\n",
      "\n",
      " [[ 0.21599027]\n",
      "  [ 0.18042251]]\n",
      "\n",
      " [[ 0.18042251]\n",
      "  [ 0.17449452]]\n",
      "\n",
      " [[ 0.17449452]\n",
      "  [ 0.25368595]]\n",
      "\n",
      " [[ 0.25368595]\n",
      "  [ 0.27572578]]\n",
      "\n",
      " [[ 0.27572578]\n",
      "  [ 0.32254139]]\n",
      "\n",
      " [[ 0.32254139]\n",
      "  [ 0.25386825]]\n",
      "\n",
      " [[ 0.25386825]\n",
      "  [ 0.20498548]]\n",
      "\n",
      " [[ 0.20498548]\n",
      "  [ 0.40784312]]\n",
      "\n",
      " [[ 0.40784312]\n",
      "  [ 0.40212804]]\n",
      "\n",
      " [[ 0.40212804]\n",
      "  [ 0.46086031]]\n",
      "\n",
      " [[ 0.46086031]\n",
      "  [ 0.42599168]]\n",
      "\n",
      " [[ 0.42599168]\n",
      "  [ 0.45584446]]\n",
      "\n",
      " [[ 0.45584446]\n",
      "  [ 0.4211278 ]]\n",
      "\n",
      " [[ 0.4211278 ]\n",
      "  [ 0.46998024]]\n",
      "\n",
      " [[ 0.46998024]\n",
      "  [ 0.67867467]]\n",
      "\n",
      " [[ 0.67867467]\n",
      "  [ 0.62471509]]\n",
      "\n",
      " [[ 0.62471509]\n",
      "  [ 0.51773833]]\n",
      "\n",
      " [[ 0.51773833]\n",
      "  [ 0.55859543]]\n",
      "\n",
      " [[ 0.55859543]\n",
      "  [ 0.6478797 ]]\n",
      "\n",
      " [[ 0.6478797 ]\n",
      "  [ 0.68241378]]\n",
      "\n",
      " [[ 0.68241378]\n",
      "  [ 0.7357349 ]]\n",
      "\n",
      " [[ 0.7357349 ]\n",
      "  [ 0.79632179]]\n",
      "\n",
      " [[ 0.79632179]\n",
      "  [ 0.84049254]]\n",
      "\n",
      " [[ 0.84049254]\n",
      "  [ 0.91430306]]\n",
      "\n",
      " [[ 0.91430306]\n",
      "  [ 0.96203073]]\n",
      "\n",
      " [[ 0.96203073]\n",
      "  [ 1.        ]]\n",
      "\n",
      " [[ 1.        ]\n",
      "  [ 0.94254456]]\n",
      "\n",
      " [[ 0.94254456]\n",
      "  [ 0.89788731]]\n",
      "\n",
      " [[ 0.89788731]\n",
      "  [ 0.9411461 ]]\n",
      "\n",
      " [[ 0.9411461 ]\n",
      "  [ 0.85000768]]\n",
      "\n",
      " [[ 0.85000768]\n",
      "  [ 0.76908353]]\n",
      "\n",
      " [[ 0.76908353]\n",
      "  [ 0.75053975]]\n",
      "\n",
      " [[ 0.75053975]\n",
      "  [ 0.6703756 ]]\n",
      "\n",
      " [[ 0.6703756 ]\n",
      "  [ 0.68095447]]\n",
      "\n",
      " [[ 0.68095447]\n",
      "  [ 0.71354311]]\n",
      "\n",
      " [[ 0.71354311]\n",
      "  [ 0.71409028]]\n",
      "\n",
      " [[ 0.71409028]\n",
      "  [ 0.65155814]]\n",
      "\n",
      " [[ 0.65155814]\n",
      "  [ 0.62897095]]\n",
      "\n",
      " [[ 0.62897095]\n",
      "  [ 0.60969742]]\n",
      "\n",
      " [[ 0.60969742]\n",
      "  [ 0.66064745]]\n",
      "\n",
      " [[ 0.66064745]\n",
      "  [ 0.58093936]]\n",
      "\n",
      " [[ 0.58093936]\n",
      "  [ 0.60951521]]\n",
      "\n",
      " [[ 0.60951521]\n",
      "  [ 0.49886001]]\n",
      "\n",
      " [[ 0.49886001]\n",
      "  [ 0.58419216]]\n",
      "\n",
      " [[ 0.58419216]\n",
      "  [ 0.58093936]]\n",
      "\n",
      " [[ 0.58093936]\n",
      "  [ 0.69129046]]\n",
      "\n",
      " [[ 0.69129046]\n",
      "  [ 0.6086335 ]]\n",
      "\n",
      " [[ 0.6086335 ]\n",
      "  [ 0.7285606 ]]\n",
      "\n",
      " [[ 0.7285606 ]\n",
      "  [ 0.77741304]]\n",
      "\n",
      " [[ 0.77741304]\n",
      "  [ 0.70354165]]\n",
      "\n",
      " [[ 0.70354165]\n",
      "  [ 0.69734017]]\n",
      "\n",
      " [[ 0.69734017]\n",
      "  [ 0.69302327]]\n",
      "\n",
      " [[ 0.69302327]\n",
      "  [ 0.5428788 ]]\n",
      "\n",
      " [[ 0.5428788 ]\n",
      "  [ 0.53205668]]\n",
      "\n",
      " [[ 0.53205668]\n",
      "  [ 0.45876272]]\n",
      "\n",
      " [[ 0.45876272]\n",
      "  [ 0.41489588]]\n",
      "\n",
      " [[ 0.41489588]\n",
      "  [ 0.39255204]]\n",
      "\n",
      " [[ 0.39255204]\n",
      "  [ 0.26745704]]\n",
      "\n",
      " [[ 0.26745704]\n",
      "  [ 0.2289405 ]]\n",
      "\n",
      " [[ 0.2289405 ]\n",
      "  [ 0.15889943]]\n",
      "\n",
      " [[ 0.15889943]\n",
      "  [ 0.16355059]]\n",
      "\n",
      " [[ 0.16355059]\n",
      "  [ 0.16750261]]\n",
      "\n",
      " [[ 0.16750261]\n",
      "  [ 0.11855898]]\n",
      "\n",
      " [[ 0.11855898]\n",
      "  [ 0.09940707]]\n",
      "\n",
      " [[ 0.09940707]\n",
      "  [ 0.03669244]]\n",
      "\n",
      " [[ 0.03669244]\n",
      "  [ 0.0646906 ]]\n",
      "\n",
      " [[ 0.0646906 ]\n",
      "  [ 0.07019295]]\n",
      "\n",
      " [[ 0.07019295]\n",
      "  [ 0.00592781]]\n",
      "\n",
      " [[ 0.00592781]\n",
      "  [ 0.        ]]\n",
      "\n",
      " [[ 0.        ]\n",
      "  [ 0.03988438]]\n",
      "\n",
      " [[ 0.03988438]\n",
      "  [ 0.08970963]]\n",
      "\n",
      " [[ 0.08970963]\n",
      "  [ 0.09733991]]\n",
      "\n",
      " [[ 0.09733991]\n",
      "  [ 0.07837049]]\n",
      "\n",
      " [[ 0.07837049]\n",
      "  [ 0.15607237]]\n",
      "\n",
      " [[ 0.15607237]\n",
      "  [ 0.0264174 ]]\n",
      "\n",
      " [[ 0.0264174 ]\n",
      "  [ 0.03030847]]\n",
      "\n",
      " [[ 0.03030847]\n",
      "  [ 0.08955758]]]\n",
      "[[ 0.47101372]\n",
      " [ 0.46055638]\n",
      " [ 0.47916102]\n",
      " [ 0.51323922]\n",
      " [ 0.51077685]\n",
      " [ 0.47818802]\n",
      " [ 0.4801947 ]\n",
      " [ 0.46517702]\n",
      " [ 0.46435635]\n",
      " [ 0.53381973]\n",
      " [ 0.45070671]\n",
      " [ 0.40191522]\n",
      " [ 0.54619246]\n",
      " [ 0.51858942]\n",
      " [ 0.48490662]\n",
      " [ 0.50782797]\n",
      " [ 0.56865793]\n",
      " [ 0.60069921]\n",
      " [ 0.56124038]\n",
      " [ 0.57911545]\n",
      " [ 0.57029945]\n",
      " [ 0.45788119]\n",
      " [ 0.46994981]\n",
      " [ 0.45474992]\n",
      " [ 0.45812426]\n",
      " [ 0.48226167]\n",
      " [ 0.42976141]\n",
      " [ 0.36306433]\n",
      " [ 0.35312345]\n",
      " [ 0.32482138]\n",
      " [ 0.38212494]\n",
      " [ 0.27542167]\n",
      " [ 0.40918081]\n",
      " [ 0.37300492]\n",
      " [ 0.39626081]\n",
      " [ 0.40717423]\n",
      " [ 0.26283631]\n",
      " [ 0.28663928]\n",
      " [ 0.21401421]\n",
      " [ 0.17954089]\n",
      " [ 0.16601305]\n",
      " [ 0.15111709]\n",
      " [ 0.09816076]\n",
      " [ 0.11247903]\n",
      " [ 0.18556008]\n",
      " [ 0.22596129]\n",
      " [ 0.24420115]\n",
      " [ 0.2416781 ]\n",
      " [ 0.18698887]\n",
      " [ 0.24657233]\n",
      " [ 0.25934017]\n",
      " [ 0.15215077]\n",
      " [ 0.06760895]\n",
      " [ 0.17206258]\n",
      " [ 0.16552655]\n",
      " [ 0.2173582 ]\n",
      " [ 0.28663928]\n",
      " [ 0.21599027]\n",
      " [ 0.18042251]\n",
      " [ 0.17449452]\n",
      " [ 0.25368595]\n",
      " [ 0.27572578]\n",
      " [ 0.32254139]\n",
      " [ 0.25386825]\n",
      " [ 0.20498548]\n",
      " [ 0.40784312]\n",
      " [ 0.40212804]\n",
      " [ 0.46086031]\n",
      " [ 0.42599168]\n",
      " [ 0.45584446]\n",
      " [ 0.4211278 ]\n",
      " [ 0.46998024]\n",
      " [ 0.67867467]\n",
      " [ 0.62471509]\n",
      " [ 0.51773833]\n",
      " [ 0.55859543]\n",
      " [ 0.6478797 ]\n",
      " [ 0.68241378]\n",
      " [ 0.7357349 ]\n",
      " [ 0.79632179]\n",
      " [ 0.84049254]\n",
      " [ 0.91430306]\n",
      " [ 0.96203073]\n",
      " [ 1.        ]\n",
      " [ 0.94254456]\n",
      " [ 0.89788731]\n",
      " [ 0.9411461 ]\n",
      " [ 0.85000768]\n",
      " [ 0.76908353]\n",
      " [ 0.75053975]\n",
      " [ 0.6703756 ]\n",
      " [ 0.68095447]\n",
      " [ 0.71354311]\n",
      " [ 0.71409028]\n",
      " [ 0.65155814]\n",
      " [ 0.62897095]\n",
      " [ 0.60969742]\n",
      " [ 0.66064745]\n",
      " [ 0.58093936]\n",
      " [ 0.60951521]\n",
      " [ 0.49886001]\n",
      " [ 0.58419216]\n",
      " [ 0.58093936]\n",
      " [ 0.69129046]\n",
      " [ 0.6086335 ]\n",
      " [ 0.7285606 ]\n",
      " [ 0.77741304]\n",
      " [ 0.70354165]\n",
      " [ 0.69734017]\n",
      " [ 0.69302327]\n",
      " [ 0.5428788 ]\n",
      " [ 0.53205668]\n",
      " [ 0.45876272]\n",
      " [ 0.41489588]\n",
      " [ 0.39255204]\n",
      " [ 0.26745704]\n",
      " [ 0.2289405 ]\n",
      " [ 0.15889943]\n",
      " [ 0.16355059]\n",
      " [ 0.16750261]\n",
      " [ 0.11855898]\n",
      " [ 0.09940707]\n",
      " [ 0.03669244]\n",
      " [ 0.0646906 ]\n",
      " [ 0.07019295]\n",
      " [ 0.00592781]\n",
      " [ 0.        ]\n",
      " [ 0.03988438]\n",
      " [ 0.08970963]\n",
      " [ 0.09733991]\n",
      " [ 0.07837049]\n",
      " [ 0.15607237]\n",
      " [ 0.0264174 ]\n",
      " [ 0.03030847]\n",
      " [ 0.08955758]\n",
      " [ 0.1496883 ]]\n"
     ]
    }
   ],
   "source": [
    "# window the data using your windowing function\n",
    "window_size = 2\n",
    "X,y = window_transform_series(series = dataset,window_size = window_size)\n",
    "print (X)\n",
    "print(y)"
   ]
  },
  {
   "cell_type": "markdown",
   "metadata": {
    "deletable": true,
    "editable": true
   },
   "source": [
    "## 1.3  Splitting into training and testing sets\n",
    "\n",
    "In order to perform proper testing on our dataset we will lop off the last 1/3 of it for validation (or testing).  This is that once we train our model we have something to test it on (like any regression problem!).  This splitting into training/testing sets is done in the cell below.\n",
    "\n",
    "Note how here we are **not** splitting the dataset *randomly* as one typically would do when validating a regression model.  This is because our input/output pairs *are related temporally*.   We don't want to validate our model by training on a random subset of the series and then testing on another random subset, as this simulates the scenario that we receive new points *within the timeframe of our training set*.  \n",
    "\n",
    "We want to train on one solid chunk of the series (in our case, the first full 2/3 of it), and validate on a later chunk (the last 1/3) as this simulates how we would predict *future* values of a time series."
   ]
  },
  {
   "cell_type": "code",
   "execution_count": 5,
   "metadata": {
    "collapsed": false,
    "deletable": true,
    "editable": true
   },
   "outputs": [
    {
     "name": "stdout",
     "output_type": "stream",
     "text": [
      "(88, 7, 1)\n"
     ]
    }
   ],
   "source": [
    "# split our dataset into training / testing sets\n",
    "train_test_split = int(np.ceil(2*len(y)/float(3)))   # set the split point\n",
    "\n",
    "# partition the training set\n",
    "X_train = X[:train_test_split,:]\n",
    "print(X_train.shape)\n",
    "y_train = y[:train_test_split]\n",
    "\n",
    "# keep the last chunk for testing\n",
    "X_test = X[train_test_split:,:]\n",
    "y_test = y[train_test_split:]\n",
    "\n",
    "# NOTE: to use keras's RNN LSTM module our input must be reshaped to [samples, stepsize, window size] \n",
    "X_train = np.reshape(X_train, (X_train.shape[0], 1, X_train.shape[1]))\n",
    "X_test = np.reshape(X_test, (X_test.shape[0], 1, X_test.shape[1]))"
   ]
  },
  {
   "cell_type": "markdown",
   "metadata": {
    "deletable": true,
    "editable": true
   },
   "source": [
    "<a id='TODO_2'></a>\n",
    "\n",
    "## 1.4  Build and run an RNN regression model\n",
    "\n",
    "Having created input/output pairs out of our time series and cut this into training/testing sets, we can now begin setting up our RNN.  We use Keras to quickly build a two hidden layer RNN of the following specifications\n",
    "\n",
    "- layer 1 uses an LSTM module with 5 hidden units\n",
    "- layer 2 uses a fully connected module with one unit\n",
    "- the 'mean_squared_error' loss should be used (remember: we are performing regression here)\n",
    "\n",
    "This can be constructed using just a few lines - see e.g., the [general Keras documentation](https://keras.io/getting-started/sequential-model-guide/) and the [LTSM documentation in particular](https://keras.io/layers/recurrent/) for examples of how to quickly use Keras to build neural network models.  Make sure you are using the [keras-recommended optimizer](https://keras.io/optimizers/) (given in the cell below).  "
   ]
  },
  {
   "cell_type": "code",
   "execution_count": 6,
   "metadata": {
    "collapsed": false,
    "deletable": true,
    "editable": true
   },
   "outputs": [
    {
     "name": "stderr",
     "output_type": "stream",
     "text": [
      "Using TensorFlow backend.\n"
     ]
    },
    {
     "name": "stdout",
     "output_type": "stream",
     "text": [
      "2.0.3\n"
     ]
    }
   ],
   "source": [
    "### TODO: create required RNN model\n",
    "# import keras network libraries\n",
    "from keras.models import Sequential\n",
    "from keras.layers import Dense\n",
    "from keras.layers import LSTM\n",
    "import keras\n",
    "\n",
    "\n",
    "# keras version: 2.0.3\n",
    "print(keras.__version__)\n",
    "\n",
    "\n",
    "# given - fix random seed - so we can all reproduce the same results on our default time series\n",
    "np.random.seed(0)\n",
    "\n",
    "# given - build model using keras documentation recommended parameters\n",
    "optimizer = keras.optimizers.RMSprop(lr=0.001, rho=0.9, epsilon=1e-08, decay=0.0)\n",
    "\n",
    "# TODO: build an RNN to perform regression on our time series input/output data\n",
    "model = Sequential()\n",
    "model.add(LSTM(5, input_shape=(1,7))) # there are 7 samples of 1 dimension in each batch.\n",
    "model.add(Dense(1))\n",
    "\n",
    "model.compile(loss='mean_squared_error', optimizer=optimizer)"
   ]
  },
  {
   "cell_type": "markdown",
   "metadata": {
    "deletable": true,
    "editable": true
   },
   "source": [
    "With your model built you can now fit the model by activating the cell below!  Note: the number of epochs (np_epochs) and batch_size are preset (so we can all produce the same results).  You can choose to toggle the verbose parameter - which gives you regular updates on the progress of the algorithm - on and off by setting it to 1 or 0 respectively."
   ]
  },
  {
   "cell_type": "code",
   "execution_count": 8,
   "metadata": {
    "collapsed": false,
    "deletable": true,
    "editable": true
   },
   "outputs": [
    {
     "data": {
      "text/plain": [
       "<keras.callbacks.History at 0x7fa76ce719b0>"
      ]
     },
     "execution_count": 8,
     "metadata": {},
     "output_type": "execute_result"
    }
   ],
   "source": [
    "# run your model!\n",
    "#model.fit(X_train, y_train, epochs=1000, batch_size=2, verbose=0)\n",
    "model.fit(X_train, y_train, epochs=10000, batch_size=138, verbose=0)"
   ]
  },
  {
   "cell_type": "markdown",
   "metadata": {
    "deletable": true,
    "editable": true
   },
   "source": [
    "## 1.5  Checking model performance\n",
    "\n",
    "With your model fit we can now make predictions on both our training and testing sets."
   ]
  },
  {
   "cell_type": "code",
   "execution_count": 10,
   "metadata": {
    "collapsed": true,
    "deletable": true,
    "editable": true
   },
   "outputs": [],
   "source": [
    "# generate predictions for training\n",
    "train_predict = model.predict(X_train)\n",
    "test_predict = model.predict(X_test)"
   ]
  },
  {
   "cell_type": "markdown",
   "metadata": {
    "deletable": true,
    "editable": true
   },
   "source": [
    "Activating the next cell plots the original data, as well as both predictions on the training and testing sets. "
   ]
  },
  {
   "cell_type": "code",
   "execution_count": 11,
   "metadata": {
    "collapsed": false,
    "deletable": true,
    "editable": true
   },
   "outputs": [
    {
     "data": {
      "image/png": "[encoded data removed]",
      "text/plain": [
       "<matplotlib.figure.Figure at 0x7fa7e5bceef0>"
      ]
     },
     "metadata": {},
     "output_type": "display_data"
    }
   ],
   "source": [
    "### Plot everything - the original series as well as predictions on training and testing sets\n",
    "import matplotlib.pyplot as plt\n",
    "%matplotlib inline\n",
    "\n",
    "# plot original series\n",
    "plt.plot(dataset,color = 'k')\n",
    "\n",
    "# plot training set prediction\n",
    "split_pt = train_test_split + window_size \n",
    "plt.plot(np.arange(window_size,split_pt,1),train_predict,color = 'b')\n",
    "\n",
    "# plot testing set prediction\n",
    "plt.plot(np.arange(split_pt,split_pt + len(test_predict),1),test_predict,color = 'r')\n",
    "\n",
    "# pretty up graph\n",
    "plt.xlabel('day')\n",
    "plt.ylabel('(normalized) price of Apple stock')\n",
    "plt.legend(['original series','training fit','testing fit'],loc='center left', bbox_to_anchor=(1, 0.5))\n",
    "\n",
    "plt.show()"
   ]
  },
  {
   "cell_type": "markdown",
   "metadata": {
    "deletable": true,
    "editable": true
   },
   "source": [
    "**Note:** you can try out any time series for this exercise!  If you would like to try another see e.g., [this site containing thousands of time series](https://datamarket.com/data/list/?q=provider%3Atsdl) and pick another one!"
   ]
  },
  {
   "cell_type": "markdown",
   "metadata": {
    "deletable": true,
    "editable": true
   },
   "source": [
    "# Problem 2: Create a sequence generator"
   ]
  },
  {
   "cell_type": "markdown",
   "metadata": {
    "deletable": true,
    "editable": true
   },
   "source": [
    "## 2.1  Getting started\n",
    "\n",
    "In this project you will implement a popular Recurrent Neural Network (RNN) architecture to create an English language sequence generator capable of building semi-coherent english sentences from scratch by building them up character-by-character.  This will require a substantial amount amount of parameter tuning on a large training corpus (at least 100,000 characters long).  In particular for this project we will be using a complete version of Sir Arthur Conan Doyle's classic book The Adventures of Sherlock Holmes.\n",
    "\n",
    "How can we train a machine learning model to generate text automatically, character-by-character?  *By showing the model many training examples so it can learn a pattern between input and output.*  With this type of text generation each input is a string of valid characters like this one\n",
    "\n",
    "*dogs are grea*\n",
    "\n",
    "whlie the corresponding output is the next character in the sentence - which here is 't' (since the complete sentence is 'dogs are great').  We need to show a model many such examples in order for it to make reasonable predictions.\n",
    "\n",
    "**Fun note:** For those interested in how text generation is being used check out some of the following fun resources:\n",
    "\n",
    "- [Generate wacky sentences](http://www.cs.toronto.edu/~ilya/rnn.html) with this academic RNN text generator\n",
    "\n",
    "- Various twitter bots that tweet automatically generated text like[this one](http://tweet-generator-alex.herokuapp.com/).\n",
    "\n",
    "- the [NanoGenMo](https://github.com/NaNoGenMo/2016) annual contest to automatically produce a 50,000+ novel automatically\n",
    "\n",
    "- [Robot Shakespear](https://github.com/genekogan/RobotShakespeare) a text generator that automatically produces Shakespear-esk sentences"
   ]
  },
  {
   "cell_type": "markdown",
   "metadata": {
    "deletable": true,
    "editable": true
   },
   "source": [
    "## 2.2  Preprocessing a text dataset\n",
    "\n",
    "Our first task is to get a large text corpus for use in training, and on it we perform a several light pre-processing tasks.  The default corpus we will use is the classic book Sherlock Holmes, but you can use a variety of others as well - so long as they are fairly large (around 100,000 characters or more).  "
   ]
  },
  {
   "cell_type": "code",
   "execution_count": 12,
   "metadata": {
    "collapsed": false,
    "deletable": true,
    "editable": true
   },
   "outputs": [
    {
     "name": "stdout",
     "output_type": "stream",
     "text": [
      "our original text has 581864 characters\n"
     ]
    }
   ],
   "source": [
    "# read in the text, transforming everything to lower case\n",
    "text = open('datasets/holmes.txt').read().lower()\n",
    "print('our original text has ' + str(len(text)) + ' characters')"
   ]
  },
  {
   "cell_type": "markdown",
   "metadata": {
    "deletable": true,
    "editable": true
   },
   "source": [
    "Next, lets examine a bit of the raw text.  Because we are interested in creating sentences of English words automatically by building up each word character-by-character, we only want to train on valid English words.  In other words - we need to remove all of the other junk characters that aren't words!"
   ]
  },
  {
   "cell_type": "code",
   "execution_count": 13,
   "metadata": {
    "collapsed": false,
    "deletable": true,
    "editable": true
   },
   "outputs": [
    {
     "data": {
      "text/plain": [
       "\"\\ufeffproject gutenberg's the adventures of sherlock holmes, by arthur conan doyle\\n\\nthis ebook is for the use of anyone anywhere at no cost and with\\nalmost no restrictions whatsoever.  you may copy it, give it away or\\nre-use it under the terms of the project gutenberg license included\\nwith this ebook or online at www.gutenberg.net\\n\\n\\ntitle: the adventures of sherlock holmes\\n\\nauthor: arthur conan doyle\\n\\nposting date: april 18, 2011 [ebook #1661]\\nfirst posted: november 29, 2002\\n\\nlanguage: english\\n\\n\\n*** start of this project gutenberg ebook the adventures of sherlock holmes ***\\n\\n\\n\\n\\nproduced by an anonymous project gutenberg volunteer and jose menendez\\n\\n\\n\\n\\n\\n\\n\\n\\n\\nthe adventures of sherlock holmes\\n\\nby\\n\\nsir arthur conan doyle\\n\\n\\n\\n   i. a scandal in bohemia\\n  ii. the red-headed league\\n iii. a case of identity\\n  iv. the boscombe valley mystery\\n   v. the five orange pips\\n  vi. the man with the twisted lip\\n vii. the adventure of the blue carbuncle\\nviii. the adventure of the speckled band\\n  ix. the adventure of the engineer's thumb\\n   x. the adventure of the noble bachelor\\n  xi. the adventure of the beryl coronet\\n xii. the adventure of the copper beeches\\n\\n\\n\\n\\nadventure i. a scandal in bohemia\\n\\ni.\\n\\nto sherlock holmes she is always the woman. i have seldom heard\\nhim mention her under any other name. in his eyes she eclipses\\nand predominates the whole of her sex. it was not that he felt\\nany emotion akin to love for irene adler. all emotions, and that\\none particularly, were abhorrent to his cold, precise but\\nadmirably balanced mind. he was, i take it, the most perfect\\nreasoning and observing machine that the world has seen, but as a\\nlover he would have placed himself in a false position. he never\\nspoke of the softer passions, save with a gibe and a sneer. they\\nwere admirable things for the observer--excellent for drawing the\\nveil from men's motives and actions. but for the trained reasoner\\nto admit such intrusions into his own delicate and finely\\nadjusted temperament was to introduce a dist\""
      ]
     },
     "execution_count": 13,
     "metadata": {},
     "output_type": "execute_result"
    }
   ],
   "source": [
    "### print out the first 1000 characters of the raw text to get a sense of what we need to throw out\n",
    "text[:2000]"
   ]
  },
  {
   "cell_type": "markdown",
   "metadata": {
    "deletable": true,
    "editable": true
   },
   "source": [
    "Wow - there's a lot of junk here!  e.g., all the carriage return and newline sequences '\\n' and '\\r' sequences.  We want to train our RNN on a large chunk of real english sentences - we don't want it to start thinking non-english words or strange characters are valid! - so lets clean up the data a bit.\n",
    "\n",
    "First, since the dataset is so large and the first few hundred characters contain a lot of junk, lets cut it out.  Lets also find-and-replace those newline tags with empty spaces."
   ]
  },
  {
   "cell_type": "code",
   "execution_count": 14,
   "metadata": {
    "collapsed": true,
    "deletable": true,
    "editable": true
   },
   "outputs": [],
   "source": [
    "### find and replace '\\n' and '\\r' symbols - replacing them \n",
    "text = text[1302:]\n",
    "text = text.replace('\\n',' ')    # replacing '\\n' with '' simply removes the sequence\n",
    "text = text.replace('\\r',' ')"
   ]
  },
  {
   "cell_type": "markdown",
   "metadata": {
    "deletable": true,
    "editable": true
   },
   "source": [
    "Lets see how the first 1000 characters of our text looks now!"
   ]
  },
  {
   "cell_type": "code",
   "execution_count": 15,
   "metadata": {
    "collapsed": false,
    "deletable": true,
    "editable": true
   },
   "outputs": [
    {
     "data": {
      "text/plain": [
       "\"is eyes she eclipses and predominates the whole of her sex. it was not that he felt any emotion akin to love for irene adler. all emotions, and that one particularly, were abhorrent to his cold, precise but admirably balanced mind. he was, i take it, the most perfect reasoning and observing machine that the world has seen, but as a lover he would have placed himself in a false position. he never spoke of the softer passions, save with a gibe and a sneer. they were admirable things for the observer--excellent for drawing the veil from men's motives and actions. but for the trained reasoner to admit such intrusions into his own delicate and finely adjusted temperament was to introduce a distracting factor which might throw a doubt upon all his mental results. grit in a sensitive instrument, or a crack in one of his own high-power lenses, would not be more disturbing than a strong emotion in a nature such as his. and yet there was but one woman to him, and that woman was the late irene ad\""
      ]
     },
     "execution_count": 15,
     "metadata": {},
     "output_type": "execute_result"
    }
   ],
   "source": [
    "### print out the first 1000 characters of the raw text to get a sense of what we need to throw out\n",
    "text[:1000]"
   ]
  },
  {
   "cell_type": "markdown",
   "metadata": {
    "deletable": true,
    "editable": true
   },
   "source": [
    "<a id='TODO_3'></a>\n",
    "\n",
    "#### TODO: finish cleaning the text\n",
    "\n",
    "Lets make sure we haven't left any other non-english characters lurking around in the depths of the text.  You can do this by ennumerating all the text's unique characters, examining them, and then replacing any unwanted (non-english) characters with empty spaces!  Once we find all of the text's unique characters, we can remove all of the non-english ones in the next cell.  Note: don't remove necessary punctuation marks!"
   ]
  },
  {
   "cell_type": "code",
   "execution_count": 16,
   "metadata": {
    "collapsed": false,
    "deletable": true,
    "editable": true
   },
   "outputs": [
    {
     "name": "stdout",
     "output_type": "stream",
     "text": [
      "[' ', ',', '-', '.', ':', ';', 'a', 'b', 'c', 'd', 'e', 'f', 'g', 'h', 'i', 'j', 'k', 'l', 'm', 'n', 'o', 'p', 'q', 'r', 's', 't', 'u', 'v', 'w', 'x', 'y', 'z']\n",
      "32\n"
     ]
    }
   ],
   "source": [
    "### TODO: list all unique characters in the text and remove any non-english ones\n",
    "# find all unique characters in the text\n",
    "\n",
    "#delete numbers\n",
    "for i in range(10):\n",
    "    text = text.replace(str(i),'')\n",
    "    \n",
    "unwanted = ['à', 'â', 'è', 'é', '\\ufeff',           \n",
    "            '(', ')',  '/','[', ']',\n",
    "           '$', '%', '&','@','*','\"',\", \",\"?\",\"!\",\"'\"]\n",
    "\n",
    "for c in unwanted:\n",
    "    text = text.replace(c,'')\n",
    "\n",
    "chars = sorted(list(set(text)))\n",
    "print(chars)\n",
    "print(len(chars)) #Forced this to be 32, as following writing suggested."
   ]
  },
  {
   "cell_type": "markdown",
   "metadata": {
    "deletable": true,
    "editable": true
   },
   "source": [
    "With your chosen characters removed print out the first few hundred lines again just to double check that everything looks good."
   ]
  },
  {
   "cell_type": "code",
   "execution_count": 17,
   "metadata": {
    "collapsed": false,
    "deletable": true,
    "editable": true
   },
   "outputs": [
    {
     "data": {
      "text/plain": [
       "'is eyes she eclipses and predominates the whole of her sex. it was not that he felt any emotion akin to love for irene adler. all emotionsand that one particularlywere abhorrent to his coldprecise but admirably balanced mind. he wasi take itthe most perfect reasoning and observing machine that the world has seenbut as a lover he would have placed himself in a false position. he never spoke of the softer passionssave with a gibe and a sneer. they were admirable things for the observer--excellent for drawing the veil from mens motives and actions. but for the trained reasoner to admit such intrusions into his own delicate and finely adjusted temperament was to introduce a distracting factor which might throw a doubt upon all his mental results. grit in a sensitive instrumentor a crack in one of his own high-power lenseswould not be more disturbing than a strong emotion in a nature such as his. and yet there was but one woman to himand that woman was the late irene adlerof dubious and questionable memory.  i had seen little of holmes lately. my marriage had drifted us away from each other. my own complete happinessand the home-centred interests which rise up around the man who first finds himself master of his own establishmentwere sufficient to absorb all my attentionwhile holmeswho loathed every form of society with his whole bohemian soulremained in our lodgings in baker streetburied among his old booksand alternating from week to week between cocaine and ambitionthe drowsiness of the drugand the fierce energy of his own keen nature. he was stillas everdeeply attracted by the study of crimeand occupied his immense faculties and extraordinary powers of observation in following out those cluesand clearing up those mysteries which had been abandoned as hopeless by the official police. from time to time i heard some vague account of his doings: of his summons to odessa in the case of the trepoff murderof his clearing up of the singular tragedy of the atkinson brothers a'"
      ]
     },
     "execution_count": 17,
     "metadata": {},
     "output_type": "execute_result"
    }
   ],
   "source": [
    "### print out the first 2000 characters of the raw text to get a sense of what we need to throw out\n",
    "text[:2000]"
   ]
  },
  {
   "cell_type": "markdown",
   "metadata": {
    "deletable": true,
    "editable": true
   },
   "source": [
    "Now that we have thrown out a good number of non-English characters/character sequences lets print out some statistics about the dataset - including number of total characters and number of unique characters."
   ]
  },
  {
   "cell_type": "code",
   "execution_count": 18,
   "metadata": {
    "collapsed": false,
    "deletable": true,
    "editable": true
   },
   "outputs": [
    {
     "name": "stdout",
     "output_type": "stream",
     "text": [
      "this corpus has 556920 total number of characters\n",
      "this corpus has 32 unique characters\n"
     ]
    }
   ],
   "source": [
    "# count the number of unique characters in the text\n",
    "chars = sorted(list(set(text)))\n",
    "\n",
    "# print some of the text, as well as statistics\n",
    "print (\"this corpus has \" +  str(len(text)) + \" total number of characters\")\n",
    "print (\"this corpus has \" +  str(len(chars)) + \" unique characters\")"
   ]
  },
  {
   "cell_type": "markdown",
   "metadata": {
    "deletable": true,
    "editable": true
   },
   "source": [
    "## 2.3  Cutting data into input/output pairs\n",
    "\n",
    "Now that we have our text all cleaned up, how can we use it to train a model to generate sentences automatically?  First we need to train a machine learning model - and in order to do that we need a set of input/output pairs for a model to train on.  How can we create a set of input/output pairs from our text to train on?\n",
    "\n",
    "Remember in part 1 of this notebook how we used a sliding window to extract input/output pairs from a time series?  We do the same thing here!  We slide a window of length $T$ along our giant text corpus - everything in the window becomes one input while the character following becomes its corresponding output.  This process of extracting input/output pairs is illustrated in the gif below on a small example text using a window size of T = 4.\n",
    "\n",
    "<img src=\"images/text_windowing_training.gif\" width=400 height=400/>\n",
    "\n",
    "Notice one aspect of the sliding window in this gif that does not mirror the analaogous gif for time series shown in part 1 of the notebook - we do not need to slide the window along one character at a time but can move by a fixed step size $M$ greater than 1 (in the gif indeed $M = 1$).  This is done with large input texts (like ours which has over 500,000 characters!) when sliding the window along one character at a time we would create far too many input/output pairs to be able to reasonably compute with.\n",
    "\n",
    "More formally lets denote our text corpus - which is one long string of characters - as follows\n",
    "\n",
    "$$s_{0},s_{1},s_{2},...,s_{P}$$\n",
    "\n",
    "where $P$ is the length of the text (again for our text $P \\approx 500,000!$).  Sliding a window of size T = 5 with a step length of M = 1 (these are the parameters shown in the gif above) over this sequence produces the following list of input/output pairs\n",
    "\n",
    "\n",
    "$$\\begin{array}{c|c}\n",
    "\\text{Input} & \\text{Output}\\\\\n",
    "\\hline \\color{CornflowerBlue} {\\langle s_{1},s_{2},s_{3},s_{4}\\rangle} & \\color{Goldenrod}{ s_{5}} \\\\\n",
    "\\ \\color{CornflowerBlue} {\\langle s_{2},s_{3},s_{4},s_{5} \\rangle } & \\color{Goldenrod} {s_{6} } \\\\\n",
    "\\color{CornflowerBlue}  {\\vdots} & \\color{Goldenrod} {\\vdots}\\\\\n",
    "\\color{CornflowerBlue} { \\langle s_{P-4},s_{P-3},s_{P-2},s_{P-1} \\rangle } & \\color{Goldenrod} {s_{P}}\n",
    "\\end{array}$$\n",
    "\n",
    "Notice here that each input is a sequence (or vector) of 4 characters (and in general has length equal to the window size T) while each corresponding output is a single character.  We created around P total number of input/output pairs  (for general step size M we create around ceil(P/M) pairs)."
   ]
  },
  {
   "cell_type": "markdown",
   "metadata": {
    "deletable": true,
    "editable": true
   },
   "source": [
    "<a id='TODO_4'></a>\n",
    "\n",
    "Now its time for you to window the input time series as described above! \n",
    "\n",
    "**TODO:** Create a function that runs a sliding window along the input text and creates associated input/output pairs.  A skeleton function has been provided for you.  Note that this function should input a) the text  b) the window size and c) the step size, and return the input/output sequences.  Note: the return items should be *lists* - not numpy arrays."
   ]
  },
  {
   "cell_type": "code",
   "execution_count": 19,
   "metadata": {
    "collapsed": true,
    "deletable": true,
    "editable": true
   },
   "outputs": [],
   "source": [
    "### TODO: fill out the function below that transforms the input text and window-size into a set of input/output pairs for use with our RNN model\n",
    "def window_transform_series(text,window_size,step_size):\n",
    "    # containers for input/output pairs\n",
    "    inputs = []\n",
    "    outputs = []\n",
    "    n = len(text)\n",
    "    i = 0\n",
    "    while i + window_size < n:\n",
    "        temp = ''\n",
    "        for j in range(window_size):\n",
    "            temp+=text[i+j]\n",
    "        inputs.append(temp)\n",
    "        outputs.append(text[i+window_size])\n",
    "        i += step_size\n",
    "    return inputs,outputs"
   ]
  },
  {
   "cell_type": "markdown",
   "metadata": {
    "deletable": true,
    "editable": true
   },
   "source": [
    "With our function complete we can now use it to produce input/output pairs!  We employ the function in the next cell, where the window_size = 50 and step_size = 5."
   ]
  },
  {
   "cell_type": "code",
   "execution_count": 20,
   "metadata": {
    "collapsed": true,
    "deletable": true,
    "editable": true
   },
   "outputs": [],
   "source": [
    "# run your text window-ing function \n",
    "window_size = 100\n",
    "step_size = 5\n",
    "inputs, outputs = window_transform_series(text,window_size,step_size)"
   ]
  },
  {
   "cell_type": "markdown",
   "metadata": {
    "deletable": true,
    "editable": true
   },
   "source": [
    "Lets print out a few input/output pairs to verify that we have made the right sort of stuff!"
   ]
  },
  {
   "cell_type": "code",
   "execution_count": 21,
   "metadata": {
    "collapsed": false,
    "deletable": true,
    "editable": true
   },
   "outputs": [
    {
     "name": "stdout",
     "output_type": "stream",
     "text": [
      "input = is eyes she eclipses and predominates the whole of her sex. it was not that he felt any emotion akin\n",
      "output =  \n",
      "--------------\n",
      "input = for drawing the veil from mens motives and actions. but for the trained reasoner to admit such intru\n",
      "output = s\n"
     ]
    }
   ],
   "source": [
    "# print out a few of the input/output pairs to verify that we've made the right kind of stuff to learn from\n",
    "print('input = ' + inputs[0])\n",
    "print('output = ' + outputs[0])\n",
    "print('--------------')\n",
    "print('input = ' + inputs[100])\n",
    "print('output = ' + outputs[100])"
   ]
  },
  {
   "cell_type": "markdown",
   "metadata": {
    "deletable": true,
    "editable": true
   },
   "source": [
    "Looks good!"
   ]
  },
  {
   "cell_type": "markdown",
   "metadata": {
    "deletable": true,
    "editable": true
   },
   "source": [
    "## 2.4  Wait, what kind of problem is text generation again?\n",
    "\n",
    "In part 1 of this notebook we used the same pre-processing technique - the sliding window - to produce a set of training input/output pairs to tackle the problem of time series prediction *by treating the problem as one of regression*.  So what sort of problem do we have here now, with text generation?  Well, the time series prediction was a regression problem because the output (one value of the time series) was a continuous value.  Here - for character-by-character text generation - each output is a *single character*.  This isn't a continuous value - but a distinct class - therefore **character-by-character text generation is a classification problem**.  \n",
    "\n",
    "How many classes are there in the data?  Well, the number of classes is equal to the number of unique characters we have to predict!  How many of those were there in our dataset again?  Lets print out the value again."
   ]
  },
  {
   "cell_type": "code",
   "execution_count": 22,
   "metadata": {
    "collapsed": false,
    "deletable": true,
    "editable": true
   },
   "outputs": [
    {
     "name": "stdout",
     "output_type": "stream",
     "text": [
      "this corpus has 32 unique characters\n"
     ]
    }
   ],
   "source": [
    "# print out the number of unique characters in the dataset\n",
    "chars = sorted(list(set(text)))\n",
    "print (\"this corpus has \" +  str(len(chars)) + \" unique characters\")"
   ]
  },
  {
   "cell_type": "markdown",
   "metadata": {
    "deletable": true,
    "editable": true
   },
   "source": [
    "Rockin' - so we have a multi-class classification problem on our hands!"
   ]
  },
  {
   "cell_type": "markdown",
   "metadata": {
    "deletable": true,
    "editable": true
   },
   "source": [
    "## 2.5  One-hot encoding characters\n",
    "\n",
    "There's just one last issue we have to deal with before tackle: machine learning algorithm deal with numerical data and all of our input/output pairs are characters.  So we just need to transform our characters into equivalent numerical values.  The most common way of doing this is via a 'one-hot encoding' scheme.  Here's how it works.\n",
    "\n",
    "We transform each character in our inputs/outputs into a vector with length equal to the number of unique characters in our text (we have 32 unique characters in our current text).  This vector is all zeros except one lcoation where we place a 1 - and this location is unique to each character type.  e.g., we transform 'a', 'b', and 'c' as follows\n",
    "\n",
    "$$a\\longleftarrow\\left[\\begin{array}{c}\n",
    "1\\\\\n",
    "0\\\\\n",
    "0\\\\\n",
    "\\vdots\\\\\n",
    "0\\\\\n",
    "0\n",
    "\\end{array}\\right]\\,\\,\\,\\,\\,\\,\\,b\\longleftarrow\\left[\\begin{array}{c}\n",
    "0\\\\\n",
    "1\\\\\n",
    "0\\\\\n",
    "\\vdots\\\\\n",
    "0\\\\\n",
    "0\n",
    "\\end{array}\\right]\\,\\,\\,\\,\\,c\\longleftarrow\\left[\\begin{array}{c}\n",
    "0\\\\\n",
    "0\\\\\n",
    "1\\\\\n",
    "\\vdots\\\\\n",
    "0\\\\\n",
    "0 \n",
    "\\end{array}\\right]\\cdots$$\n",
    "\n",
    "where each vector has 32 entries (or in general: number of entries = number of unique characters in text)."
   ]
  },
  {
   "cell_type": "markdown",
   "metadata": {
    "deletable": true,
    "editable": true
   },
   "source": [
    "The first practical step towards doing this one-hot encoding is to form a dictionary mapping each unique character to a unique integer, and one dictionary to do the reverse mapping.  We can then use these dictionaries to quickly make our one-hot encodings, as well as re-translate (from integers to characters) the results of our trained RNN classification model."
   ]
  },
  {
   "cell_type": "code",
   "execution_count": 23,
   "metadata": {
    "collapsed": true,
    "deletable": true,
    "editable": true
   },
   "outputs": [],
   "source": [
    "# this dictionary is a function mapping each unique character to a unique integer\n",
    "chars_to_indices = dict((c, i) for i, c in enumerate(chars))  # map each unique character to unique integer\n",
    "\n",
    "# this dictionary is a function mapping each unique integer back to a unique character\n",
    "indices_to_chars = dict((i, c) for i, c in enumerate(chars))  # map each unique integer back to unique character"
   ]
  },
  {
   "cell_type": "markdown",
   "metadata": {
    "deletable": true,
    "editable": true
   },
   "source": [
    "Now we can transform our input/output pairs - consisting of characters - to equivalent input/output pairs made up of one-hot encoded vectors.  In the next cell we provide a function for doing just this: it takes in the raw character input/outputs and returns their numerical versions.  In particular the numerical input is given as $\\bf{X}$, and numerical output is given as the $\\bf{y}$"
   ]
  },
  {
   "cell_type": "code",
   "execution_count": 24,
   "metadata": {
    "collapsed": true,
    "deletable": true,
    "editable": true
   },
   "outputs": [],
   "source": [
    "# transform character-based input/output into equivalent numerical versions\n",
    "def encode_io_pairs(text,window_size,step_size):\n",
    "    # number of unique chars\n",
    "    chars = sorted(list(set(text)))\n",
    "    num_chars = len(chars)\n",
    "    \n",
    "    # cut up text into character input/output pairs\n",
    "    inputs, outputs = window_transform_series(text,window_size,step_size)\n",
    "    \n",
    "    # create empty vessels for one-hot encoded input/output\n",
    "    X = np.zeros((len(inputs), window_size, num_chars), dtype=np.bool)\n",
    "    y = np.zeros((len(inputs), num_chars), dtype=np.bool)\n",
    "    \n",
    "    # loop over inputs/outputs and tranform and store in X/y\n",
    "    for i, sentence in enumerate(inputs):\n",
    "        for t, char in enumerate(sentence):\n",
    "            X[i, t, chars_to_indices[char]] = 1\n",
    "        y[i, chars_to_indices[outputs[i]]] = 1\n",
    "        \n",
    "    return X,y"
   ]
  },
  {
   "cell_type": "markdown",
   "metadata": {
    "deletable": true,
    "editable": true
   },
   "source": [
    "Now run the one-hot encoding function by activating the cell below and transform our input/output pairs!"
   ]
  },
  {
   "cell_type": "code",
   "execution_count": 25,
   "metadata": {
    "collapsed": false,
    "deletable": true,
    "editable": true
   },
   "outputs": [
    {
     "name": "stdout",
     "output_type": "stream",
     "text": [
      "(111374, 50, 32)\n",
      "(111374, 32)\n"
     ]
    }
   ],
   "source": [
    "# use your function\n",
    "window_size = 50\n",
    "step_size = 5\n",
    "X,y = encode_io_pairs(text,window_size,step_size)\n",
    "print(X.shape)\n",
    "print(y.shape)"
   ]
  },
  {
   "cell_type": "markdown",
   "metadata": {
    "deletable": true,
    "editable": true
   },
   "source": [
    "<a id='TODO_5'></a>\n",
    "\n",
    "## 2.6 Setting up our RNN\n",
    "\n",
    "With our dataset loaded and the input/output pairs extracted / transformed we can now begin setting up our RNN for training.  Again we will use Keras to quickly build a single hidden layer RNN - where our hidden layer consists of LTSM modules.\n",
    "\n",
    "Time to get to work: build a 3 layer RNN model of the following specification\n",
    "\n",
    "- layer 1 should be an LSTM module with 200 hidden units\n",
    "- layer 2 should be a linear module, fully connected, with 32 hidden units\n",
    "- layer 3 should be a softmax activation ( since we are solving a *multiclass classification*)\n",
    "- Use the **categorical_crossentropy** loss \n",
    "\n",
    "This network can be constructed using just a few lines - as with the RNN network you made in part 1 of this notebook.  See e.g., the [general Keras documentation](https://keras.io/getting-started/sequential-model-guide/) and the [LTSM documentation in particular](https://keras.io/layers/recurrent/) for examples of how to quickly use Keras to build neural network models."
   ]
  },
  {
   "cell_type": "code",
   "execution_count": 26,
   "metadata": {
    "collapsed": true,
    "deletable": true,
    "editable": true
   },
   "outputs": [],
   "source": [
    "### necessary functions from the keras library\n",
    "from keras.models import Sequential\n",
    "from keras.layers import Dense, Activation, LSTM\n",
    "from keras.optimizers import RMSprop\n",
    "from keras.utils.data_utils import get_file\n",
    "import keras\n",
    "import random\n",
    "\n",
    "# TODO build the required RNN model: a single LSTM hidden layer with softmax activation, categorical_crossentropy loss \n",
    "\n",
    "\n",
    "optimizer = keras.optimizers.RMSprop(lr=0.001, rho=0.9, epsilon=1e-08, decay=0.0)\n",
    "\n",
    "model = Sequential()\n",
    "model.add(LSTM(200, input_shape=(50,32))) # there are 32 samples of 50 dimension window.\n",
    "model.add(Dense(32, activation='softmax')) # equivalent of adding a Dense Layer and Activation Layer\n",
    "model.compile(loss='categorical_crossentropy', optimizer=optimizer)\n"
   ]
  },
  {
   "cell_type": "markdown",
   "metadata": {
    "deletable": true,
    "editable": true
   },
   "source": [
    "## 2.7  Training our RNN model for text generation\n",
    "\n",
    "With our RNN setup we can now train it!  Lets begin by trying it out on a small subset of the larger version.  In the next cell we take the first 10,000 input/output pairs from our training database to learn on."
   ]
  },
  {
   "cell_type": "code",
   "execution_count": 27,
   "metadata": {
    "collapsed": true,
    "deletable": true,
    "editable": true
   },
   "outputs": [],
   "source": [
    "# a small subset of our input/output pairs\n",
    "Xsmall = X[:10000,:,:]\n",
    "ysmall = y[:10000,:]"
   ]
  },
  {
   "cell_type": "markdown",
   "metadata": {
    "deletable": true,
    "editable": true
   },
   "source": [
    "Now lets fit our model!"
   ]
  },
  {
   "cell_type": "code",
   "execution_count": 31,
   "metadata": {
    "collapsed": false,
    "deletable": true,
    "editable": true
   },
   "outputs": [
    {
     "name": "stdout",
     "output_type": "stream",
     "text": [
      "Epoch 1/20\n",
      "10000/10000 [==============================] - 10s - loss: 2.2703    \n",
      "Epoch 2/20\n",
      "10000/10000 [==============================] - 10s - loss: 2.2243    \n",
      "Epoch 3/20\n",
      "10000/10000 [==============================] - 10s - loss: 2.1897    \n",
      "Epoch 4/20\n",
      "10000/10000 [==============================] - 10s - loss: 2.1530    \n",
      "Epoch 5/20\n",
      "10000/10000 [==============================] - 10s - loss: 2.1220    \n",
      "Epoch 6/20\n",
      "10000/10000 [==============================] - 10s - loss: 2.0843    \n",
      "Epoch 7/20\n",
      "10000/10000 [==============================] - 10s - loss: 2.0532    \n",
      "Epoch 8/20\n",
      "10000/10000 [==============================] - 10s - loss: 2.0145    \n",
      "Epoch 9/20\n",
      "10000/10000 [==============================] - 10s - loss: 1.9827    \n",
      "Epoch 10/20\n",
      "10000/10000 [==============================] - 10s - loss: 1.9421    \n",
      "Epoch 11/20\n",
      "10000/10000 [==============================] - 10s - loss: 1.9063    \n",
      "Epoch 12/20\n",
      "10000/10000 [==============================] - 10s - loss: 1.8619    \n",
      "Epoch 13/20\n",
      "10000/10000 [==============================] - 10s - loss: 1.8209    \n",
      "Epoch 14/20\n",
      "10000/10000 [==============================] - 10s - loss: 1.7743    \n",
      "Epoch 15/20\n",
      "10000/10000 [==============================] - 10s - loss: 1.7272    \n",
      "Epoch 16/20\n",
      "10000/10000 [==============================] - 10s - loss: 1.6804    \n",
      "Epoch 17/20\n",
      "10000/10000 [==============================] - 10s - loss: 1.6272    \n",
      "Epoch 18/20\n",
      "10000/10000 [==============================] - 10s - loss: 1.5680    \n",
      "Epoch 19/20\n",
      "10000/10000 [==============================] - 10s - loss: 1.5145    \n",
      "Epoch 20/20\n",
      "10000/10000 [==============================] - 10s - loss: 1.4491    \n"
     ]
    },
    {
     "data": {
      "text/plain": [
       "<keras.callbacks.History at 0x7fa73eadfda0>"
      ]
     },
     "execution_count": 31,
     "metadata": {},
     "output_type": "execute_result"
    }
   ],
   "source": [
    "# train the model\n",
    "model.fit(Xsmall, ysmall, batch_size=100, epochs=20,verbose = 1)"
   ]
  },
  {
   "cell_type": "markdown",
   "metadata": {
    "deletable": true,
    "editable": true
   },
   "source": [
    "How do we make a given number of predictions (characters) based on this fitted model?   \n",
    "\n",
    "First we predict the next character after following any chunk of characters in the text of length equal to our chosen window size.  Then we remove the first character in our input sequence and tack our prediction onto the end.  This gives us a slightly changed sequence of inputs that still has length equal to the size of our window.  We then feed in this updated input sequence into the model to predict the another character.  Together then we have two predicted characters following our original input sequence.  Repeating this process N times gives us N predicted characters.\n",
    "\n",
    "In the next Python cell we provide you with a completed function that does just this - it makes predictions when given a) a trained RNN model, b) a subset of (window_size) characters from the text, and c) a number of characters to predict (to follow our input subset)."
   ]
  },
  {
   "cell_type": "code",
   "execution_count": 1,
   "metadata": {
    "collapsed": true,
    "deletable": true,
    "editable": true
   },
   "outputs": [],
   "source": [
    "# function that uses trained model to predict a desired number of future characters\n",
    "def predict_next_chars(model,input_chars,num_to_predict):     \n",
    "    # create output\n",
    "    predicted_chars = ''\n",
    "    for i in range(num_to_predict):\n",
    "        # convert this round's predicted characters to numerical input    \n",
    "        x_test = np.zeros((1, window_size, len(chars)))\n",
    "        for t, char in enumerate(input_chars):\n",
    "            x_test[0, t, chars_to_indices[char]] = 1.\n",
    "\n",
    "        # make this round's prediction\n",
    "        test_predict = model.predict(x_test,verbose = 0)[0]\n",
    "\n",
    "        # translate numerical prediction back to characters\n",
    "        r = np.argmax(test_predict)                           # predict class of each test input\n",
    "        d = indices_to_chars[r] \n",
    "\n",
    "        # update predicted_chars and input\n",
    "        predicted_chars+=d\n",
    "        input_chars+=d\n",
    "        input_chars = input_chars[1:]\n",
    "    return predicted_chars"
   ]
  },
  {
   "cell_type": "markdown",
   "metadata": {
    "deletable": true,
    "editable": true
   },
   "source": [
    "<a id='TODO_6'></a>\n",
    "\n",
    "With your trained model try a few subsets of the complete text as input - note the length of each must be exactly equal to the window size.  For each subset us the function above to predict the next 100 characters that follow each input."
   ]
  },
  {
   "cell_type": "code",
   "execution_count": 2,
   "metadata": {
    "collapsed": false,
    "deletable": true,
    "editable": true
   },
   "outputs": [
    {
     "ename": "NameError",
     "evalue": "name 'text' is not defined",
     "output_type": "error",
     "traceback": [
      "\u001b[0;31m---------------------------------------------------------------------------\u001b[0m",
      "\u001b[0;31mNameError\u001b[0m                                 Traceback (most recent call last)",
      "\u001b[0;32m<ipython-input-2-41ce5e6782bc>\u001b[0m in \u001b[0;36m<module>\u001b[0;34m()\u001b[0m\n\u001b[1;32m      5\u001b[0m \u001b[0;32mfor\u001b[0m \u001b[0ms\u001b[0m \u001b[0;32min\u001b[0m \u001b[0mstart_inds\u001b[0m\u001b[0;34m:\u001b[0m\u001b[0;34m\u001b[0m\u001b[0m\n\u001b[1;32m      6\u001b[0m     \u001b[0mstart_index\u001b[0m \u001b[0;34m=\u001b[0m \u001b[0ms\u001b[0m\u001b[0;34m\u001b[0m\u001b[0m\n\u001b[0;32m----> 7\u001b[0;31m     \u001b[0minput_chars\u001b[0m \u001b[0;34m=\u001b[0m \u001b[0mtext\u001b[0m\u001b[0;34m[\u001b[0m\u001b[0mstart_index\u001b[0m\u001b[0;34m:\u001b[0m \u001b[0mstart_index\u001b[0m \u001b[0;34m+\u001b[0m \u001b[0mwindow_size\u001b[0m\u001b[0;34m]\u001b[0m\u001b[0;34m\u001b[0m\u001b[0m\n\u001b[0m\u001b[1;32m      8\u001b[0m \u001b[0;34m\u001b[0m\u001b[0m\n\u001b[1;32m      9\u001b[0m     \u001b[0;31m# use the prediction function\u001b[0m\u001b[0;34m\u001b[0m\u001b[0;34m\u001b[0m\u001b[0m\n",
      "\u001b[0;31mNameError\u001b[0m: name 'text' is not defined"
     ]
    }
   ],
   "source": [
    "# TODO: choose an input sequence and use the prediction function in the previous Python cell to predict 100 characters following it\n",
    "\n",
    "# get an appropriately sized chunk of characters from the text\n",
    "start_inds = [1, 400, 2000]\n",
    "for s in start_inds:\n",
    "    start_index = s\n",
    "    input_chars = text[start_index: start_index + window_size]\n",
    "\n",
    "    # use the prediction function\n",
    "    predict_input = predict_next_chars(model,input_chars,num_to_predict = 100)\n",
    "\n",
    "    # print out input characters\n",
    "    print('------------------')\n",
    "    input_line = 'input chars = ' + '\\n' +  input_chars + '\"' + '\\n'\n",
    "    print(input_line)\n",
    "\n",
    "    # print out predicted characters\n",
    "    line = 'predicted chars = ' + '\\n' +  predict_input + '\"' + '\\n'\n",
    "    print(line)"
   ]
  },
  {
   "cell_type": "markdown",
   "metadata": {
    "deletable": true,
    "editable": true
   },
   "source": [
    "This looks ok, but not great.  Now lets try the same experiment with a larger chunk of the data - with the first 100,000 input/output pairs.  \n",
    "\n",
    "Tuning RNNs for a typical character dataset like the one we will use here is a computationally intensive endeavour and thus timely on a typical CPU.  Using a reasonably sized cloud-based GPU can speed up training by a factor of 10.  Also because of the long training time it is highly recommended that you carefully write the output of each step of your process to file.  This is so that all of your results are saved even if you close the web browser you're working out of, as the processes will continue processing in the background but variables/output in the notebook system will not update when you open it again.\n",
    "\n",
    "In the next cell we show you how to create a text file in Python and record data to it.  This sort of setup can be used to record your final predictions."
   ]
  },
  {
   "cell_type": "code",
   "execution_count": 34,
   "metadata": {
    "collapsed": false,
    "deletable": true,
    "editable": true
   },
   "outputs": [
    {
     "data": {
      "text/plain": [
       "'this is only a test \\nthe value of x is 2\\n'"
      ]
     },
     "execution_count": 34,
     "metadata": {},
     "output_type": "execute_result"
    }
   ],
   "source": [
    "### A simple way to write output to file\n",
    "f = open('my_test_output.txt', 'w')              # create an output file to write too\n",
    "f.write('this is only a test ' + '\\n')           # print some output text\n",
    "x = 2\n",
    "f.write('the value of x is ' + str(x) + '\\n')    # record a variable value\n",
    "f.close()     \n",
    "\n",
    "# print out the contents of my_test_output.txt\n",
    "f = open('my_test_output.txt', 'r')              # create an output file to write too\n",
    "f.read()"
   ]
  },
  {
   "cell_type": "markdown",
   "metadata": {
    "deletable": true,
    "editable": true
   },
   "source": [
    "For the same reason we want to record the weights of our RNN model to file each epoch we make progress.  Keras has a built in module that will allow us to do that - called a [checkpoint](https://keras.io/callbacks/#modelcheckpoint) - which we activate in the next cell."
   ]
  },
  {
   "cell_type": "code",
   "execution_count": 35,
   "metadata": {
    "collapsed": true,
    "deletable": true,
    "editable": true
   },
   "outputs": [],
   "source": [
    "# Use keras's checkpoint module to record the best weights of our model while training\n",
    "import keras.callbacks\n",
    "path=\"best_RNN_weights.hdf5\"\n",
    "checkpoint = keras.callbacks.ModelCheckpoint(path, monitor='loss', verbose=1, save_best_only=True, mode='min')\n",
    "callbacks_list = [checkpoint]"
   ]
  },
  {
   "cell_type": "markdown",
   "metadata": {
    "deletable": true,
    "editable": true
   },
   "source": [
    "With these two recording devices we can now more safely perform experiments on larger portions of the text.  In the next cell we will use the first 100,000 input/output pairs to train our RNN model."
   ]
  },
  {
   "cell_type": "code",
   "execution_count": 37,
   "metadata": {
    "collapsed": false,
    "deletable": true,
    "editable": true
   },
   "outputs": [
    {
     "name": "stdout",
     "output_type": "stream",
     "text": [
      "Epoch 1/20\n",
      "\r",
      "   100/100000 [..............................] - ETA: 108s - loss: 1.4329"
     ]
    },
    {
     "name": "stderr",
     "output_type": "stream",
     "text": [
      "/home/carnd/anaconda3/envs/dl/lib/python3.5/site-packages/keras/models.py:834: UserWarning: The `nb_epoch` argument in `fit` has been renamed `epochs`.\n",
      "  warnings.warn('The `nb_epoch` argument in `fit` '\n"
     ]
    },
    {
     "name": "stdout",
     "output_type": "stream",
     "text": [
      "100000/100000 [==============================] - 105s - loss: 1.7585   \n",
      "Epoch 2/20\n",
      "100000/100000 [==============================] - 105s - loss: 1.6887   \n",
      "Epoch 3/20\n",
      "100000/100000 [==============================] - 105s - loss: 1.6257   \n",
      "Epoch 4/20\n",
      "100000/100000 [==============================] - 105s - loss: 1.5679   \n",
      "Epoch 5/20\n",
      "100000/100000 [==============================] - 105s - loss: 1.5139   \n",
      "Epoch 6/20\n",
      "100000/100000 [==============================] - 105s - loss: 1.4617   \n",
      "Epoch 7/20\n",
      "100000/100000 [==============================] - 105s - loss: 1.4108   \n",
      "Epoch 8/20\n",
      "100000/100000 [==============================] - 105s - loss: 1.3611   \n",
      "Epoch 9/20\n",
      "100000/100000 [==============================] - 105s - loss: 1.3126   \n",
      "Epoch 10/20\n",
      "100000/100000 [==============================] - 105s - loss: 1.2652   \n",
      "Epoch 11/20\n",
      "100000/100000 [==============================] - 105s - loss: 1.2192   \n",
      "Epoch 12/20\n",
      "100000/100000 [==============================] - 105s - loss: 1.1742   \n",
      "Epoch 13/20\n",
      "100000/100000 [==============================] - 105s - loss: 1.1307   \n",
      "Epoch 14/20\n",
      "100000/100000 [==============================] - 105s - loss: 1.0891   \n",
      "Epoch 15/20\n",
      "100000/100000 [==============================] - 105s - loss: 1.0486   \n",
      "Epoch 16/20\n",
      "100000/100000 [==============================] - 105s - loss: 1.0103   \n",
      "Epoch 17/20\n",
      "100000/100000 [==============================] - 105s - loss: 0.9766   \n",
      "Epoch 18/20\n",
      "100000/100000 [==============================] - 105s - loss: 0.9435   \n",
      "Epoch 19/20\n",
      "100000/100000 [==============================] - 105s - loss: 0.9141   \n",
      "Epoch 20/20\n",
      "100000/100000 [==============================] - 105s - loss: 0.8847   \n",
      "-------------------\n",
      "\n",
      "input chars = \n",
      "s eyes she eclipses and predominates the whole of \"\n",
      "\n",
      "predicted chars = \n",
      "on the left the more companion stationand that the other way for a very remanked the man who though \"\n",
      "\n",
      "-------------------\n",
      "\n",
      "input chars = \n",
      "softer passionssave with a gibe and a sneer. they \"\n",
      "\n",
      "predicted chars = \n",
      "was a man adders and lotther outsout domesthe mornes and looked mery to marro.  the coman whe could \"\n",
      "\n",
      "-------------------\n",
      "\n",
      "input chars = \n",
      "t trincomaleeand finally of the mission which he h\"\n",
      "\n",
      "predicted chars = \n",
      "ad scon of yer. i was againyor were down the dayterer. morning moct and will do what the counn stoot\"\n",
      "\n"
     ]
    }
   ],
   "source": [
    "# a small subset of our input/output pairs\n",
    "Xlarge = X[:100000,:,:]\n",
    "ylarge = y[:100000,:]\n",
    "\n",
    "# fit to our larger dataset\n",
    "model.fit(Xlarge, ylarge, batch_size=100, nb_epoch=20,verbose = 1)\n",
    "\n",
    "# TODO: choose an input sequence and use the prediction function in the previous Python cell to predict 100 characters following it\n",
    "# get an appropriately sized chunk of characters from the text\n",
    "f = open('RNN_output.txt', 'w')  # create an output file to write too\n",
    "start_inds = [1, 400, 2000]\n",
    "for s in start_inds:\n",
    "    start_index = s\n",
    "    input_chars = text[start_index: start_index + window_size]\n",
    "\n",
    "    # use the prediction function\n",
    "    predict_input = predict_next_chars(model,input_chars,num_to_predict = 100)\n",
    "\n",
    "    # print out input characters\n",
    "    line = '-------------------' + '\\n'\n",
    "    print(line)\n",
    "    f.write(line)\n",
    "\n",
    "    input_line = 'input chars = ' + '\\n' +  input_chars + '\"' + '\\n'\n",
    "    print(input_line)\n",
    "    f.write(input_line)\n",
    "\n",
    "    # print out predicted characters\n",
    "    predict_line = 'predicted chars = ' + '\\n' +  predict_input + '\"' + '\\n'\n",
    "    print(predict_line)\n",
    "    f.write(predict_line)\n",
    "f.close()"
   ]
  },
  {
   "cell_type": "code",
   "execution_count": null,
   "metadata": {
    "collapsed": true,
    "deletable": true,
    "editable": true
   },
   "outputs": [],
   "source": []
  }
 ],
 "metadata": {
  "anaconda-cloud": {},
  "kernelspec": {
   "display_name": "Python 3",
   "language": "python",
   "name": "python3"
  },
  "language_info": {
   "codemirror_mode": {
    "name": "ipython",
    "version": 3
   },
   "file_extension": ".py",
   "mimetype": "text/x-python",
   "name": "python",
   "nbconvert_exporter": "python",
   "pygments_lexer": "ipython3",
   "version": "3.5.3"
  }
 },
 "nbformat": 4,
 "nbformat_minor": 1
}
