{
 "cells": [
  {
   "cell_type": "markdown",
   "metadata": {},
   "source": [
    "# TV Script Generation\n",
    "In this project, you'll generate your own [Simpsons](https://en.wikipedia.org/wiki/The_Simpsons) TV scripts using RNNs.  You'll be using part of the [Simpsons dataset](https://www.kaggle.com/wcukierski/the-simpsons-by-the-data) of scripts from 27 seasons.  The Neural Network you'll build will generate a new TV script for a scene at [Moe's Tavern](https://simpsonswiki.com/wiki/Moe's_Tavern).\n",
    "## Get the Data\n",
    "The data is already provided for you.  You'll be using a subset of the original dataset.  It consists of only the scenes in Moe's Tavern.  This doesn't include other versions of the tavern, like \"Moe's Cavern\", \"Flaming Moe's\", \"Uncle Moe's Family Feed-Bag\", etc.."
   ]
  },
  {
   "cell_type": "code",
   "execution_count": 1,
   "metadata": {},
   "outputs": [],
   "source": [
    "\"\"\"\n",
    "DON'T MODIFY ANYTHING IN THIS CELL\n",
    "\"\"\"\n",
    "import helper\n",
    "\n",
    "data_dir = './data/simpsons/moes_tavern_lines.txt'\n",
    "text = helper.load_data(data_dir)\n",
    "# Ignore notice, since we don't use it for analysing the data\n",
    "text = text[81:]\n"
   ]
  },
  {
   "cell_type": "code",
   "execution_count": 2,
   "metadata": {},
   "outputs": [
    {
     "data": {
      "text/plain": [
       "\"Szyslak: (INTO PHONE) Moe's Tavern. Where the \""
      ]
     },
     "execution_count": 2,
     "metadata": {},
     "output_type": "execute_result"
    }
   ],
   "source": [
    "text[4:50]"
   ]
  },
  {
   "cell_type": "markdown",
   "metadata": {},
   "source": [
    "## Explore the Data\n",
    "Play around with `view_sentence_range` to view different parts of the data."
   ]
  },
  {
   "cell_type": "code",
   "execution_count": 2,
   "metadata": {},
   "outputs": [
    {
     "name": "stdout",
     "output_type": "stream",
     "text": [
      "Dataset Stats\n",
      "Roughly the number of unique words: 11492\n",
      "Number of scenes: 262\n",
      "Average number of sentences in each scene: 15.248091603053435\n",
      "Number of lines: 4257\n",
      "Average number of words in each line: 11.50434578341555\n",
      "\n",
      "The sentences 10 to 20:\n",
      "Moe_Szyslak: Ah, isn't that nice. Now, there is a politician who cares.\n",
      "Barney_Gumble: If I ever vote, it'll be for him. (BELCH)\n",
      "\n",
      "\n",
      "Barney_Gumble: Hey Homer, how's your neighbor's store doing?\n",
      "Homer_Simpson: Lousy. He just sits there all day. He'd have a great job if he didn't own the place. (CHUCKLES)\n",
      "Moe_Szyslak: (STRUGGLING WITH CORKSCREW) Crummy right-handed corkscrews! What does he sell?\n",
      "Homer_Simpson: Uh, well actually, Moe...\n",
      "HOMER_(CONT'D: I dunno.\n",
      "\n"
     ]
    }
   ],
   "source": [
    "view_sentence_range = (10, 20)\n",
    "\n",
    "\"\"\"\n",
    "DON'T MODIFY ANYTHING IN THIS CELL\n",
    "\"\"\"\n",
    "import numpy as np\n",
    "\n",
    "print('Dataset Stats')\n",
    "print('Roughly the number of unique words: {}'.format(len({word: None for word in text.split()})))\n",
    "scenes = text.split('\\n\\n')\n",
    "print('Number of scenes: {}'.format(len(scenes)))\n",
    "sentence_count_scene = [scene.count('\\n') for scene in scenes]\n",
    "print('Average number of sentences in each scene: {}'.format(np.average(sentence_count_scene)))\n",
    "\n",
    "sentences = [sentence for scene in scenes for sentence in scene.split('\\n')]\n",
    "print('Number of lines: {}'.format(len(sentences)))\n",
    "word_count_sentence = [len(sentence.split()) for sentence in sentences]\n",
    "print('Average number of words in each line: {}'.format(np.average(word_count_sentence)))\n",
    "\n",
    "print()\n",
    "print('The sentences {} to {}:'.format(*view_sentence_range))\n",
    "print('\\n'.join(text.split('\\n')[view_sentence_range[0]:view_sentence_range[1]]))"
   ]
  },
  {
   "cell_type": "markdown",
   "metadata": {},
   "source": [
    "## Implement Preprocessing Functions\n",
    "The first thing to do to any dataset is preprocessing.  Implement the following preprocessing functions below:\n",
    "- Lookup Table\n",
    "- Tokenize Punctuation\n",
    "\n",
    "### Lookup Table\n",
    "To create a word embedding, you first need to transform the words to ids.  In this function, create two dictionaries:\n",
    "- Dictionary to go from the words to an id, we'll call `vocab_to_int`\n",
    "- Dictionary to go from the id to word, we'll call `int_to_vocab`\n",
    "\n",
    "Return these dictionaries in the following tuple `(vocab_to_int, int_to_vocab)`"
   ]
  },
  {
   "cell_type": "code",
   "execution_count": 4,
   "metadata": {
    "scrolled": false
   },
   "outputs": [
    {
     "data": {
      "text/plain": [
       "'Moe_Szyslak: (INTO PHONE) Moe\\'s Tavern. Where the elite meet to drink.\\nBart_Simpson: Eh, yeah, hello, is Mike there? Last name, Rotch.\\nMoe_Szyslak: (INTO PHONE) Hold on, I\\'ll check. (TO BARFLIES) Mike Rotch. Mike Rotch. Hey, has anybody seen Mike Rotch, lately?\\nMoe_Szyslak: (INTO PHONE) Listen you little puke. One of these days I\\'m gonna catch you, and I\\'m gonna carve my name on your back with an ice pick.\\nMoe_Szyslak: What\\'s the matter Homer? You\\'re not your normal effervescent self.\\nHomer_Simpson: I got my problems, Moe. Give me another one.\\nMoe_Szyslak: Homer, hey, you should not drink to forget your problems.\\nBarney_Gumble: Yeah, you should only drink to enhance your social skills.\\n\\n\\nMoe_Szyslak: Ah, isn\\'t that nice. Now, there is a politician who cares.\\nBarney_Gumble: If I ever vote, it\\'ll be for him. (BELCH)\\n\\n\\nBarney_Gumble: Hey Homer, how\\'s your neighbor\\'s store doing?\\nHomer_Simpson: Lousy. He just sits there all day. He\\'d have a great job if he didn\\'t own the place. (CHUCKLES)\\nMoe_Szyslak: (STRUGGLING WITH CORKSCREW) Crummy right-handed corkscrews! What does he sell?\\nHomer_Simpson: Uh, well actually, Moe...\\nHOMER_(CONT\\'D: I dunno.\\n\\n\\nMoe_Szyslak: Looks like this is the end.\\nBarney_Gumble: That\\'s all right. I couldn\\'t have led a richer life.\\nBarney_Gumble: So the next time somebody tells you county folk are good, honest people, you can spit in their faces for me!\\nLisa_Simpson: I will, Mr. Gumbel. But if you\\'ll excuse me, I\\'m profiling my dad for the school paper. I thought it would be neat to follow him around for a day to see what makes him tick.\\nBarney_Gumble: Oh, that\\'s sweet. I used to follow my dad to a lot of bars too. (BELCH)\\nMoe_Szyslak: Here you go. One beer, one chocolate milk.\\nLisa_Simpson: Uh, excuse me, I have the chocolate milk.\\nMoe_Szyslak: Oh.\\nMoe_Szyslak: What\\'s the matter, Homer? The depressin\\' effects of alcohol usually don\\'t kick in \\'til closing time.\\nLisa_Simpson: He\\'s just a little nervous. (PROUDLY) He has to give a speech tomorrow on \"H'"
      ]
     },
     "execution_count": 4,
     "metadata": {},
     "output_type": "execute_result"
    }
   ],
   "source": [
    "text[:2000]"
   ]
  },
  {
   "cell_type": "code",
   "execution_count": 17,
   "metadata": {},
   "outputs": [
    {
     "data": {
      "text/plain": [
       "305189"
      ]
     },
     "execution_count": 17,
     "metadata": {},
     "output_type": "execute_result"
    }
   ],
   "source": [
    "len(text)"
   ]
  },
  {
   "cell_type": "code",
   "execution_count": 19,
   "metadata": {},
   "outputs": [
    {
     "data": {
      "text/plain": [
       "'M'"
      ]
     },
     "execution_count": 19,
     "metadata": {},
     "output_type": "execute_result"
    }
   ],
   "source": [
    "text[0]"
   ]
  },
  {
   "cell_type": "code",
   "execution_count": 3,
   "metadata": {},
   "outputs": [],
   "source": [
    "from collections import Counter"
   ]
  },
  {
   "cell_type": "code",
   "execution_count": 4,
   "metadata": {},
   "outputs": [
    {
     "name": "stdout",
     "output_type": "stream",
     "text": [
      "Tests Passed\n"
     ]
    }
   ],
   "source": [
    "import numpy as np\n",
    "import problem_unittests as tests\n",
    "\n",
    "def create_lookup_tables(text):\n",
    "    \"\"\"\n",
    "    Create lookup tables for vocabulary\n",
    "    :param text: The text of tv scripts split into words\n",
    "    :return: A tuple of dicts (vocab_to_int, int_to_vocab)\n",
    "    \"\"\"\n",
    "    # TODO: Implement Function\n",
    "    word_counts = Counter(text)\n",
    "    sorted_vocab = sorted(word_counts, key=word_counts.get, reverse=True)\n",
    "    int_to_vocab = {ii: word for ii, word in enumerate(sorted_vocab)}\n",
    "    vocab_to_int = {word: ii for ii, word in int_to_vocab.items()}\n",
    "     \n",
    "    \n",
    "    \n",
    "    return (vocab_to_int, int_to_vocab)\n",
    "\n",
    "\n",
    "\"\"\"\n",
    "DON'T MODIFY ANYTHING IN THIS CELL THAT IS BELOW THIS LINE\n",
    "\"\"\"\n",
    "tests.test_create_lookup_tables(create_lookup_tables)\n"
   ]
  },
  {
   "cell_type": "code",
   "execution_count": null,
   "metadata": {},
   "outputs": [],
   "source": []
  },
  {
   "cell_type": "code",
   "execution_count": null,
   "metadata": {},
   "outputs": [],
   "source": []
  },
  {
   "cell_type": "markdown",
   "metadata": {},
   "source": [
    "### Tokenize Punctuation\n",
    "We'll be splitting the script into a word array using spaces as delimiters.  However, punctuations like periods and exclamation marks make it hard for the neural network to distinguish between the word \"bye\" and \"bye!\".\n",
    "\n",
    "Implement the function `token_lookup` to return a dict that will be used to tokenize symbols like \"!\" into \"||Exclamation_Mark||\".  Create a dictionary for the following symbols where the symbol is the key and value is the token:\n",
    "- Period ( . )\n",
    "- Comma ( , )\n",
    "- Quotation Mark ( \" )\n",
    "- Semicolon ( ; )\n",
    "- Exclamation mark ( ! )\n",
    "- Question mark ( ? )\n",
    "- Left Parentheses ( ( )\n",
    "- Right Parentheses ( ) )\n",
    "- Dash ( -- )\n",
    "- Return ( \\n )\n",
    "\n",
    "This dictionary will be used to token the symbols and add the delimiter (space) around it.  This separates the symbols as it's own word, making it easier for the neural network to predict on the next word. Make sure you don't use a token that could be confused as a word. Instead of using the token \"dash\", try using something like \"||dash||\"."
   ]
  },
  {
   "cell_type": "code",
   "execution_count": 5,
   "metadata": {},
   "outputs": [
    {
     "name": "stdout",
     "output_type": "stream",
     "text": [
      "Tests Passed\n"
     ]
    }
   ],
   "source": [
    "def token_lookup():\n",
    "    \"\"\"\n",
    "    Generate a dict to turn punctuation into a token.\n",
    "    :return: Tokenize dictionary where the key is the punctuation and the value is the token\n",
    "    \"\"\"\n",
    "    # TODO: Implement Function\n",
    "    punctuation_dic = {'.': '||period||',\n",
    "     ',': '||comma||',\n",
    "     '\"': '||quotation_mark||',\n",
    "     ';': '||semicolon||',\n",
    "     '!': '||exclamation_mark||',\n",
    "     '?': '||question_mark||',\n",
    "     '(': '||left_parentheses||',\n",
    "     ')': '||right_parentheses||',\n",
    "     '--': '||dash||',\n",
    "     '\\n': '||new_line||'}\n",
    "    return punctuation_dic\n",
    "\n",
    "\"\"\"\n",
    "DON'T MODIFY ANYTHING IN THIS CELL THAT IS BELOW THIS LINE\n",
    "\"\"\"\n",
    "tests.test_tokenize(token_lookup)\n"
   ]
  },
  {
   "cell_type": "markdown",
   "metadata": {},
   "source": [
    "## Preprocess all the data and save it\n",
    "Running the code cell below will preprocess all the data and save it to file."
   ]
  },
  {
   "cell_type": "code",
   "execution_count": 6,
   "metadata": {},
   "outputs": [],
   "source": [
    "\"\"\"\n",
    "DON'T MODIFY ANYTHING IN THIS CELL\n",
    "\"\"\"\n",
    "# Preprocess Training, Validation, and Testing Data\n",
    "helper.preprocess_and_save_data(data_dir, token_lookup, create_lookup_tables)"
   ]
  },
  {
   "cell_type": "markdown",
   "metadata": {},
   "source": [
    "# Check Point\n",
    "This is your first checkpoint. If you ever decide to come back to this notebook or have to restart the notebook, you can start from here. The preprocessed data has been saved to disk."
   ]
  },
  {
   "cell_type": "code",
   "execution_count": 7,
   "metadata": {},
   "outputs": [],
   "source": [
    "\"\"\"\n",
    "DON'T MODIFY ANYTHING IN THIS CELL\n",
    "\"\"\"\n",
    "import helper\n",
    "import numpy as np\n",
    "import problem_unittests as tests\n",
    "\n",
    "int_text, vocab_to_int, int_to_vocab, token_dict = helper.load_preprocess()"
   ]
  },
  {
   "cell_type": "markdown",
   "metadata": {},
   "source": [
    "## Build the Neural Network\n",
    "You'll build the components necessary to build a RNN by implementing the following functions below:\n",
    "- get_inputs\n",
    "- get_init_cell\n",
    "- get_embed\n",
    "- build_rnn\n",
    "- build_nn\n",
    "- get_batches\n",
    "\n",
    "### Check the Version of TensorFlow and Access to GPU"
   ]
  },
  {
   "cell_type": "code",
   "execution_count": 8,
   "metadata": {},
   "outputs": [
    {
     "name": "stdout",
     "output_type": "stream",
     "text": [
      "TensorFlow Version: 1.3.0\n",
      "Default GPU Device: /gpu:0\n"
     ]
    }
   ],
   "source": [
    "\"\"\"\n",
    "DON'T MODIFY ANYTHING IN THIS CELL\n",
    "\"\"\"\n",
    "from distutils.version import LooseVersion\n",
    "import warnings\n",
    "import tensorflow as tf\n",
    "\n",
    "# Check TensorFlow Version\n",
    "assert LooseVersion(tf.__version__) >= LooseVersion('1.3'), 'Please use TensorFlow version 1.3 or newer'\n",
    "print('TensorFlow Version: {}'.format(tf.__version__))\n",
    "\n",
    "# Check for a GPU\n",
    "if not tf.test.gpu_device_name():\n",
    "    warnings.warn('No GPU found. Please use a GPU to train your neural network.')\n",
    "else:\n",
    "    print('Default GPU Device: {}'.format(tf.test.gpu_device_name()))"
   ]
  },
  {
   "cell_type": "markdown",
   "metadata": {},
   "source": [
    "### Input\n",
    "Implement the `get_inputs()` function to create TF Placeholders for the Neural Network.  It should create the following placeholders:\n",
    "- Input text placeholder named \"input\" using the [TF Placeholder](https://www.tensorflow.org/api_docs/python/tf/placeholder) `name` parameter.\n",
    "- Targets placeholder\n",
    "- Learning Rate placeholder\n",
    "\n",
    "Return the placeholders in the following tuple `(Input, Targets, LearningRate)`"
   ]
  },
  {
   "cell_type": "code",
   "execution_count": 10,
   "metadata": {},
   "outputs": [
    {
     "name": "stdout",
     "output_type": "stream",
     "text": [
      "Tests Passed\n"
     ]
    }
   ],
   "source": [
    "def get_inputs():\n",
    "    \"\"\"\n",
    "    Create TF Placeholders for input, targets, and learning rate.\n",
    "    :return: Tuple (input, targets, learning rate)\n",
    "    \"\"\"\n",
    "    # TODO: Implement Function\n",
    "    input = tf.placeholder(tf.int32, [None, None], name='input')\n",
    "    targets = tf.placeholder(tf.int32, [None, None], name='targets')\n",
    "    learning_rate = tf.placeholder(tf.float32, name='learning_rate')\n",
    "    #print(input.shape)\n",
    "    return (input, targets, learning_rate)\n",
    "\n",
    "\n",
    "\"\"\"\n",
    "DON'T MODIFY ANYTHING IN THIS CELL THAT IS BELOW THIS LINE\n",
    "\"\"\"\n",
    "tests.test_get_inputs(get_inputs)\n"
   ]
  },
  {
   "cell_type": "markdown",
   "metadata": {},
   "source": [
    "### Build RNN Cell and Initialize\n",
    "Stack one or more [`BasicLSTMCells`](https://www.tensorflow.org/api_docs/python/tf/contrib/rnn/BasicLSTMCell) in a [`MultiRNNCell`](https://www.tensorflow.org/api_docs/python/tf/contrib/rnn/MultiRNNCell).\n",
    "- The Rnn size should be set using `rnn_size`\n",
    "- Initalize Cell State using the MultiRNNCell's [`zero_state()`](https://www.tensorflow.org/api_docs/python/tf/contrib/rnn/MultiRNNCell#zero_state) function\n",
    "    - Apply the name \"initial_state\" to the initial state using [`tf.identity()`](https://www.tensorflow.org/api_docs/python/tf/identity)\n",
    "\n",
    "Return the cell and initial state in the following tuple `(Cell, InitialState)`"
   ]
  },
  {
   "cell_type": "code",
   "execution_count": 11,
   "metadata": {},
   "outputs": [
    {
     "name": "stdout",
     "output_type": "stream",
     "text": [
      "Tests Passed\n"
     ]
    }
   ],
   "source": [
    "def get_init_cell(batch_size, rnn_size):\n",
    "    \"\"\"\n",
    "    Create an RNN Cell and initialize it.\n",
    "    :param batch_size: Size of batches\n",
    "    :param rnn_size: Size of RNNs\n",
    "    :return: Tuple (cell, initialize state)\n",
    "    \"\"\"\n",
    "    # TODO: Implement Function\n",
    "    #keep_prob = tf.placeholder(tf.float32, name='keep_prob')\n",
    "    \n",
    "    lstm = tf.contrib.rnn.BasicLSTMCell(rnn_size)\n",
    "    #drop = tf.contrib.rnn.DropoutWrapper(lstm, output_keep_prob=keep_prob)\n",
    "    cell = tf.contrib.rnn.MultiRNNCell([lstm])\n",
    "    initial_state = tf.identity(cell.zero_state(batch_size, tf.float32),name = 'initial_state')\n",
    "    return (cell, initial_state)\n",
    "\n",
    "\n",
    "\"\"\"\n",
    "DON'T MODIFY ANYTHING IN THIS CELL THAT IS BELOW THIS LINE\n",
    "\"\"\"\n",
    "tests.test_get_init_cell(get_init_cell)"
   ]
  },
  {
   "cell_type": "code",
   "execution_count": 60,
   "metadata": {},
   "outputs": [],
   "source": [
    "cell_c, ista =  get_init_cell(256, 2)"
   ]
  },
  {
   "cell_type": "code",
   "execution_count": 65,
   "metadata": {},
   "outputs": [
    {
     "name": "stdout",
     "output_type": "stream",
     "text": [
      "(LSTMStateTuple(c=2, h=2),)\n"
     ]
    }
   ],
   "source": [
    "print(cell_c.state_size)"
   ]
  },
  {
   "cell_type": "code",
   "execution_count": 66,
   "metadata": {},
   "outputs": [
    {
     "name": "stdout",
     "output_type": "stream",
     "text": [
      "2\n"
     ]
    }
   ],
   "source": [
    "print(cell_c.output_size)"
   ]
  },
  {
   "cell_type": "code",
   "execution_count": 61,
   "metadata": {},
   "outputs": [
    {
     "name": "stdout",
     "output_type": "stream",
     "text": [
      "Tensor(\"initial_state:0\", shape=(1, 2, 256, 2), dtype=float32)\n"
     ]
    }
   ],
   "source": [
    "print(ista)"
   ]
  },
  {
   "cell_type": "markdown",
   "metadata": {},
   "source": [
    "### Word Embedding\n",
    "Apply embedding to `input_data` using TensorFlow.  Return the embedded sequence."
   ]
  },
  {
   "cell_type": "code",
   "execution_count": 12,
   "metadata": {},
   "outputs": [
    {
     "name": "stdout",
     "output_type": "stream",
     "text": [
      "Tests Passed\n"
     ]
    }
   ],
   "source": [
    "def get_embed(input_data, vocab_size, embed_dim):\n",
    "    \"\"\"\n",
    "    Create embedding for <input_data>.\n",
    "    :param input_data: TF placeholder for text input.\n",
    "    :param vocab_size: Number of words in vocabulary.\n",
    "    :param embed_dim: Number of embedding dimensions\n",
    "    :return: Embedded input.\n",
    "    \"\"\"\n",
    "    # TODO: Implement Function\n",
    "    embed_size = embed_dim\n",
    "    embedding = tf.Variable(tf.random_uniform((vocab_size, embed_size), -1, 1))\n",
    "    embed = tf.nn.embedding_lookup(embedding, input_data)\n",
    "    \n",
    "    return embed\n",
    "\n",
    "\n",
    "\"\"\"\n",
    "DON'T MODIFY ANYTHING IN THIS CELL THAT IS BELOW THIS LINE\n",
    "\"\"\"\n",
    "tests.test_get_embed(get_embed)"
   ]
  },
  {
   "cell_type": "markdown",
   "metadata": {},
   "source": [
    "### Build RNN\n",
    "You created a RNN Cell in the `get_init_cell()` function.  Time to use the cell to create a RNN.\n",
    "- Build the RNN using the [`tf.nn.dynamic_rnn()`](https://www.tensorflow.org/api_docs/python/tf/nn/dynamic_rnn)\n",
    " - Apply the name \"final_state\" to the final state using [`tf.identity()`](https://www.tensorflow.org/api_docs/python/tf/identity)\n",
    "\n",
    "Return the outputs and final_state state in the following tuple `(Outputs, FinalState)` "
   ]
  },
  {
   "cell_type": "code",
   "execution_count": null,
   "metadata": {},
   "outputs": [],
   "source": []
  },
  {
   "cell_type": "code",
   "execution_count": 13,
   "metadata": {},
   "outputs": [
    {
     "name": "stdout",
     "output_type": "stream",
     "text": [
      "(?, ?, 256)\n",
      "(?, ?, 256)\n",
      "Tests Passed\n"
     ]
    }
   ],
   "source": [
    "\n",
    "def build_rnn(cell, inputs):\n",
    "    \"\"\"\n",
    "    Create a RNN using a RNN Cell\n",
    "    :param cell: RNN Cell\n",
    "    :param inputs: Input text data\n",
    "    :return: Tuple (Outputs, Final State)\n",
    "    \"\"\"\n",
    "    # TODO: Implement Function\n",
    "    print(inputs.shape)\n",
    "    \n",
    "    #print(cell.state_size)\n",
    "    Outputs, final_state = tf.nn.dynamic_rnn(cell,inputs,dtype = tf.float32)\n",
    "    final_state = tf.identity(final_state,name = 'final_state')\n",
    "    print(Outputs.get_shape())\n",
    "    return (Outputs, final_state)\n",
    "\n",
    "\n",
    "\"\"\"\n",
    "DON'T MODIFY ANYTHING IN THIS CELL THAT IS BELOW THIS LINE\n",
    "\"\"\"\n",
    "tests.test_build_rnn(build_rnn)\n"
   ]
  },
  {
   "cell_type": "markdown",
   "metadata": {},
   "source": [
    "### Build the Neural Network\n",
    "Apply the functions you implemented above to:\n",
    "- Apply embedding to `input_data` using your `get_embed(input_data, vocab_size, embed_dim)` function.\n",
    "- Build RNN using `cell` and your `build_rnn(cell, inputs)` function.\n",
    "- Apply a fully connected layer with a linear activation and `vocab_size` as the number of outputs.\n",
    "\n",
    "Return the logits and final state in the following tuple (Logits, FinalState) "
   ]
  },
  {
   "cell_type": "code",
   "execution_count": 69,
   "metadata": {},
   "outputs": [
    {
     "name": "stdout",
     "output_type": "stream",
     "text": [
      "(128, 5, 300)\n",
      "(128, 5, 256)\n",
      "(128, 5, 256)\n",
      "vocab_size 27\n",
      "embed_dim 300\n",
      "Tests Passed\n"
     ]
    }
   ],
   "source": [
    "def build_nn(cell, rnn_size, input_data, vocab_size, embed_dim):\n",
    "    \"\"\"\n",
    "    Build part of the neural network\n",
    "    :param cell: RNN cell\n",
    "    :param rnn_size: Size of rnns\n",
    "    :param input_data: Input data\n",
    "    :param vocab_size: Vocabulary size\n",
    "    :param embed_dim: Number of embedding dimensions\n",
    "    :return: Tuple (Logits, FinalState)\n",
    "    \"\"\"\n",
    "    # TODO: Implement Function\n",
    "    \n",
    "    embed = get_embed(input_data, vocab_size, embed_dim)\n",
    "    Outputs, final_state = build_rnn(cell, embed)\n",
    "    print(Outputs.shape)\n",
    "    predictions = tf.contrib.layers.fully_connected(Outputs, vocab_size,weights_initializer=tf.truncated_normal_initializer(stddev= 0.1),\n",
    "                                                    biases_initializer=tf.zeros_initializer())\n",
    "    print(\"vocab_size\", vocab_size)\n",
    "    print(\"embed_dim\" ,embed_dim)\n",
    "    return (predictions, final_state)\n",
    "\n",
    "\n",
    "\"\"\"\n",
    "DON'T MODIFY ANYTHING IN THIS CELL THAT IS BELOW THIS LINE\n",
    "\"\"\"\n",
    "tests.test_build_nn(build_nn)\n"
   ]
  },
  {
   "cell_type": "markdown",
   "metadata": {},
   "source": [
    "### Batches\n",
    "Implement `get_batches` to create batches of input and targets using `int_text`.  The batches should be a Numpy array with the shape `(number of batches, 2, batch size, sequence length)`. Each batch contains two elements:\n",
    "- The first element is a single batch of **input** with the shape `[batch size, sequence length]`\n",
    "- The second element is a single batch of **targets** with the shape `[batch size, sequence length]`\n",
    "\n",
    "If you can't fill the last batch with enough data, drop the last batch.\n",
    "\n",
    "For example, `get_batches([1, 2, 3, 4, 5, 6, 7, 8, 9, 10, 11, 12, 13, 14, 15, 16, 17, 18, 19, 20], 3, 2)` would return a Numpy array of the following:\n",
    "```\n",
    "[\n",
    "  # First Batch\n",
    "  [\n",
    "    # Batch of Input\n",
    "    [[ 1  2], [ 7  8], [13 14]]\n",
    "    # Batch of targets\n",
    "    [[ 2  3], [ 8  9], [14 15]]\n",
    "  ]\n",
    "\n",
    "  # Second Batch\n",
    "  [\n",
    "    # Batch of Input\n",
    "    [[ 3  4], [ 9 10], [15 16]]\n",
    "    # Batch of targets\n",
    "    [[ 4  5], [10 11], [16 17]]\n",
    "  ]\n",
    "\n",
    "  # Third Batch\n",
    "  [\n",
    "    # Batch of Input\n",
    "    [[ 5  6], [11 12], [17 18]]\n",
    "    # Batch of targets\n",
    "    [[ 6  7], [12 13], [18  1]]\n",
    "  ]\n",
    "]\n",
    "```\n",
    "\n",
    "Notice that the last target value in the last batch is the first input value of the first batch. In this case, `1`. This is a common technique used when creating sequence batches, although it is rather unintuitive."
   ]
  },
  {
   "cell_type": "code",
   "execution_count": 20,
   "metadata": {},
   "outputs": [],
   "source": [
    "int_text_c = [1, 2, 3, 4, 5, 6, 7, 8, 9, 10, 11, 12, 13, 14, 15, 16, 17, 18, 19, 20]\n",
    "batch_size_c = 3\n",
    "seq_length_c= 2"
   ]
  },
  {
   "cell_type": "code",
   "execution_count": 21,
   "metadata": {},
   "outputs": [
    {
     "data": {
      "text/plain": [
       "20"
      ]
     },
     "execution_count": 21,
     "metadata": {},
     "output_type": "execute_result"
    }
   ],
   "source": [
    "len(int_text_c)"
   ]
  },
  {
   "cell_type": "markdown",
   "metadata": {},
   "source": [
    "batch_size 3 means teen equal me batna hai and seq length means un teen ka har ek kitna lamba hoga\n",
    "1 batch = batch_size * seq length"
   ]
  },
  {
   "cell_type": "code",
   "execution_count": 16,
   "metadata": {},
   "outputs": [
    {
     "data": {
      "text/plain": [
       "6"
      ]
     },
     "execution_count": 16,
     "metadata": {},
     "output_type": "execute_result"
    }
   ],
   "source": [
    "batch = batch_size_c*seq_length_c\n",
    "batch"
   ]
  },
  {
   "cell_type": "code",
   "execution_count": 17,
   "metadata": {},
   "outputs": [
    {
     "data": {
      "text/plain": [
       "3"
      ]
     },
     "execution_count": 17,
     "metadata": {},
     "output_type": "execute_result"
    }
   ],
   "source": [
    "no_of_batches = len(int_text_c)//batch\n",
    "no_of_batches"
   ]
  },
  {
   "cell_type": "code",
   "execution_count": 27,
   "metadata": {},
   "outputs": [
    {
     "data": {
      "text/plain": [
       "[1, 2, 3, 4, 5, 6, 7, 8, 9, 10, 11, 12, 13, 14, 15, 16, 17, 18]"
      ]
     },
     "execution_count": 27,
     "metadata": {},
     "output_type": "execute_result"
    }
   ],
   "source": [
    "int_text_c = int_text_c[:batch*no_of_batches]\n",
    "int_text_c"
   ]
  },
  {
   "cell_type": "code",
   "execution_count": 28,
   "metadata": {
    "scrolled": true
   },
   "outputs": [
    {
     "data": {
      "text/plain": [
       "(array([[0, 0],\n",
       "        [0, 0],\n",
       "        [0, 0],\n",
       "        [0, 0],\n",
       "        [0, 0],\n",
       "        [0, 0],\n",
       "        [0, 0],\n",
       "        [0, 0],\n",
       "        [0, 0]]), array([[0, 0],\n",
       "        [0, 0],\n",
       "        [0, 0],\n",
       "        [0, 0],\n",
       "        [0, 0],\n",
       "        [0, 0],\n",
       "        [0, 0],\n",
       "        [0, 0],\n",
       "        [0, 0]]))"
      ]
     },
     "execution_count": 28,
     "metadata": {},
     "output_type": "execute_result"
    }
   ],
   "source": [
    "x_total = np.zeros((len(int_text_c)//seq_length_c,seq_length_c), dtype = int)\n",
    "y_total = np.zeros((len(int_text_c)//seq_length_c,seq_length_c), dtype = int)\n",
    "x_total,y_total"
   ]
  },
  {
   "cell_type": "code",
   "execution_count": 23,
   "metadata": {},
   "outputs": [
    {
     "data": {
      "text/plain": [
       "array([0, 0])"
      ]
     },
     "execution_count": 23,
     "metadata": {},
     "output_type": "execute_result"
    }
   ],
   "source": [
    "x_total[0]"
   ]
  },
  {
   "cell_type": "code",
   "execution_count": 39,
   "metadata": {
    "scrolled": true
   },
   "outputs": [],
   "source": [
    "for n in range (0, len(int_text_c), seq_length_c):\n",
    "    last_y_value = int_text_c[0]\n",
    "    x = np.array(int_text_c[n:n+seq_length_c])\n",
    "    y_temp = np.array(int_text_c[n+1:n+seq_length_c+1])\n",
    "    if y_temp.shape[0] == 2:\n",
    "        y = y_temp\n",
    "    else:\n",
    "        y = np.array(list(y_temp) + [last_y_value])\n",
    "\n",
    "    #print(n,\"     \",x,\"    \",y,\"    \",type(y))\n",
    "    x_total[(n//2)] = x\n",
    "    y_total[(n//2)] = y\n",
    "    \n",
    "    \n"
   ]
  },
  {
   "cell_type": "code",
   "execution_count": 30,
   "metadata": {},
   "outputs": [
    {
     "data": {
      "text/plain": [
       "(array([[ 1,  2],\n",
       "        [ 3,  4],\n",
       "        [ 5,  6],\n",
       "        [ 7,  8],\n",
       "        [ 9, 10],\n",
       "        [11, 12],\n",
       "        [13, 14],\n",
       "        [15, 16],\n",
       "        [17, 18]]), array([[ 2,  3],\n",
       "        [ 4,  5],\n",
       "        [ 6,  7],\n",
       "        [ 8,  9],\n",
       "        [10, 11],\n",
       "        [12, 13],\n",
       "        [14, 15],\n",
       "        [16, 17],\n",
       "        [18,  1]]))"
      ]
     },
     "execution_count": 30,
     "metadata": {},
     "output_type": "execute_result"
    }
   ],
   "source": [
    "x_total,y_total\n",
    "\n"
   ]
  },
  {
   "cell_type": "code",
   "execution_count": 33,
   "metadata": {},
   "outputs": [
    {
     "data": {
      "text/plain": [
       "array([[[[ 6, 15],\n",
       "         [ 9, 12],\n",
       "         [ 3,  0]],\n",
       "\n",
       "        [[ 7,  4],\n",
       "         [ 2,  0],\n",
       "         [14,  5]]],\n",
       "\n",
       "\n",
       "       [[[ 8, 13],\n",
       "         [ 7,  5],\n",
       "         [ 6, 11]],\n",
       "\n",
       "        [[17, 12],\n",
       "         [ 0, 10],\n",
       "         [16, 17]]],\n",
       "\n",
       "\n",
       "       [[[ 7,  2],\n",
       "         [ 0, 11],\n",
       "         [ 3, 10]],\n",
       "\n",
       "        [[ 3,  5],\n",
       "         [14,  0],\n",
       "         [ 0,  8]]]])"
      ]
     },
     "execution_count": 33,
     "metadata": {},
     "output_type": "execute_result"
    }
   ],
   "source": [
    "batches = np.random.randint(0,len(int_text_c),(no_of_batches,2,batch_size_c,seq_length_c))\n",
    "\n",
    "batches "
   ]
  },
  {
   "cell_type": "code",
   "execution_count": 60,
   "metadata": {},
   "outputs": [
    {
     "data": {
      "text/plain": [
       "array([[[14, 10],\n",
       "        [16,  6],\n",
       "        [ 3,  7]],\n",
       "\n",
       "       [[17,  2],\n",
       "        [ 4,  0],\n",
       "        [14, 10]]])"
      ]
     },
     "execution_count": 60,
     "metadata": {},
     "output_type": "execute_result"
    }
   ],
   "source": [
    "batches[1] # ranges from no_of_batches"
   ]
  },
  {
   "cell_type": "code",
   "execution_count": 63,
   "metadata": {},
   "outputs": [
    {
     "data": {
      "text/plain": [
       "array([[14, 10],\n",
       "       [16,  6],\n",
       "       [ 3,  7]])"
      ]
     },
     "execution_count": 63,
     "metadata": {},
     "output_type": "execute_result"
    }
   ],
   "source": [
    "batches[1][0] # onnly 0 and 1"
   ]
  },
  {
   "cell_type": "code",
   "execution_count": null,
   "metadata": {},
   "outputs": [],
   "source": []
  },
  {
   "cell_type": "code",
   "execution_count": 64,
   "metadata": {
    "scrolled": false
   },
   "outputs": [
    {
     "data": {
      "text/plain": [
       "array([16,  6])"
      ]
     },
     "execution_count": 64,
     "metadata": {},
     "output_type": "execute_result"
    }
   ],
   "source": [
    "batches[1][0][1] # ranges from batch_size_c"
   ]
  },
  {
   "cell_type": "code",
   "execution_count": 72,
   "metadata": {},
   "outputs": [
    {
     "data": {
      "text/plain": [
       "[1, 2, 3, 4, 5, 6, 7, 8, 9, 10, 11, 12, 13, 14, 15, 16, 17, 18]"
      ]
     },
     "execution_count": 72,
     "metadata": {},
     "output_type": "execute_result"
    }
   ],
   "source": [
    "int_text_c"
   ]
  },
  {
   "cell_type": "code",
   "execution_count": 31,
   "metadata": {},
   "outputs": [
    {
     "data": {
      "text/plain": [
       "(array([[ 1,  2],\n",
       "        [ 3,  4],\n",
       "        [ 5,  6],\n",
       "        [ 7,  8],\n",
       "        [ 9, 10],\n",
       "        [11, 12],\n",
       "        [13, 14],\n",
       "        [15, 16],\n",
       "        [17, 18]]), array([[ 2,  3],\n",
       "        [ 4,  5],\n",
       "        [ 6,  7],\n",
       "        [ 8,  9],\n",
       "        [10, 11],\n",
       "        [12, 13],\n",
       "        [14, 15],\n",
       "        [16, 17],\n",
       "        [18,  1]]))"
      ]
     },
     "execution_count": 31,
     "metadata": {},
     "output_type": "execute_result"
    }
   ],
   "source": [
    "x_total,y_total"
   ]
  },
  {
   "cell_type": "code",
   "execution_count": 34,
   "metadata": {
    "scrolled": true
   },
   "outputs": [
    {
     "name": "stdout",
     "output_type": "stream",
     "text": [
      "no_of_batches 0\n",
      "batch_size_c 0\n",
      "batch_size_c 1\n",
      "batch_size_c 2\n",
      "no_of_batches 1\n",
      "batch_size_c 0\n",
      "batch_size_c 1\n",
      "batch_size_c 2\n",
      "no_of_batches 2\n",
      "batch_size_c 0\n",
      "batch_size_c 1\n",
      "batch_size_c 2\n"
     ]
    }
   ],
   "source": [
    "for j in range(no_of_batches):\n",
    "        print(\"no_of_batches\" ,j)\n",
    "        for k in range(batch_size_c):\n",
    "            print(\"batch_size_c\" ,k)\n",
    "\n",
    "            batches[k][0][j] = x_total[k + j*no_of_batches]\n",
    "            batches[k][1][j] = y_total[k+ j*no_of_batches]\n",
    "            \n",
    "            \n",
    "    \n"
   ]
  },
  {
   "cell_type": "code",
   "execution_count": 35,
   "metadata": {},
   "outputs": [
    {
     "data": {
      "text/plain": [
       "array([[[[ 1,  2],\n",
       "         [ 7,  8],\n",
       "         [13, 14]],\n",
       "\n",
       "        [[ 2,  3],\n",
       "         [ 8,  9],\n",
       "         [14, 15]]],\n",
       "\n",
       "\n",
       "       [[[ 3,  4],\n",
       "         [ 9, 10],\n",
       "         [15, 16]],\n",
       "\n",
       "        [[ 4,  5],\n",
       "         [10, 11],\n",
       "         [16, 17]]],\n",
       "\n",
       "\n",
       "       [[[ 5,  6],\n",
       "         [11, 12],\n",
       "         [17, 18]],\n",
       "\n",
       "        [[ 6,  7],\n",
       "         [12, 13],\n",
       "         [18,  1]]]])"
      ]
     },
     "execution_count": 35,
     "metadata": {},
     "output_type": "execute_result"
    }
   ],
   "source": [
    "batches   "
   ]
  },
  {
   "cell_type": "code",
   "execution_count": null,
   "metadata": {},
   "outputs": [],
   "source": []
  },
  {
   "cell_type": "code",
   "execution_count": 20,
   "metadata": {},
   "outputs": [
    {
     "name": "stdout",
     "output_type": "stream",
     "text": [
      "length of text 5000\n",
      "batch size 128\n",
      "seq length 5\n",
      "integers in batch 640\n",
      "number of batches 7\n",
      "updated length of text 4480\n",
      "x_total shape (896, 5)\n",
      "y_total shape (896, 5)\n",
      "batches shape (7, 2, 128, 5)\n",
      "Tests Passed\n"
     ]
    }
   ],
   "source": [
    "def get_batches(int_text, batch_size, seq_length):\n",
    "    \"\"\"\n",
    "    Return batches of input and target\n",
    "    :param int_text: Text with the words replaced by their ids\n",
    "    :param batch_size: The size of batch\n",
    "    :param seq_length: The length of sequence\n",
    "    :return: Batches as a Numpy array\n",
    "    \"\"\"\n",
    "    # TODO: Implement Function\n",
    "    print('length of text', len(int_text))\n",
    "    batch = batch_size*seq_length\n",
    "    print('batch size', batch_size)\n",
    "    print('seq length', seq_length)\n",
    "    print('integers in batch', batch)\n",
    "    no_of_batches = len(int_text)//batch\n",
    "    print('number of batches', no_of_batches)\n",
    "    int_text = int_text[:batch*no_of_batches]\n",
    "    \n",
    "    print('updated length of text', len(int_text))\n",
    "    \n",
    "    x_total = np.zeros((len(int_text)//seq_length,seq_length), dtype = int)\n",
    "    y_total = np.zeros((len(int_text)//seq_length,seq_length), dtype = int)\n",
    "    \n",
    "    print('x_total shape',x_total.shape)\n",
    "    print('y_total shape',y_total.shape)\n",
    "    \n",
    "    batches = np.random.randint(0,len(int_text),(no_of_batches,2,batch_size,seq_length))\n",
    "    \n",
    "    print('batches shape',batches.shape)\n",
    "    \n",
    "    for n in range (0, len(int_text), seq_length):\n",
    "        last_y_value = int_text[0]\n",
    "        x = np.array(int_text[n:n+seq_length])\n",
    "        y_temp = np.array(int_text[n+1:n+seq_length+1])\n",
    "        if y_temp.shape[0] == seq_length:\n",
    "            y = y_temp\n",
    "        else:\n",
    "            y = np.array(list(y_temp) + [last_y_value])\n",
    "\n",
    "        x_total[(n//seq_length)] = x\n",
    "        y_total[(n//seq_length)] = y\n",
    "    \n",
    "    for j in range(batch_size):\n",
    "        #print(\"no_of_batches\" ,j)\n",
    "        for k in range(no_of_batches):\n",
    "            #print(\"batch_size_c\" ,k)\n",
    "\n",
    "            batches[k][0][j] = x_total[k + j*no_of_batches]\n",
    "            batches[k][1][j] = y_total[k+ j*no_of_batches]\n",
    "\n",
    "    \n",
    "    return batches\n",
    "\n",
    "\n",
    "\"\"\"\n",
    "DON'T MODIFY ANYTHING IN THIS CELL THAT IS BELOW THIS LINE\n",
    "\"\"\"\n",
    "tests.test_get_batches(get_batches)"
   ]
  },
  {
   "cell_type": "markdown",
   "metadata": {},
   "source": [
    "## Neural Network Training\n",
    "### Hyperparameters\n",
    "Tune the following parameters:\n",
    "\n",
    "- Set `num_epochs` to the number of epochs.\n",
    "- Set `batch_size` to the batch size.\n",
    "- Set `rnn_size` to the size of the RNNs.\n",
    "- Set `embed_dim` to the size of the embedding.\n",
    "- Set `seq_length` to the length of sequence.\n",
    "- Set `learning_rate` to the learning rate.\n",
    "- Set `show_every_n_batches` to the number of batches the neural network should print progress."
   ]
  },
  {
   "cell_type": "markdown",
   "metadata": {},
   "source": [
    "Mini batch should be in [32,64,128,256]\n"
   ]
  },
  {
   "cell_type": "code",
   "execution_count": 111,
   "metadata": {},
   "outputs": [],
   "source": [
    "# Number of Epochs\n",
    "num_epochs = 50\n",
    "# Batch Size\n",
    "batch_size = 256\n",
    "# RNN Size\n",
    "rnn_size = 500\n",
    "# Embedding Dimension Size\n",
    "embed_dim = 1000\n",
    "# Sequence Length\n",
    "seq_length = 30\n",
    "# Learning Rate\n",
    "learning_rate = 0.001\n",
    "# Show stats for every n number of batches\n",
    "show_every_n_batches = 128\n",
    "\n",
    "\n",
    "\"\"\"\n",
    "DON'T MODIFY ANYTHING IN THIS CELL THAT IS BELOW THIS LINE\n",
    "\"\"\"\n",
    "save_dir = './save'\n"
   ]
  },
  {
   "cell_type": "markdown",
   "metadata": {},
   "source": [
    "### Build the Graph\n",
    "Build the graph using the neural network you implemented."
   ]
  },
  {
   "cell_type": "code",
   "execution_count": 112,
   "metadata": {},
   "outputs": [
    {
     "name": "stdout",
     "output_type": "stream",
     "text": [
      "(?, ?, 1000)\n",
      "(?, ?, 500)\n",
      "(?, ?, 500)\n",
      "vocab_size 6779\n",
      "embed_dim 1000\n"
     ]
    }
   ],
   "source": [
    "\"\"\"\n",
    "DON'T MODIFY ANYTHING IN THIS CELL\n",
    "\"\"\"\n",
    "from tensorflow.contrib import seq2seq\n",
    "\n",
    "train_graph = tf.Graph()\n",
    "with train_graph.as_default():\n",
    "    vocab_size = len(int_to_vocab)\n",
    "    input_text, targets, lr = get_inputs()\n",
    "    input_data_shape = tf.shape(input_text)\n",
    "    cell, initial_state = get_init_cell(input_data_shape[0], rnn_size)\n",
    "    logits, final_state = build_nn(cell, rnn_size, input_text, vocab_size, embed_dim)\n",
    "\n",
    "    # Probabilities for generating words\n",
    "    probs = tf.nn.softmax(logits, name='probs')\n",
    "\n",
    "    # Loss function\n",
    "    cost = seq2seq.sequence_loss(\n",
    "        logits,\n",
    "        targets,\n",
    "        tf.ones([input_data_shape[0], input_data_shape[1]]))\n",
    "\n",
    "    # Optimizer\n",
    "    optimizer = tf.train.AdamOptimizer(lr)\n",
    "\n",
    "    # Gradient Clipping\n",
    "    gradients = optimizer.compute_gradients(cost)\n",
    "    capped_gradients = [(tf.clip_by_value(grad, -1., 1.), var) for grad, var in gradients if grad is not None]\n",
    "    train_op = optimizer.apply_gradients(capped_gradients)"
   ]
  },
  {
   "cell_type": "markdown",
   "metadata": {},
   "source": [
    "## Train\n",
    "Train the neural network on the preprocessed data.  If you have a hard time getting a good loss, check the [forums](https://discussions.udacity.com/) to see if anyone is having the same problem."
   ]
  },
  {
   "cell_type": "code",
   "execution_count": 113,
   "metadata": {
    "scrolled": false
   },
   "outputs": [
    {
     "name": "stdout",
     "output_type": "stream",
     "text": [
      "length of text 69100\n",
      "batch size 256\n",
      "seq length 30\n",
      "integers in batch 7680\n",
      "number of batches 8\n",
      "updated length of text 61440\n",
      "x_total shape (2048, 30)\n",
      "y_total shape (2048, 30)\n",
      "batches shape (8, 2, 256, 30)\n",
      "Epoch   0 Batch    0/8   train_loss = 8.838\n",
      "Epoch  16 Batch    0/8   train_loss = 3.691\n",
      "Epoch  32 Batch    0/8   train_loss = 2.440\n",
      "Epoch  48 Batch    0/8   train_loss = 1.789\n",
      "Model Trained and Saved\n"
     ]
    }
   ],
   "source": [
    "\"\"\"\n",
    "DON'T MODIFY ANYTHING IN THIS CELL\n",
    "\"\"\"\n",
    "batches = get_batches(int_text, batch_size, seq_length)\n",
    "\n",
    "with tf.Session(graph=train_graph) as sess:\n",
    "    sess.run(tf.global_variables_initializer())\n",
    "\n",
    "    for epoch_i in range(num_epochs):\n",
    "        state = sess.run(initial_state, {input_text: batches[0][0]})\n",
    "\n",
    "        for batch_i, (x, y) in enumerate(batches):\n",
    "            feed = {\n",
    "                input_text: x,\n",
    "                targets: y,\n",
    "                initial_state: state,\n",
    "                lr: learning_rate}\n",
    "            train_loss, state, _ = sess.run([cost, final_state, train_op], feed)\n",
    "\n",
    "            # Show every <show_every_n_batches> batches\n",
    "            if (epoch_i * len(batches) + batch_i) % show_every_n_batches == 0:\n",
    "                print('Epoch {:>3} Batch {:>4}/{}   train_loss = {:.3f}'.format(\n",
    "                    epoch_i,\n",
    "                    batch_i,\n",
    "                    len(batches),\n",
    "                    train_loss))\n",
    "\n",
    "    # Save Model\n",
    "    saver = tf.train.Saver()\n",
    "    saver.save(sess, save_dir)\n",
    "    print('Model Trained and Saved')"
   ]
  },
  {
   "cell_type": "markdown",
   "metadata": {},
   "source": [
    "(e,bs,rnnn,embed,seq,lr) \n",
    "(100,256,500,1000,10,0.001) 1.75\n",
    "(75,256,500,1000,10,0.001) 1.957\n",
    "(150,256,500,1000,10,0.001) 1.843\n",
    "\n",
    "(100,256,500,1000,10,0.01) 2.711\n",
    "\n",
    "(100,256,500,500,10,0.01) 3.595\n",
    "\n",
    "(100,128,500,1000,10,0.01) 2.522\n",
    "\n",
    "(100,256,500,1000,20,0.001) 2.012\n",
    "(50,256,500,1000,20,0.001) 1.978\n",
    "\n",
    "(50,256,500,1000,30,0.001) 1.460 # this one 1.789\n",
    "(50,256,500,1000,50,0.001) 1.692\n",
    "\n",
    "(50,256,500,1000,30,0.01) 2.240"
   ]
  },
  {
   "cell_type": "markdown",
   "metadata": {},
   "source": [
    "## Save Parameters\n",
    "Save `seq_length` and `save_dir` for generating a new TV script."
   ]
  },
  {
   "cell_type": "code",
   "execution_count": 114,
   "metadata": {},
   "outputs": [],
   "source": [
    "\"\"\"\n",
    "DON'T MODIFY ANYTHING IN THIS CELL\n",
    "\"\"\"\n",
    "# Save parameters for checkpoint\n",
    "helper.save_params((seq_length, save_dir))"
   ]
  },
  {
   "cell_type": "markdown",
   "metadata": {},
   "source": [
    "# Checkpoint"
   ]
  },
  {
   "cell_type": "code",
   "execution_count": 115,
   "metadata": {},
   "outputs": [],
   "source": [
    "\"\"\"\n",
    "DON'T MODIFY ANYTHING IN THIS CELL\n",
    "\"\"\"\n",
    "import tensorflow as tf\n",
    "import numpy as np\n",
    "import helper\n",
    "import problem_unittests as tests\n",
    "\n",
    "_, vocab_to_int, int_to_vocab, token_dict = helper.load_preprocess()\n",
    "seq_length, load_dir = helper.load_params()"
   ]
  },
  {
   "cell_type": "markdown",
   "metadata": {},
   "source": [
    "## Implement Generate Functions\n",
    "### Get Tensors\n",
    "Get tensors from `loaded_graph` using the function [`get_tensor_by_name()`](https://www.tensorflow.org/api_docs/python/tf/Graph#get_tensor_by_name).  Get the tensors using the following names:\n",
    "- \"input:0\"\n",
    "- \"initial_state:0\"\n",
    "- \"final_state:0\"\n",
    "- \"probs:0\"\n",
    "\n",
    "Return the tensors in the following tuple `(InputTensor, InitialStateTensor, FinalStateTensor, ProbsTensor)` "
   ]
  },
  {
   "cell_type": "code",
   "execution_count": 116,
   "metadata": {},
   "outputs": [
    {
     "name": "stdout",
     "output_type": "stream",
     "text": [
      "Tests Passed\n"
     ]
    }
   ],
   "source": [
    "def get_tensors(loaded_graph):\n",
    "    \"\"\"\n",
    "    Get input, initial state, final state, and probabilities tensor from <loaded_graph>\n",
    "    :param loaded_graph: TensorFlow graph loaded from file\n",
    "    :return: Tuple (InputTensor, InitialStateTensor, FinalStateTensor, ProbsTensor)\n",
    "    \"\"\"\n",
    "    # TODO: Implement Function\n",
    "    return (loaded_graph.get_tensor_by_name(\"input:0\"), loaded_graph.get_tensor_by_name(\"initial_state:0\"), loaded_graph.get_tensor_by_name(\"final_state:0\"), loaded_graph.get_tensor_by_name(\"probs:0\"))\n",
    "\n",
    "\n",
    "\"\"\"\n",
    "DON'T MODIFY ANYTHING IN THIS CELL THAT IS BELOW THIS LINE\n",
    "\"\"\"\n",
    "tests.test_get_tensors(get_tensors)"
   ]
  },
  {
   "cell_type": "markdown",
   "metadata": {},
   "source": [
    "### Choose Word\n",
    "Implement the `pick_word()` function to select the next word using `probabilities`."
   ]
  },
  {
   "cell_type": "code",
   "execution_count": 117,
   "metadata": {},
   "outputs": [
    {
     "name": "stdout",
     "output_type": "stream",
     "text": [
      "4\n",
      "1\n",
      "is\n",
      "Tests Passed\n"
     ]
    }
   ],
   "source": [
    "def pick_word(probabilities, int_to_vocab):\n",
    "    \"\"\"\n",
    "    Pick the next word in the generated text\n",
    "    :param probabilities: Probabilites of the next word\n",
    "    :param int_to_vocab: Dictionary of word ids as the keys and words as the values\n",
    "    :return: String of the predicted word\n",
    "    \"\"\"\n",
    "    # TODO: Implement Function\n",
    "    \n",
    "    vocab_size = len(int_to_vocab)\n",
    "    print(vocab_size)\n",
    "    int_val = np.random.choice(vocab_size, 1, p=probabilities)[0]\n",
    "    print(int_val)\n",
    "    word = int_to_vocab[int_val]\n",
    "    print(word)\n",
    "    return word\n",
    "\n",
    "\n",
    "\"\"\"\n",
    "DON'T MODIFY ANYTHING IN THIS CELL THAT IS BELOW THIS LINE\n",
    "\"\"\"\n",
    "tests.test_pick_word(pick_word)"
   ]
  },
  {
   "cell_type": "markdown",
   "metadata": {},
   "source": [
    "## Generate TV Script\n",
    "This will generate the TV script for you.  Set `gen_length` to the length of TV script you want to generate."
   ]
  },
  {
   "cell_type": "code",
   "execution_count": 118,
   "metadata": {},
   "outputs": [
    {
     "name": "stdout",
     "output_type": "stream",
     "text": [
      "INFO:tensorflow:Restoring parameters from ./save\n",
      "6779\n",
      "3\n",
      "||left_parentheses||\n",
      "6779\n",
      "3401\n",
      "14\n",
      "6779\n",
      "123\n",
      "down\n",
      "6779\n",
      "4\n",
      "||right_parentheses||\n",
      "6779\n",
      "14\n",
      "and\n",
      "6779\n",
      "5717\n",
      "refreshingness\n",
      "6779\n",
      "2\n",
      "||comma||\n",
      "6779\n",
      "40\n",
      "but\n",
      "6779\n",
      "6\n",
      "i\n",
      "6779\n",
      "91\n",
      "can't\n",
      "6779\n",
      "331\n",
      "believe\n",
      "6779\n",
      "110\n",
      "ya\n",
      "6779\n",
      "123\n",
      "down\n",
      "6779\n",
      "8\n",
      "||exclamation_mark||\n",
      "6779\n",
      "2909\n",
      "profiling\n",
      "6779\n",
      "1783\n",
      "backwards\n",
      "6779\n",
      "8\n",
      "||exclamation_mark||\n",
      "6779\n",
      "1\n",
      "||new_line||\n",
      "6779\n",
      "5997\n",
      "blamed\n",
      "6779\n",
      "29\n",
      "hey\n",
      "6779\n",
      "2\n",
      "||comma||\n",
      "6779\n",
      "24\n",
      "i'm\n",
      "6779\n",
      "148\n",
      "sorry\n",
      "6779\n",
      "0\n",
      "||period||\n",
      "6779\n",
      "6\n",
      "i\n",
      "6779\n",
      "168\n",
      "ain't\n",
      "6779\n",
      "78\n",
      "gonna\n",
      "6779\n",
      "281\n",
      "use\n",
      "6779\n",
      "26\n",
      "your\n",
      "6779\n",
      "287\n",
      "friends\n",
      "6779\n",
      "39\n",
      "like\n",
      "6779\n",
      "18\n",
      "that\n",
      "6779\n",
      "609\n",
      "late\n",
      "6779\n",
      "8\n",
      "||exclamation_mark||\n",
      "6779\n",
      "1\n",
      "||new_line||\n",
      "6779\n",
      "12\n",
      "homer_simpson:\n",
      "6779\n",
      "436\n",
      "save\n",
      "6779\n",
      "1808\n",
      "kids'\n",
      "6779\n",
      "3\n",
      "||left_parentheses||\n",
      "6779\n",
      "3120\n",
      "unattractive\n",
      "6779\n",
      "2\n",
      "||comma||\n",
      "6779\n",
      "635\n",
      "gasps\n",
      "6779\n",
      "4\n",
      "||right_parentheses||\n",
      "6779\n",
      "1516\n",
      "where'd\n",
      "6779\n",
      "7\n",
      "you\n",
      "6779\n",
      "56\n",
      "get\n",
      "6779\n",
      "18\n",
      "that\n",
      "6779\n",
      "5748\n",
      "lainie:\n",
      "6779\n",
      "3412\n",
      "bothered\n",
      "6779\n",
      "13\n",
      "to\n",
      "6779\n",
      "264\n",
      "buy\n",
      "6779\n",
      "5\n",
      "the\n",
      "6779\n",
      "4226\n",
      "broken\n",
      "6779\n",
      "2440\n",
      "loss\n",
      "6779\n",
      "11\n",
      "a\n",
      "6779\n",
      "3993\n",
      "jumping\n",
      "6779\n",
      "123\n",
      "down\n",
      "6779\n",
      "3631\n",
      "moe-near-now\n",
      "6779\n",
      "554\n",
      "eye\n",
      "6779\n",
      "8\n",
      "||exclamation_mark||\n",
      "6779\n",
      "1\n",
      "||new_line||\n",
      "6779\n",
      "9\n",
      "moe_szyslak:\n",
      "6779\n",
      "5\n",
      "the\n",
      "6779\n",
      "43\n",
      "be\n",
      "6779\n",
      "1026\n",
      "sharps\n",
      "6779\n",
      "0\n",
      "||period||\n",
      "6779\n",
      "1\n",
      "||new_line||\n",
      "6779\n",
      "9\n",
      "moe_szyslak:\n",
      "6779\n",
      "24\n",
      "i'm\n",
      "6779\n",
      "359\n",
      "doin'\n",
      "6779\n",
      "17\n",
      "it\n",
      "6779\n",
      "2\n",
      "||comma||\n",
      "6779\n",
      "30\n",
      "moe\n",
      "6779\n",
      "0\n",
      "||period||\n",
      "6779\n",
      "54\n",
      "got\n",
      "6779\n",
      "11\n",
      "a\n",
      "6779\n",
      "452\n",
      "feeling\n",
      "6779\n",
      "6\n",
      "i\n",
      "6779\n",
      "78\n",
      "gonna\n",
      "6779\n",
      "47\n",
      "have\n",
      "6779\n",
      "32\n",
      "no\n",
      "6779\n",
      "1417\n",
      "cable\n",
      "6779\n",
      "6701\n",
      "dingy\n",
      "6779\n",
      "14\n",
      "and\n",
      "6779\n",
      "6\n",
      "i\n",
      "6779\n",
      "1495\n",
      "keeping\n",
      "6779\n",
      "2\n",
      "||comma||\n",
      "6779\n",
      "58\n",
      "uh\n",
      "6779\n",
      "0\n",
      "||period||\n",
      "6779\n",
      "0\n",
      "||period||\n",
      "6779\n",
      "0\n",
      "||period||\n",
      "6779\n",
      "1\n",
      "||new_line||\n",
      "6779\n",
      "1\n",
      "||new_line||\n",
      "6779\n",
      "1\n",
      "||new_line||\n",
      "6779\n",
      "9\n",
      "moe_szyslak:\n",
      "6779\n",
      "29\n",
      "hey\n",
      "6779\n",
      "2\n",
      "||comma||\n",
      "6779\n",
      "34\n",
      "what\n",
      "6779\n",
      "7\n",
      "you\n",
      "6779\n",
      "47\n",
      "have\n",
      "6779\n",
      "1808\n",
      "kids'\n",
      "6779\n",
      "508\n",
      "mom\n",
      "6779\n",
      "2\n",
      "||comma||\n",
      "6779\n",
      "40\n",
      "but\n",
      "6779\n",
      "6\n",
      "i\n",
      "6779\n",
      "126\n",
      "am\n",
      "6779\n",
      "1805\n",
      "ground\n",
      "6779\n",
      "0\n",
      "||period||\n",
      "6779\n",
      "1\n",
      "||new_line||\n",
      "6779\n",
      "9\n",
      "moe_szyslak:\n",
      "6779\n",
      "24\n",
      "i'm\n",
      "6779\n",
      "2844\n",
      "deacon\n",
      "6779\n",
      "10\n",
      "||question_mark||\n",
      "6779\n",
      "3\n",
      "||left_parentheses||\n",
      "6779\n",
      "600\n",
      "worried\n",
      "6779\n",
      "74\n",
      "about\n",
      "6779\n",
      "4\n",
      "||right_parentheses||\n",
      "6779\n",
      "420\n",
      "edna\n",
      "6779\n",
      "2\n",
      "||comma||\n",
      "6779\n",
      "4742\n",
      "earrings\n",
      "6779\n",
      "0\n",
      "||period||\n",
      "6779\n",
      "7\n",
      "you\n",
      "6779\n",
      "167\n",
      "didn't\n",
      "6779\n",
      "115\n",
      "say\n",
      "6779\n",
      "438\n",
      "you'd\n",
      "6779\n",
      "421\n",
      "kill\n",
      "6779\n",
      "7\n",
      "you\n",
      "6779\n",
      "0\n",
      "||period||\n",
      "6779\n",
      "1\n",
      "||new_line||\n",
      "6779\n",
      "12\n",
      "homer_simpson:\n",
      "6779\n",
      "3\n",
      "||left_parentheses||\n",
      "6779\n",
      "4953\n",
      "nerd\n",
      "6779\n",
      "4\n",
      "||right_parentheses||\n",
      "6779\n",
      "4804\n",
      "chug-a-lug\n",
      "6779\n",
      "4798\n",
      "sticking\n",
      "6779\n",
      "0\n",
      "||period||\n",
      "6779\n",
      "1\n",
      "||new_line||\n",
      "6779\n",
      "12\n",
      "homer_simpson:\n",
      "6779\n",
      "7\n",
      "you\n",
      "6779\n",
      "248\n",
      "won't\n",
      "6779\n",
      "141\n",
      "tell\n",
      "6779\n",
      "21\n",
      "me\n",
      "6779\n",
      "107\n",
      "when\n",
      "6779\n",
      "70\n",
      "how\n",
      "6779\n",
      "177\n",
      "much\n",
      "6779\n",
      "1246\n",
      "respect\n",
      "6779\n",
      "10\n",
      "||question_mark||\n",
      "6779\n",
      "1\n",
      "||new_line||\n",
      "6779\n",
      "12\n",
      "homer_simpson:\n",
      "6779\n",
      "208\n",
      "boy\n",
      "6779\n",
      "2\n",
      "||comma||\n",
      "6779\n",
      "7\n",
      "you\n",
      "6779\n",
      "1644\n",
      "recommend\n",
      "6779\n",
      "112\n",
      "her\n",
      "6779\n",
      "19\n",
      "in\n",
      "6779\n",
      "18\n",
      "that\n",
      "6779\n",
      "5726\n",
      "horribilis\n",
      "6779\n",
      "1679\n",
      "military\n",
      "6779\n",
      "0\n",
      "||period||\n",
      "6779\n",
      "69\n",
      "/\n",
      "6779\n",
      "31\n",
      "oh\n",
      "6779\n",
      "548\n",
      "dear\n",
      "6779\n",
      "166\n",
      "god\n",
      "6779\n",
      "2\n",
      "||comma||\n",
      "6779\n",
      "27\n",
      "homer\n",
      "6779\n",
      "0\n",
      "||period||\n",
      "6779\n",
      "1\n",
      "||new_line||\n",
      "6779\n",
      "9\n",
      "moe_szyslak:\n",
      "6779\n",
      "24\n",
      "i'm\n",
      "6779\n",
      "148\n",
      "sorry\n",
      "6779\n",
      "2\n",
      "||comma||\n",
      "6779\n",
      "137\n",
      "where\n",
      "6779\n",
      "7\n",
      "you\n",
      "6779\n",
      "5\n",
      "the\n",
      "6779\n",
      "4740\n",
      "including\n",
      "6779\n",
      "2695\n",
      "lock\n",
      "6779\n",
      "48\n",
      "up\n",
      "6779\n",
      "8\n",
      "||exclamation_mark||\n",
      "6779\n",
      "1\n",
      "||new_line||\n",
      "6779\n",
      "45\n",
      "carl_carlson:\n",
      "6779\n",
      "116\n",
      "ah\n",
      "6779\n",
      "2\n",
      "||comma||\n",
      "6779\n",
      "212\n",
      "hello\n",
      "6779\n",
      "0\n",
      "||period||\n",
      "6779\n",
      "1\n",
      "||new_line||\n",
      "6779\n",
      "3749\n",
      "automobiles\n",
      "6779\n",
      "204\n",
      "whoa\n",
      "6779\n",
      "2\n",
      "||comma||\n",
      "6779\n",
      "204\n",
      "whoa\n",
      "6779\n",
      "2\n",
      "||comma||\n",
      "6779\n",
      "1434\n",
      "carl's\n",
      "6779\n",
      "18\n",
      "that\n",
      "6779\n",
      "3093\n",
      "stinky\n",
      "6779\n",
      "0\n",
      "||period||\n",
      "6779\n",
      "63\n",
      "now\n",
      "6779\n",
      "22\n",
      "is\n",
      "6779\n",
      "1691\n",
      "edison\n",
      "6779\n",
      "0\n",
      "||period||\n",
      "6779\n",
      "3\n",
      "||left_parentheses||\n",
      "6779\n",
      "630\n",
      "second\n",
      "moe_szyslak:(14 down) and refreshingness, but i can't believe ya down! profiling backwards!\n",
      "blamed hey, i'm sorry. i ain't gonna use your friends like that late!\n",
      "homer_simpson: save kids'(unattractive, gasps) where'd you get that lainie: bothered to buy the broken loss a jumping down moe-near-now eye!\n",
      "moe_szyslak: the be sharps.\n",
      "moe_szyslak: i'm doin' it, moe. got a feeling i gonna have no cable dingy and i keeping, uh...\n",
      "\n",
      "\n",
      "moe_szyslak: hey, what you have kids' mom, but i am ground.\n",
      "moe_szyslak: i'm deacon?(worried about) edna, earrings. you didn't say you'd kill you.\n",
      "homer_simpson:(nerd) chug-a-lug sticking.\n",
      "homer_simpson: you won't tell me when how much respect?\n",
      "homer_simpson: boy, you recommend her in that horribilis military. / oh dear god, homer.\n",
      "moe_szyslak: i'm sorry, where you the including lock up!\n",
      "carl_carlson: ah, hello.\n",
      "automobiles whoa, whoa, carl's that stinky. now is edison.(second\n"
     ]
    }
   ],
   "source": [
    "gen_length = 200\n",
    "# homer_simpson, moe_szyslak, or Barney_Gumble\n",
    "prime_word = 'moe_szyslak'\n",
    "\n",
    "\"\"\"\n",
    "DON'T MODIFY ANYTHING IN THIS CELL THAT IS BELOW THIS LINE\n",
    "\"\"\"\n",
    "loaded_graph = tf.Graph()\n",
    "with tf.Session(graph=loaded_graph) as sess:\n",
    "    # Load saved model\n",
    "    loader = tf.train.import_meta_graph(load_dir + '.meta')\n",
    "    loader.restore(sess, load_dir)\n",
    "\n",
    "    # Get Tensors from loaded model\n",
    "    input_text, initial_state, final_state, probs = get_tensors(loaded_graph)\n",
    "\n",
    "    # Sentences generation setup\n",
    "    gen_sentences = [prime_word + ':']\n",
    "    prev_state = sess.run(initial_state, {input_text: np.array([[1]])})\n",
    "\n",
    "    # Generate sentences\n",
    "    for n in range(gen_length):\n",
    "        # Dynamic Input\n",
    "        dyn_input = [[vocab_to_int[word] for word in gen_sentences[-seq_length:]]]\n",
    "        dyn_seq_length = len(dyn_input[0])\n",
    "\n",
    "        # Get Prediction\n",
    "        probabilities, prev_state = sess.run(\n",
    "            [probs, final_state],\n",
    "            {input_text: dyn_input, initial_state: prev_state})\n",
    "        \n",
    "        pred_word = pick_word(probabilities[0][dyn_seq_length-1], int_to_vocab)\n",
    "\n",
    "        gen_sentences.append(pred_word)\n",
    "    \n",
    "    # Remove tokens\n",
    "    tv_script = ' '.join(gen_sentences)\n",
    "    for key, token in token_dict.items():\n",
    "        ending = ' ' if key in ['\\n', '(', '\"'] else ''\n",
    "        tv_script = tv_script.replace(' ' + token.lower(), key)\n",
    "    tv_script = tv_script.replace('\\n ', '\\n')\n",
    "    tv_script = tv_script.replace('( ', '(')\n",
    "        \n",
    "    print(tv_script)\n",
    "    "
   ]
  },
  {
   "cell_type": "markdown",
   "metadata": {},
   "source": [
    "# The TV Script is Nonsensical\n",
    "It's ok if the TV script doesn't make any sense.  We trained on less than a megabyte of text.  In order to get good results, you'll have to use a smaller vocabulary or get more data.  Luckily there's more data!  As we mentioned in the beggining of this project, this is a subset of [another dataset](https://www.kaggle.com/wcukierski/the-simpsons-by-the-data).  We didn't have you train on all the data, because that would take too long.  However, you are free to train your neural network on all the data.  After you complete the project, of course.\n",
    "# Submitting This Project\n",
    "When submitting this project, make sure to run all the cells before saving the notebook. Save the notebook file as \"dlnd_tv_script_generation.ipynb\" and save it as a HTML file under \"File\" -> \"Download as\". Include the \"helper.py\" and \"problem_unittests.py\" files in your submission."
   ]
  }
 ],
 "metadata": {
  "kernelspec": {
   "display_name": "Python 3",
   "language": "python",
   "name": "python3"
  },
  "language_info": {
   "codemirror_mode": {
    "name": "ipython",
    "version": 3
   },
   "file_extension": ".py",
   "mimetype": "text/x-python",
   "name": "python",
   "nbconvert_exporter": "python",
   "pygments_lexer": "ipython3",
   "version": "3.6.3"
  },
  "widgets": {
   "state": {},
   "version": "1.1.2"
  }
 },
 "nbformat": 4,
 "nbformat_minor": 1
}
