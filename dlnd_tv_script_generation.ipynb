{
 "cells": [
  {
   "cell_type": "markdown",
   "metadata": {},
   "source": [
    "# TV Script Generation\n",
    "In this project, you'll generate your own [Simpsons](https://en.wikipedia.org/wiki/The_Simpsons) TV scripts using RNNs.  You'll be using part of the [Simpsons dataset](https://www.kaggle.com/wcukierski/the-simpsons-by-the-data) of scripts from 27 seasons.  The Neural Network you'll build will generate a new TV script for a scene at [Moe's Tavern](https://simpsonswiki.com/wiki/Moe's_Tavern).\n",
    "## Get the Data\n",
    "The data is already provided for you.  You'll be using a subset of the original dataset.  It consists of only the scenes in Moe's Tavern.  This doesn't include other versions of the tavern, like \"Moe's Cavern\", \"Flaming Moe's\", \"Uncle Moe's Family Feed-Bag\", etc.."
   ]
  },
  {
   "cell_type": "code",
   "execution_count": 33,
   "metadata": {},
   "outputs": [],
   "source": [
    "\"\"\"\n",
    "DON'T MODIFY ANYTHING IN THIS CELL\n",
    "\"\"\"\n",
    "import helper\n",
    "\n",
    "data_dir = './data/simpsons/moes_tavern_lines.txt'\n",
    "text = helper.load_data(data_dir)\n",
    "# Ignore notice, since we don't use it for analysing the data\n",
    "text = text[81:]"
   ]
  },
  {
   "cell_type": "markdown",
   "metadata": {},
   "source": [
    "## Explore the Data\n",
    "Play around with `view_sentence_range` to view different parts of the data."
   ]
  },
  {
   "cell_type": "code",
   "execution_count": 34,
   "metadata": {},
   "outputs": [
    {
     "name": "stdout",
     "output_type": "stream",
     "text": [
      "Dataset Stats\n",
      "Roughly the number of unique words: 11492\n",
      "Number of scenes: 262\n",
      "Average number of sentences in each scene: 15.248091603053435\n",
      "Number of lines: 4257\n",
      "Average number of words in each line: 11.50434578341555\n",
      "\n",
      "The sentences 0 to 10:\n",
      "Moe_Szyslak: (INTO PHONE) Moe's Tavern. Where the elite meet to drink.\n",
      "Bart_Simpson: Eh, yeah, hello, is Mike there? Last name, Rotch.\n",
      "Moe_Szyslak: (INTO PHONE) Hold on, I'll check. (TO BARFLIES) Mike Rotch. Mike Rotch. Hey, has anybody seen Mike Rotch, lately?\n",
      "Moe_Szyslak: (INTO PHONE) Listen you little puke. One of these days I'm gonna catch you, and I'm gonna carve my name on your back with an ice pick.\n",
      "Moe_Szyslak: What's the matter Homer? You're not your normal effervescent self.\n",
      "Homer_Simpson: I got my problems, Moe. Give me another one.\n",
      "Moe_Szyslak: Homer, hey, you should not drink to forget your problems.\n",
      "Barney_Gumble: Yeah, you should only drink to enhance your social skills.\n",
      "\n",
      "\n"
     ]
    }
   ],
   "source": [
    "view_sentence_range = (0, 10)\n",
    "\n",
    "\"\"\"\n",
    "DON'T MODIFY ANYTHING IN THIS CELL\n",
    "\"\"\"\n",
    "import numpy as np\n",
    "\n",
    "print('Dataset Stats')\n",
    "print('Roughly the number of unique words: {}'.format(len({word: None for word in text.split()})))\n",
    "scenes = text.split('\\n\\n')\n",
    "print('Number of scenes: {}'.format(len(scenes)))\n",
    "sentence_count_scene = [scene.count('\\n') for scene in scenes]\n",
    "print('Average number of sentences in each scene: {}'.format(np.average(sentence_count_scene)))\n",
    "\n",
    "sentences = [sentence for scene in scenes for sentence in scene.split('\\n')]\n",
    "print('Number of lines: {}'.format(len(sentences)))\n",
    "word_count_sentence = [len(sentence.split()) for sentence in sentences]\n",
    "print('Average number of words in each line: {}'.format(np.average(word_count_sentence)))\n",
    "\n",
    "print()\n",
    "print('The sentences {} to {}:'.format(*view_sentence_range))\n",
    "print('\\n'.join(text.split('\\n')[view_sentence_range[0]:view_sentence_range[1]]))"
   ]
  },
  {
   "cell_type": "markdown",
   "metadata": {},
   "source": [
    "## Implement Preprocessing Functions\n",
    "The first thing to do to any dataset is preprocessing.  Implement the following preprocessing functions below:\n",
    "- Lookup Table\n",
    "- Tokenize Punctuation\n",
    "\n",
    "### Lookup Table\n",
    "To create a word embedding, you first need to transform the words to ids.  In this function, create two dictionaries:\n",
    "- Dictionary to go from the words to an id, we'll call `vocab_to_int`\n",
    "- Dictionary to go from the id to word, we'll call `int_to_vocab`\n",
    "\n",
    "Return these dictionaries in the following tuple `(vocab_to_int, int_to_vocab)`"
   ]
  },
  {
   "cell_type": "code",
   "execution_count": 35,
   "metadata": {},
   "outputs": [
    {
     "name": "stdout",
     "output_type": "stream",
     "text": [
      "{'whats': 0, 'homer': 1, 'listen': 2, 'only': 3, 'skills': 4, 'eh': 5, 'yeah': 6, \"i'm\": 7, 'these': 8, 'forget': 9, 'you': 10, \"you're\": 11, 'homer_simpson': 12, 'puke': 13, 'hey': 14, 'one': 15, 'effervescent': 16, 'name': 17, 'meet': 18, 'the': 19, 'has': 20, 'got': 21, 'give': 22, 'enhance': 23, 'tavern': 24, 'seen': 25, 'is': 26, 'social': 27, \"moe's\": 28, 'last': 29, 'check': 30, 'with': 31, \"i'll\": 32, 'i': 33, 'back': 34, 'should': 35, 'of': 36, 'hold': 37, 'problems': 38, 'barney_gumble': 39, 'ice': 40, 'to': 41, 'mike': 42, 'anybody': 43, 'moe_szyslak': 44, 'where': 45, 'catch': 46, 'on': 47, 'moe': 48, 'and': 49, 'rotch': 50, 'days': 51, 'pick': 52, 'matter': 53, 'hello': 54, 'normal': 55, 'another': 56, 'gonna': 57, 'my': 58, 'there': 59, 'not': 60, 'little': 61, 'me': 62, 'your': 63, 'carve': 64, 'elite': 65, 'drink': 66, 'an': 67, 'self': 68, 'bart_simpson': 69, 'lately': 70}\n",
      "Tests Passed\n"
     ]
    }
   ],
   "source": [
    "import numpy as np\n",
    "import problem_unittests as tests\n",
    "\n",
    "def create_lookup_tables(text):\n",
    "    \"\"\"\n",
    "    Create lookup tables for vocabulary\n",
    "    :param text: The text of tv scripts split into words\n",
    "    :return: A tuple of dicts (vocab_to_int, int_to_vocab)\n",
    "    \"\"\"\n",
    "    # TODO: Implement Function\n",
    "    vocab = set(text)\n",
    "    #print (vocab)\n",
    "    vocab_to_int = {c: i for i, c in enumerate(vocab)}\n",
    "    print (vocab_to_int)\n",
    "    int_to_vocab = dict(enumerate(vocab))\n",
    "    #print (int_to_vocab)\n",
    "    \n",
    "    return vocab_to_int,int_to_vocab\n",
    "\n",
    "\n",
    "\n",
    "\"\"\"\n",
    "DON'T MODIFY ANYTHING IN THIS CELL THAT IS BELOW THIS LINE\n",
    "\"\"\"\n",
    "tests.test_create_lookup_tables(create_lookup_tables)"
   ]
  },
  {
   "cell_type": "markdown",
   "metadata": {},
   "source": [
    "### Tokenize Punctuation\n",
    "We'll be splitting the script into a word array using spaces as delimiters.  However, punctuations like periods and exclamation marks make it hard for the neural network to distinguish between the word \"bye\" and \"bye!\".\n",
    "\n",
    "Implement the function `token_lookup` to return a dict that will be used to tokenize symbols like \"!\" into \"||Exclamation_Mark||\".  Create a dictionary for the following symbols where the symbol is the key and value is the token:\n",
    "- Period ( . )\n",
    "- Comma ( , )\n",
    "- Quotation Mark ( \" )\n",
    "- Semicolon ( ; )\n",
    "- Exclamation mark ( ! )\n",
    "- Question mark ( ? )\n",
    "- Left Parentheses ( ( )\n",
    "- Right Parentheses ( ) )\n",
    "- Dash ( -- )\n",
    "- Return ( \\n )\n",
    "\n",
    "This dictionary will be used to token the symbols and add the delimiter (space) around it.  This separates the symbols as it's own word, making it easier for the neural network to predict on the next word. Make sure you don't use a token that could be confused as a word. Instead of using the token \"dash\", try using something like \"||dash||\"."
   ]
  },
  {
   "cell_type": "code",
   "execution_count": 36,
   "metadata": {},
   "outputs": [
    {
     "name": "stdout",
     "output_type": "stream",
     "text": [
      "Tests Passed\n"
     ]
    }
   ],
   "source": [
    "def token_lookup():\n",
    "    \"\"\"\n",
    "    Generate a dict to turn punctuation into a token.\n",
    "    :return: Tokenize dictionary where the key is the punctuation and the value is the token\n",
    "    \"\"\"\n",
    "    punctuation_to_token ={\".\" : \"<<Period>>\" \n",
    "                           ,\",\": \"<<Comma>>\"\n",
    "                           ,'\"' : \"<<Quotation_Mark>>\"\n",
    "                           ,';' : \"<<Semicolon>>\"\n",
    "                           ,\"!\" : \"<<Exclamation_mark>>\"\n",
    "                           ,'?' : \"<<Question_Mark>>\"\n",
    "                           ,'(' : \"<<left_parentheses>>\"\n",
    "                           ,')' : \"<<right_parentheses>>\"\n",
    "                           ,'--' : \"<<dash>>\"\n",
    "                           ,\"\\n\" : \"<<Return>>\"\n",
    "                          }\n",
    "    return punctuation_to_token\n",
    "\n",
    "\"\"\"\n",
    "DON'T MODIFY ANYTHING IN THIS CELL THAT IS BELOW THIS LINE\n",
    "\"\"\"\n",
    "tests.test_tokenize(token_lookup)"
   ]
  },
  {
   "cell_type": "markdown",
   "metadata": {},
   "source": [
    "## Preprocess all the data and save it\n",
    "Running the code cell below will preprocess all the data and save it to file."
   ]
  },
  {
   "cell_type": "code",
   "execution_count": 37,
   "metadata": {},
   "outputs": [
    {
     "name": "stdout",
     "output_type": "stream",
     "text": [
      "{'pian-ee': 0, 'wow': 1, 'starving': 2, 'vermont': 3, 'truck_driver:': 4, 'yawns': 5, 'head': 6, 'willing': 7, 'arguing': 8, \"larry's\": 9, 'goblins': 10, 'customers-slash-only': 11, 'routine': 12, 'underpants': 13, 'protesters': 14, 'explain': 15, 'slurps': 16, 'h': 17, \"cont'd:\": 18, 'brusque': 19, 'recorder': 20, 'cans': 21, 'tight': 22, 'your': 23, 'join': 24, 'oooo': 25, 'roz': 26, 'unbelievably': 27, 'ignoring': 28, 'ehhh': 29, 'book': 30, 'worked': 31, 'generous': 32, 'furry': 33, 'shard': 34, 'how': 35, 'creates': 36, 'homie': 37, \"bladder's\": 38, 'louisiana': 39, 'post-suicide': 40, 'crow': 41, 'beans': 42, 'fighter': 43, 'call': 44, \"tomorrow's\": 45, 'terrible': 46, 'whisper': 47, 'plastic': 48, 'part-time': 49, 'endorsement': 50, 'cherry': 51, 'drank': 52, 'iddilies': 53, 'pop': 54, \"c'mon\": 55, 'decide': 56, 'leathery': 57, 'bump': 58, 'sudden': 59, 'stage': 60, \"couldn't\": 61, 'adopted': 62, 'build': 63, 'dna': 64, 'machine': 65, 'd': 66, 'began': 67, 'tsking': 68, 'lindsay_naegle:': 69, 'aside': 70, 'manchego': 71, 'venom': 72, 'gardens': 73, 'bold': 74, '_montgomery_burns:': 75, 'slyly': 76, 'fictional': 77, 'cheaped': 78, 'sanitary': 79, 'glove': 80, 'donor': 81, 'groveling': 82, 'drove': 83, 'become': 84, 'butts': 85, 'other_book_club_member:': 86, 'peppy': 87, 'puke-holes': 88, 'pockets': 89, 'committing': 90, 'prep': 91, 'noosey': 92, 'female_inspector:': 93, 'smitty:': 94, 'introduce': 95, 'dime': 96, 'un-sults': 97, 'wobble': 98, 'suspiciously': 99, 'gals': 100, 'boxcar': 101, 'stuck': 102, 'crapmore': 103, 'alarm': 104, 'winch': 105, 'religious': 106, 'panicked': 107, 'reactions': 108, 'guess': 109, 'along': 110, 'düff': 111, 'hiding': 112, 'trustworthy': 113, 'wagering': 114, 'pick': 115, 'ehhhhhhhh': 116, \"tryin'\": 117, 'unsourced': 118, 'have': 119, 'promised': 120, \"readin'\": 121, 'please/': 122, 'derek': 123, 'yee-ha': 124, 'krabappel': 125, 'diving': 126, 'smooth': 127, 'pushing': 128, 'orders': 129, 'uses': 130, 'eurotrash': 131, 'full': 132, 'background': 133, 'lifters': 134, 'oddest': 135, \"tv'll\": 136, 'crappy': 137, 'ticks': 138, 'lily-pond': 139, 'dictator': 140, 'ahhh': 141, 'thank': 142, 'either': 143, 'thoughtful': 144, 'must': 145, 'lawyer': 146, 'drink': 147, \"nothin's\": 148, 'shtick': 149, 'icy': 150, 'contract': 151, \"seein'\": 152, 'destroyed': 153, 'cheat': 154, 'bachelorhood': 155, \"what'll\": 156, 'passed': 157, 'three': 158, 'cavern': 159, 'tenor:': 160, 'sees': 161, 'pre-game': 162, 'milhouses': 163, 'clown-like': 164, 'brawled': 165, 'christopher': 166, 'busted': 167, \"shouldn't\": 168, 'gary:': 169, 'digging': 170, 'tolerance': 171, 'sent': 172, \"hasn't\": 173, 'celebrities': 174, 'madison': 175, 'floor': 176, \"wearin'\": 177, 'checking': 178, 'equal': 179, 'selma': 180, 'marshmallow': 181, 'together': 182, 'luv': 183, 'frightened': 184, 'whoever': 185, 'dr': 186, 'brown': 187, 'ourselves': 188, 'shag': 189, 'cigarettes': 190, 'grandkids': 191, 'pets': 192, 'trivia': 193, 'hitchhike': 194, 'spread': 195, 'donate': 196, 'judge_snyder:': 197, \"secret's\": 198, 'shocked': 199, 'lovely': 200, 'carmichael': 201, 'mac-who': 202, 'bones': 203, 'kim_basinger:': 204, 'ignorant': 205, 'wigs': 206, \"queen's\": 207, 'fighting': 208, 'making': 209, 'girl': 210, 'dismissive': 211, 'wishing': 212, 'meanwhile': 213, 'capuchin': 214, 'disdainful': 215, \"thing's\": 216, 'may': 217, 'curious': 218, 'file': 219, 'shares': 220, 'trash': 221, 'flash': 222, \"toot's\": 223, 'hyper-credits': 224, 'flaming': 225, 'man': 226, 'whaddaya': 227, 'weapon': 228, 'ihop': 229, \"depressin'\": 230, 'secrets': 231, 'fury': 232, 'catty': 233, 'splash': 234, 'ura': 235, 'thawing': 236, 'beginning': 237, 'pontiff': 238, \"we'd\": 239, 'larry': 240, 'whim': 241, 'k-zug': 242, 'inspector': 243, 'alien': 244, 'whip': 245, 'little': 246, 'roses': 247, 'billiard': 248, 'you': 249, 'borrow': 250, 'mike_mills:': 251, \"stealin'\": 252, 'level': 253, 'municipal': 254, 'sarcastic': 255, 'getting': 256, 'bubbles-in-my-nose-y': 257, 'attached': 258, 'costume': 259, 'fires': 260, 'spite': 261, 'discussing': 262, 'releasing': 263, 'legs:': 264, 'nearly': 265, 'convinced': 266, 'comedies': 267, 'yap': 268, 'washer': 269, 'temples': 270, 'hm': 271, 'suffering': 272, 'woman': 273, 'go-near-': 274, 'groans': 275, 'choice': 276, 'woe:': 277, 'motto': 278, 'bless': 279, \"doin'\": 280, 'hangs': 281, 'simultaneous': 282, 'baloney': 283, 'chumbawamba': 284, 'finally': 285, 'straining': 286, 'taps': 287, 'coyly': 288, 'diets': 289, 'whispers': 290, 'notice': 291, 'push': 292, 'o': 293, 'roomy': 294, 'declared': 295, 'duke': 296, 'sustain': 297, 'mags': 298, 'whistling': 299, 'mr': 300, 'rome': 301, 'ahhhh': 302, 'says': 303, 'pride': 304, 'gentleman:': 305, 'helps': 306, 'runt': 307, 'manboobs': 308, 'indignant': 309, 'pills': 310, 'combination': 311, 'mcclure': 312, 'strolled': 313, 'glasses': 314, 'crayon': 315, 'giggles': 316, 'reconsidering': 317, 'pipe': 318, 'cream': 319, 'affectations': 320, 'side': 321, 'recently': 322, 'field': 323, 'broom': 324, 'bourbon': 325, 'second': 326, 'die-hard': 327, 'f': 328, 'forget-me-drinks': 329, 'said': 330, 'anthony_kiedis:': 331, 'party': 332, 'broadway': 333, 'flourish': 334, 'smile': 335, 'shoulder': 336, \"sippin'\": 337, 'novelty': 338, 'abusive': 339, 'boxers': 340, 'extra': 341, 'buzziness': 342, 'totalitarians': 343, 'sometime': 344, 'index': 345, 'limited': 346, 'moved': 347, 'monroe': 348, 'togetherness': 349, 'chase': 350, 'walked': 351, 'theater': 352, \"department's\": 353, 'reopen': 354, 'fit': 355, 'dracula': 356, 'determined': 357, 'jack_larson:': 358, 'anger': 359, 'worldview': 360, 'carefully': 361, 'logos': 362, 'whaddya': 363, 'corporation': 364, 'cheese': 365, 'photos': 366, 'shooting': 367, 'choices:': 368, 'balloon': 369, 'van': 370, 'xanders': 371, 'bridges': 372, 'speed': 373, 'recruiter': 374, 'mither': 375, \"ridin'\": 376, 'rush': 377, 'both': 378, 'sticker': 379, 'add': 380, 'script': 381, 'whatever': 382, 'helen': 383, 'loafers': 384, 'backgammon': 385, 'vote': 386, 'wish': 387, 'dipping': 388, 'disguised': 389, 'begging': 390, 'wait': 391, 'dennis_conroy:': 392, 'jelly': 393, '_burns_heads:': 394, 'salvation': 395, 'sexual': 396, \"bashir's\": 397, 'lushmore': 398, 'conclusions': 399, 'fausto': 400, 'nor': 401, 'ingested': 402, 'dennis_kucinich:': 403, 'paying': 404, 'much': 405, 'clams': 406, 'fixed': 407, \"goin'\": 408, 'forgiven': 409, 'impressed': 410, 'aww': 411, 'nation': 412, 'manfred': 413, 'vacuum': 414, 'vulnerable': 415, 'heading': 416, 'fulla': 417, 'scout': 418, 'snaps': 419, 'ron_howard:': 420, 'author': 421, 'tempting': 422, 'man:': 423, 'tastes': 424, 'buried': 425, 'settlement': 426, 'soon': 427, 'male_inspector:': 428, 'like': 429, 'slim': 430, 'british': 431, 'boxing_announcer:': 432, 'koi': 433, 'nerd': 434, 'celebrity': 435, 'easily': 436, \"tinklin'\": 437, 'need': 438, 'jig': 439, 'r': 440, '_timothy_lovejoy:': 441, 'languages': 442, 'driver': 443, 'sports_announcer:': 444, 'batmobile': 445, 'afterglow': 446, 'el': 447, 'mid-conversation': 448, 'weirded-out': 449, 'contemporary': 450, 'low-life': 451, 'killjoy': 452, 'tense': 453, 'judge': 454, 'twenty-nine': 455, 'elizabeth': 456, 'lift': 457, 'hampstead-on-cecil-cecil': 458, 'poker': 459, 'proper': 460, 'species': 461, 'reach': 462, 'feeling': 463, 'knife': 464, 'coin': 465, 'kirk': 466, 'spare': 467, 'ominous': 468, 'newspaper': 469, 'teeth': 470, 'an': 471, 'wha': 472, 'product': 473, 'discuss': 474, 'cut': 475, 'evils': 476, 'into': 477, 'mickey': 478, 'notably': 479, 'adult': 480, 'new_health_inspector:': 481, 'backing': 482, 'somehow': 483, 'tale': 484, 'bellyaching': 485, 'foibles': 486, \"s'pose\": 487, 'runners': 488, 'advantage': 489, 'moe': 490, \"challengin'\": 491, 'oh-ho': 492, 'rivalry': 493, 'lessons': 494, 'switch': 495, 'yes': 496, 'cocks': 497, 'witty': 498, 'wasting': 499, 'souped': 500, 'fly': 501, 'broken': 502, 'sat-is-fac-tion': 503, 'kwik-e-mart': 504, 'public': 505, 'plotz': 506, 'snotball': 507, 'hug': 508, 'wonder': 509, 'burg': 510, 'chug': 511, 'allowance': 512, 'any': 513, 'play/': 514, 'folk': 515, 'dressing': 516, 'jesus': 517, 'inspired': 518, 'worst': 519, 'seemed': 520, 'slaves': 521, 'finale': 522, 'gags': 523, 'seas': 524, 'principal': 525, 'courthouse': 526, '/mr': 527, \"hell's\": 528, 'mean': 529, 'leprechaun': 530, 'brilliant': 531, 'suit': 532, 'recommend': 533, 'stevie': 534, 'hoo': 535, 'hangout': 536, 'wreck': 537, 'foil': 538, \"where'd\": 539, 'fill': 540, 'voicemail': 541, 'gargoyle': 542, \"puttin'\": 543, 'customers': 544, 'huhza': 545, 'cleaned': 546, 'kemi': 547, 'pathetic': 548, 'eighty-seven': 549, 'victim': 550, 'barbed': 551, 'focus': 552, 'sounded': 553, 'known': 554, 'enhance': 555, 'olive': 556, 'cerebral': 557, 'played': 558, 'losers': 559, 'since': 560, 'sober': 561, 'sing-song': 562, 'ninth': 563, 'tummies': 564, 'latin': 565, 'land': 566, 'isotopes': 567, \"hobo's\": 568, 'pants': 569, 'aims': 570, 'lemme': 571, 'closer': 572, \"'round\": 573, 'na': 574, 'coffee': 575, 'elmer': 576, 'angel': 577, 'falcons': 578, 'dae': 579, 'drive': 580, '14': 581, 'syndicate': 582, 'problem': 583, 'rolls': 584, 'perón': 585, 'playful': 586, 'letters': 587, 'ecru': 588, 'brains': 589, 'scratcher': 590, 'chin': 591, 'stole': 592, 'mine': 593, 'meals': 594, 'sympathetic': 595, 'agreement': 596, 'blame': 597, 'learn': 598, 'poetry': 599, 'enjoys': 600, 'remain': 601, 'hook': 602, 'sealed': 603, 'queer': 604, 'result': 605, 'bright': 606, 'swig': 607, 'snapping': 608, 'test-': 609, 'data': 610, 'hands': 611, 'paramedic:': 612, 'bookie': 613, 'employment': 614, '<<left_parentheses>>': 615, 'dog': 616, \"monroe's\": 617, 'finished': 618, 'prolonged': 619, 'sweetheart': 620, \"what'd\": 621, 'breath': 622, 'usually': 623, 'fast-food': 624, 'indifferent': 625, 'felt': 626, 'pee': 627, 'pair': 628, 'listening': 629, 'oooh': 630, 'jeter': 631, 'officials': 632, 'shrugs': 633, 'literary': 634, 'beaumont': 635, 'mic': 636, 'always': 637, 'swine': 638, 'automobiles': 639, 'patty_bouvier:': 640, 'portuguese': 641, \"one's\": 642, 'intriguing': 643, 'top': 644, 'actors': 645, 'meatpies': 646, 'ginger': 647, 'caveman': 648, 'cannoli': 649, 'windex': 650, 'expired': 651, 'bastard': 652, 'fat-free': 653, 'manage': 654, 'collette:': 655, 'eggshell': 656, 'cock': 657, 'became': 658, 'carny:': 659, 'designated': 660, 'bleak': 661, 'firing': 662, 'thoughtless': 663, \"'s\": 664, 'kirk_voice_milhouse:': 665, 'bitter': 666, 'lucius': 667, 'awwww': 668, \"liftin'\": 669, 'four-star': 670, 'saget': 671, 'stalwart': 672, 'switched': 673, 'natural': 674, 'beings': 675, 'rueful': 676, 'ridiculous': 677, 'flophouse': 678, \"doesn't\": 679, 'a-b-': 680, 'hear': 681, 'hems': 682, 'chilly': 683, \"maggie's\": 684, 'often': 685, 'minister': 686, \"yesterday's\": 687, 'dames': 688, 'culkin': 689, 'eyeing': 690, 'try': 691, 'dingy': 692, 'fraud': 693, 'stagey': 694, 'frat': 695, 'sack': 696, 'lisa_simpson:': 697, 'terrifying': 698, 'twin': 699, 'gimmick': 700, 'sour': 701, 'sec_agent_#2:': 702, 'seen': 703, 'lincoln': 704, 'bet': 705, 'ivory': 706, 'slice': 707, 'polishing': 708, 'ooh': 709, 'picnic': 710, 'alternative': 711, 'season': 712, 'hunter': 713, 'obsessive-compulsive': 714, 'snort': 715, 'sea': 716, 'twenty-four': 717, 'belong': 718, 'sincere': 719, 'uncomfortable': 720, 'encores': 721, 'expert': 722, 'deer': 723, 'latour': 724, 'sickens': 725, 'jokes': 726, 'guinea': 727, 'directions': 728, '1979': 729, 'of': 730, 'renovations': 731, 'jerk-ass': 732, 'brewed': 733, 'milhouse': 734, 'detecting': 735, 'stares': 736, 'poor': 737, 'tab': 738, 'rounds': 739, 'ideas': 740, 'dollars': 741, 'contented': 742, 'shelf': 743, 'mt': 744, 'score': 745, 'shaggy': 746, 'family': 747, 'clown': 748, 'mom': 749, 'pouring': 750, 'nemo': 751, 'done:': 752, 'championship': 753, 'rewound': 754, 'coined': 755, 'aggie': 756, 'mugs': 757, 'shopping': 758, 'wash': 759, 'phase': 760, 'impatient': 761, 'inspiring': 762, 'fink': 763, 'rip': 764, 'soothing': 765, \"life's\": 766, 'courage': 767, 'shreda': 768, 'susie-q': 769, 'grease': 770, 'lobster-based': 771, 'written': 772, \"lefty's\": 773, \"moe's_thoughts:\": 774, 'pictured': 775, 'treasure': 776, 'vigilante': 777, \"mopin'\": 778, 'amends': 779, \"jackpot's\": 780, 'uh-oh': 781, 'unsanitary': 782, 'president': 783, \"wasn't\": 784, 'blue': 785, 'youngsters': 786, 'tablecloth': 787, 'safe': 788, 'reason': 789, 'doll-baby': 790, 'donuts': 791, 'suspicious': 792, 'barbara': 793, 'rebuttal': 794, 'blood': 795, 'looking': 796, 'sly': 797, 'risqué': 798, 'edna-lover-one-seventy-two': 799, 'pages': 800, 'scotch': 801, 'two': 802, 'troy': 803, 'almond': 804, 'soap': 805, 'feel': 806, 'clone': 807, 'chain': 808, \"chewin'\": 809, 'gave': 810, 'carey': 811, 'eventually': 812, 'sen': 813, 'mayan': 814, 'ollie': 815, 'ceremony': 816, 'catch-phrase': 817, 'fever': 818, 'colorado': 819, 'issues': 820, 'alter': 821, 'hotenhoffer': 822, 'earth': 823, 'beer:': 824, \"smackin'\": 825, 'run': 826, \"linin'\": 827, 'snitch': 828, 'y-you': 829, 'been': 830, 'vance': 831, 'guilt': 832, 'sandwich': 833, 'voted': 834, 'kinds': 835, 'skinny': 836, 'sixty': 837, 'lou': 838, 'drinks': 839, 'coney': 840, 'wham': 841, 'gentles': 842, 'state': 843, 'sunk': 844, 'filthy': 845, 'schorr': 846, 'rupert_murdoch:': 847, 'story': 848, 'nasa': 849, 'ziffcorp': 850, \"cupid's\": 851, 'patron_#2:': 852, \"let's\": 853, 'hell': 854, 'ocean': 855, 'luxury': 856, 'son': 857, 'surprised/thrilled': 858, 'spoon': 859, 'ragtime': 860, 'reed': 861, 'fellow': 862, 'lorre': 863, 'murdoch': 864, 'kitchen': 865, 'blissful': 866, 'sequel': 867, 'check': 868, 'bliss': 869, 'heavyset': 870, 'iran': 871, 'hat': 872, 'joey': 873, 'relative': 874, 'torn': 875, 'penmanship': 876, 'prefer': 877, 'ball-sized': 878, 'bedtime': 879, 'edison': 880, 'doom': 881, 'soup': 882, 'juice': 883, 'older': 884, 'starla': 885, 'wound': 886, 'billboard': 887, 'tease': 888, 'losing': 889, 'name': 890, 'beefs': 891, 'worse': 892, 'trunk': 893, 'schabadoo': 894, \"tatum'll\": 895, 'frescas': 896, 'toasting': 897, 'unlike': 898, 'clean': 899, 'robot': 900, 'alone': 901, 'guest': 902, 'artie_ziff:': 903, 'brandy': 904, 'delays': 905, \"changin'\": 906, 'amber_dempsey:': 907, 'proudly': 908, 'handler': 909, 'massage': 910, 'streetcorner': 911, 'obvious': 912, 'eighty-three': 913, 'stop': 914, 'fans': 915, 'koholic': 916, 'cuz': 917, \"friend's\": 918, 'premiering': 919, 'all': 920, 'loves': 921, 'canyonero': 922, 'grimly': 923, 'pain': 924, 'monorails': 925, 'belt': 926, 'chug-a-lug': 927, 'stored': 928, 'cheated': 929, 'onions': 930, 'cards': 931, 'layer': 932, 'plaintive': 933, 'insulted': 934, 'peter': 935, 'krusty': 936, 'muffled': 937, 'x': 938, 'expecting': 939, 'briefly': 940, 'cop': 941, 'seamstress': 942, 'nasty': 943, 'feed': 944, 'rector': 945, 'eliminate': 946, 'ratio': 947, 'admitting': 948, 'nonchalantly': 949, 'flexible': 950, 'marjorie': 951, 'yellow': 952, 'evening': 953, 'talking': 954, 'lists': 955, 'liable': 956, 'happens': 957, 'bottomless': 958, 'modern': 959, 'strips': 960, 'were': 961, 'pond': 962, 'hilton': 963, 'nominated': 964, \"dolph's_dad:\": 965, 'fantasy': 966, 'giggle': 967, 'mother': 968, 'businessman_#2:': 969, 'hundred': 970, 'watt': 971, 'outs': 972, 'errrrrrr': 973, 'flat': 974, 'gimmicks': 975, 'specialists': 976, 'happiness': 977, 'stamps': 978, 'sheets': 979, 'load': 980, 'bobo': 981, 'hole': 982, 'shells': 983, 'terminated': 984, \"costume's\": 985, 'cat': 986, 'kick': 987, 'politician': 988, 'feels': 989, \"scammin'\": 990, 'gol-dangit': 991, 'applesauce': 992, 'bucks': 993, 'drunks': 994, 'doppler': 995, 'short': 996, '<<period>>': 997, 'moments': 998, 'from': 999, \"son's\": 1000, 'dunno': 1001, 'by': 1002, 'severe': 1003, 'enthusiastically': 1004, 'tommy': 1005, 'jeez': 1006, 'ignorance': 1007, \"nixon's\": 1008, 'stacey': 1009, 'brings': 1010, 'holding': 1011, \"drivin'\": 1012, 'rich': 1013, 'tomato': 1014, 'radiation': 1015, 'hoping': 1016, 'truck': 1017, 'difference': 1018, 'due': 1019, 'whoa': 1020, 'pissed': 1021, 'rolled': 1022, 'everyday': 1023, 'lib': 1024, 'value': 1025, 'halloween': 1026, 'gotta': 1027, 'yell': 1028, 'polygon': 1029, 'therefore': 1030, 'triangle': 1031, 'swallowed': 1032, 'beards': 1033, 'vomit': 1034, 'disturbance': 1035, 'mostrar': 1036, 'bunch': 1037, \"who'll\": 1038, 'childless': 1039, 'idioms': 1040, 'faces': 1041, 'page': 1042, \"sat's\": 1043, 'lise:': 1044, \"i-i'll\": 1045, 'line': 1046, 'cup': 1047, 'diablo': 1048, 'grunts': 1049, 'lemonade': 1050, 'wad': 1051, 'movie': 1052, 'serve': 1053, 'shades': 1054, 'glyco-load': 1055, 'wussy': 1056, 'frankly': 1057, 'night': 1058, 'telegraph': 1059, 'feat': 1060, 'replaced': 1061, 'marquee': 1062, 'sagacity': 1063, 'alfred': 1064, 'yards': 1065, 'amazed': 1066, 'raking': 1067, \"callin'\": 1068, 'end': 1069, 'squishee': 1070, 'hurt': 1071, '1-800-555-hugs': 1072, 'hub': 1073, 'indeed': 1074, 'debonair': 1075, 'annoyed': 1076, 'american': 1077, 'cousin': 1078, 'accounta': 1079, 'hibbert': 1080, 'squeeze': 1081, 'popping': 1082, 'grienke': 1083, 'chained': 1084, 'look': 1085, 'taking': 1086, 'sixteen': 1087, 'sagely': 1088, 'professional': 1089, 'cross-country': 1090, 'meaningful': 1091, 'wudgy': 1092, 'yelling': 1093, 'go': 1094, 'newest': 1095, 'sound': 1096, 'jane': 1097, 'stiffening': 1098, 'sweeter': 1099, 'rotten': 1100, 'zack': 1101, 'plan': 1102, 'sucking': 1103, \"she'll\": 1104, 'rob': 1105, 'laney_fontaine:': 1106, 'spitting': 1107, 'today/': 1108, 'wish-meat': 1109, 'sniffing': 1110, 'caricature': 1111, 'shareholder': 1112, 'sky': 1113, 'hardy': 1114, 'went': 1115, 'stopped': 1116, 'fortress': 1117, 'sharps': 1118, 'britannia': 1119, 'nickel': 1120, 'sadder': 1121, 'ditched': 1122, 'film': 1123, 'yourselves': 1124, 'rig': 1125, 'tv': 1126, 'manjula_nahasapeemapetilon:': 1127, 'rump': 1128, 'put': 1129, 'playhouse': 1130, 'meaningfully': 1131, 'stars': 1132, 'lenford': 1133, 'griffith': 1134, 'killed': 1135, 'right-handed': 1136, 'away': 1137, 'silent': 1138, 'noise': 1139, 'sideshow': 1140, \"they're\": 1141, 'traitors': 1142, 'wiener': 1143, 'marvelous': 1144, 'fold': 1145, 'dogs': 1146, 'warily': 1147, 'occasional': 1148, 'queen': 1149, 'boozebag': 1150, 'pigs': 1151, 'harv:': 1152, 'causes': 1153, 'stocking': 1154, 'opportunity': 1155, 'grace': 1156, 'valuable': 1157, '50-60': 1158, 'heaving': 1159, 'loaded': 1160, 'i': 1161, 'lewis': 1162, 'vengeful': 1163, 'si-lent': 1164, 'socratic': 1165, 'suburban': 1166, 'people': 1167, 'buds': 1168, 'gin-slingers': 1169, 'lodge': 1170, 'get': 1171, 'mouse': 1172, 'clear': 1173, 'perhaps': 1174, 'carve': 1175, 'enjoy': 1176, 'abercrombie': 1177, 'friends': 1178, 'fixes': 1179, 'poorer': 1180, 'insightful': 1181, 'pussycat': 1182, 'dollface': 1183, 'supposed': 1184, '<<semicolon>>': 1185, 'dying': 1186, 'lush': 1187, 'save': 1188, 'turn': 1189, 'soot': 1190, 'junkyard': 1191, 'charter': 1192, 'dress': 1193, 'cover': 1194, 'noose': 1195, 'ingredient': 1196, 'things': 1197, 'carolina': 1198, 'beached': 1199, 'fast-paced': 1200, 'developed': 1201, 'melodramatic': 1202, 'maya': 1203, 'recipe': 1204, 'my': 1205, 'throws': 1206, 'haplessly': 1207, 'fonda': 1208, 'pushes': 1209, 'did': 1210, 'choked-up': 1211, 'hillary': 1212, 'alcohol': 1213, 'permanent': 1214, 'helpful': 1215, 'lloyd:': 1216, 'miserable': 1217, 'fluoroscope': 1218, 'quietly': 1219, 'easygoing': 1220, 'game': 1221, 'reasonable': 1222, 'conversation': 1223, 'newly-published': 1224, 'ore': 1225, 'tonight': 1226, 'honored': 1227, 'multi-national': 1228, 'knocked': 1229, 'full-blooded': 1230, 'snow': 1231, \"bein'\": 1232, 'bank': 1233, 'having': 1234, 'tooth': 1235, 'swelling': 1236, 'trying': 1237, 'bannister': 1238, 'hears': 1239, 'strokkur': 1240, 'pronto': 1241, 'grandé': 1242, 'exchange': 1243, 'quite': 1244, \"that'll\": 1245, 'yogurt': 1246, 'band': 1247, 'items': 1248, 'scream': 1249, 'cadillac': 1250, 'drives': 1251, 'eddie:': 1252, 'occupation': 1253, 'safety': 1254, 'tapping': 1255, 'slobbo': 1256, 'accusing': 1257, 'disguise': 1258, 'sickly': 1259, 'register': 1260, 'disapproving': 1261, 'shoe': 1262, 'bully': 1263, 'fingers': 1264, 'blur': 1265, 'basement': 1266, 'andalay': 1267, \"beer's\": 1268, 'live': 1269, 'cola': 1270, 'bouquet': 1271, 'wealthy': 1272, 'glum': 1273, 'awkwardly': 1274, 'extreme': 1275, 'churchy': 1276, 'albeit': 1277, 'gangrene': 1278, 'stayed': 1279, 'zeal': 1280, 'after': 1281, 'rash': 1282, 'selective': 1283, 'money': 1284, 'supply': 1285, 'agh': 1286, 'sampler': 1287, 'agent_johnson:': 1288, 'pregnancy': 1289, 'veux': 1290, 'want': 1291, 'lookalikes': 1292, 'lime': 1293, 'hemorrhage-amundo': 1294, 'drinker': 1295, 'yard': 1296, 'popular': 1297, 'jumping': 1298, 'orphan': 1299, 'slogan': 1300, 'canoodling': 1301, 'flame': 1302, 'front': 1303, 'quimbys:': 1304, 'forced': 1305, 'perverse': 1306, 'lump': 1307, '3': 1308, 'kidney': 1309, 'emergency': 1310, \"crawlin'\": 1311, 'let': 1312, 'administration': 1313, 'memory': 1314, \"guy's\": 1315, 'admit': 1316, \"bar's\": 1317, 'forward': 1318, 'tip': 1319, \"d'ya\": 1320, 'convenient': 1321, \"phone's\": 1322, 'seymour': 1323, 'kansas': 1324, 'drummer': 1325, 'french': 1326, 'unavailable': 1327, 'common': 1328, 'democrats': 1329, 'pyramid': 1330, 'and-and': 1331, 'liver': 1332, 'duffman:': 1333, 'african': 1334, 'conspiratorial': 1335, 'blobbo': 1336, 'grabs': 1337, 'disaster': 1338, 'do': 1339, 'courts': 1340, 'disgrace': 1341, 'homeless': 1342, 'st': 1343, 'temple': 1344, 'territorial': 1345, 'bothered': 1346, 'escort': 1347, 'well-wisher': 1348, 'kucinich': 1349, 'suck': 1350, 'rope': 1351, 'root': 1352, 'the': 1353, \"murphy's\": 1354, 'bashir': 1355, 'felony': 1356, 'liquor': 1357, 'hammer': 1358, 'forgot': 1359, 'vestigial': 1360, 'west': 1361, 'hired': 1362, 'woo-hoo': 1363, 'rapidly': 1364, \"this'll\": 1365, 'shyly': 1366, 'loathe': 1367, 'the_rich_texan:': 1368, 'soaps': 1369, 'crummy': 1370, 'boat': 1371, 'squad': 1372, 'action': 1373, 'lovejoy': 1374, 'lainie:': 1375, 'evil': 1376, 'e': 1377, 'strangles': 1378, 'pen': 1379, 'less': 1380, 'stirring': 1381, 'libraries': 1382, 'afternoon': 1383, 'last': 1384, 'sheriff': 1385, 'sister': 1386, 'minute': 1387, 'increased': 1388, 'bowie': 1389, 'bleeding': 1390, 'punk': 1391, 'right': 1392, 'lucky': 1393, \"how're\": 1394, 'kidding': 1395, 'crowd:': 1396, 'horrible': 1397, 'ron': 1398, 'crony': 1399, 'ears': 1400, 'frink-y': 1401, 'keep': 1402, 'order': 1403, 'laid': 1404, 'great': 1405, 'plants': 1406, 'leave': 1407, 'cloudy': 1408, 'reader': 1409, 'understood': 1410, 'massive': 1411, 'starting': 1412, 'don': 1413, \"'til\": 1414, 'jams': 1415, 'neither': 1416, 'principles': 1417, 'righ': 1418, 'kazoo': 1419, 'macgregor': 1420, 'strategy': 1421, 'zoomed': 1422, 'bought': 1423, 'lots': 1424, 'barflies': 1425, 'sticking-place': 1426, 'election': 1427, 'filled': 1428, 'fair': 1429, 'rub': 1430, 'step': 1431, 'maya:': 1432, 'waitress': 1433, 'afraid': 1434, 'museum': 1435, 'outside': 1436, \"elmo's\": 1437, 'boys': 1438, 'bachelorette': 1439, 'bars': 1440, 'deserve': 1441, 'lottery': 1442, 'tinkle': 1443, 'confidence': 1444, 'customer': 1445, 'intrigued': 1446, 'sadly': 1447, 'jackson': 1448, \"squeezin'\": 1449, 'heave-ho': 1450, 'detective': 1451, 'old_jewish_man:': 1452, 'nursemaid': 1453, 'their': 1454, 'polite': 1455, 'hotline': 1456, 'wizard': 1457, 'fella': 1458, 'refreshingness': 1459, 'crushed': 1460, \"we've\": 1461, 'during': 1462, 'stays': 1463, 'arise': 1464, 'enabling': 1465, 'missing': 1466, 'wants': 1467, 'consciousness': 1468, 'technical': 1469, 'gr-aargh': 1470, 'keys': 1471, 'complaining': 1472, 'business': 1473, 'solves': 1474, 'exciting': 1475, 'invite': 1476, 'prettied': 1477, 'cyrano': 1478, 'quadruple-sec': 1479, 'distaste': 1480, 'perverted': 1481, 'rule': 1482, 'driving': 1483, 'lovelorn': 1484, 'hour': 1485, \"comin'\": 1486, 'sledge-hammer': 1487, 'pulling': 1488, 'sigh': 1489, 'chili': 1490, 'brotherhood': 1491, 'trench': 1492, 'temp': 1493, 'warned': 1494, 'tons': 1495, 'rem': 1496, 'awful': 1497, 'tang': 1498, 'ummmmmmmmm': 1499, 'bit': 1500, 'grinch': 1501, 'startup': 1502, 'linda_ronstadt:': 1503, 'fork': 1504, 'bumblebee_man:': 1505, 'fireworks': 1506, 'held': 1507, 'fistiana': 1508, 'andy': 1509, 'disillusioned': 1510, 'mexicans': 1511, 'government': 1512, 'faith': 1513, 'scores': 1514, 'actress': 1515, 'also': 1516, 'universe': 1517, 'champignons': 1518, 'uglier': 1519, 'kidneys': 1520, 'chic': 1521, 'exquisite': 1522, 'skunk': 1523, 'prepared': 1524, 'innocent': 1525, 'musses': 1526, 'kept': 1527, 'hounds': 1528, 'george': 1529, 'nope': 1530, 'updated': 1531, 'wolverines': 1532, 'column': 1533, 'howya': 1534, 'talkers': 1535, 'nfl_narrator:': 1536, 'hustle': 1537, 'aggravazes': 1538, \"y'see\": 1539, 'wanted': 1540, 'soaked': 1541, 'ice': 1542, 'complaint': 1543, 'regulations': 1544, 'wounds': 1545, 'wikipedia': 1546, 'thing': 1547, 'asses': 1548, 'sale': 1549, 'blank': 1550, 'express': 1551, 'breathless': 1552, 'voters': 1553, 'suicide': 1554, 'rolling': 1555, 'cell': 1556, 'inserted': 1557, 'moment': 1558, 'boned': 1559, 'spamming': 1560, 'richard:': 1561, 'fdic': 1562, 'turning': 1563, 'crowbar': 1564, 'longest': 1565, \"lady's\": 1566, 'desperately': 1567, \"don'tcha\": 1568, 'cecil': 1569, 'keeping': 1570, 'tree_hoper:': 1571, 'ken:': 1572, 'tough': 1573, 'lives': 1574, 'bras': 1575, 'scrape': 1576, 'composer': 1577, \"rentin'\": 1578, 'dum-dum': 1579, 'lizard': 1580, 'imaginary': 1581, 'snide': 1582, 'unexplained': 1583, 'shaky': 1584, 'relieved': 1585, 'micronesian': 1586, 'knock-up': 1587, 'funny': 1588, 'safer': 1589, 'website': 1590, 'shoot': 1591, 'doug:': 1592, 'news': 1593, 'kyoto': 1594, 'new': 1595, 'square': 1596, 'rainforest': 1597, 'j': 1598, 'stamp': 1599, 'stats': 1600, 'effervescence': 1601, 'bounced': 1602, 'congoleum': 1603, 'simpson': 1604, 'yep': 1605, 'barter': 1606, 'sieben-gruben': 1607, 'mix': 1608, 'lease': 1609, 'helped': 1610, 'referee': 1611, 'presently': 1612, 'tipsy': 1613, 'slobs': 1614, 'sadistic_barfly:': 1615, 'totally': 1616, 'elite': 1617, 'nash': 1618, 'yoink': 1619, 'however': 1620, 'showered': 1621, 'record': 1622, 'brave': 1623, 'confident': 1624, 'drapes': 1625, 'though:': 1626, 'gear-head': 1627, 'alcoholism': 1628, 'scrutinizing': 1629, 'roach': 1630, 'avec': 1631, 'kermit': 1632, 'them': 1633, 'persia': 1634, 'ehhhhhhhhh': 1635, 'tee': 1636, 'generosity': 1637, 'kissing': 1638, 'ho': 1639, 'premise': 1640, 'present': 1641, 'drinking:': 1642, 'duff': 1643, 'gregor': 1644, 'aristotle:': 1645, 'radishes': 1646, 'dinner': 1647, 'champs': 1648, 'ten': 1649, 'young_barfly:': 1650, 'knuckle-dragging': 1651, 'release': 1652, 'pleasant': 1653, 'thirty': 1654, 'mouth': 1655, 'company': 1656, 'runs': 1657, \"it's\": 1658, 'joint': 1659, 'pre-columbian': 1660, 'whatchamacallit': 1661, 'toms': 1662, 'deep': 1663, 'unintelligent': 1664, 'stonewall': 1665, 'chairman': 1666, 'man_with_tree_hat:': 1667, 'slip': 1668, 'ashtray': 1669, 'hangover': 1670, 'used': 1671, 'potato': 1672, 'pit': 1673, 'stationery': 1674, 'mamma': 1675, 'cries': 1676, 'clips': 1677, 'kennedy': 1678, 'rock': 1679, 'upgrade': 1680, 'clinton': 1681, 'cooler': 1682, 'deacon': 1683, 'strain': 1684, 'edge': 1685, 'moustache': 1686, 'pledge': 1687, 'consider': 1688, 'crinkly': 1689, 'kramer': 1690, 'and:': 1691, 'eighty-six': 1692, 'medicine': 1693, 'scary': 1694, 'couple': 1695, 'dollar': 1696, 'funniest': 1697, 'test-lady': 1698, 'madman': 1699, 'maximum': 1700, 'unkempt': 1701, 'acronyms': 1702, 'maman': 1703, 'so-ng': 1704, 'welcome': 1705, 'package': 1706, 'remembered': 1707, '35': 1708, 'appeals': 1709, 'feelings': 1710, 'har': 1711, 'comic': 1712, 'assistant': 1713, 'boozehound': 1714, 'faulkner': 1715, \"they'll\": 1716, 'thought_bubble_lenny:': 1717, 'drinking': 1718, 'healthier': 1719, 'this': 1720, 'jigger': 1721, 'edgy': 1722, 'thunder': 1723, \"tab's\": 1724, 'babies': 1725, 'process': 1726, 'ago': 1727, 'south': 1728, 'than': 1729, 'exit': 1730, 'cummerbund': 1731, 'choke': 1732, 'philip': 1733, 'favor': 1734, 'comedy': 1735, 'cheerier': 1736, 'quick-like': 1737, 'magic': 1738, 'crowd': 1739, 'viva': 1740, 'working': 1741, 'shock': 1742, 'finest': 1743, 'meaningless': 1744, 'smug': 1745, 'towed': 1746, 'yeah': 1747, 'ventriloquism': 1748, 'carl_carlson:': 1749, 'stops': 1750, 'hanh': 1751, 'gasoline': 1752, 'talk': 1753, 'serum': 1754, 'nordiques': 1755, 'gotcha': 1756, 'omit': 1757, 'kearney_zzyzwicz:': 1758, 'sponsor': 1759, 'bail': 1760, 'palmerston': 1761, 'tentative': 1762, 'anywhere': 1763, 'thinks': 1764, \"wait'll\": 1765, 'feld': 1766, 'food': 1767, 'gonna': 1768, 'shove': 1769, 'cecil_terwilliger:': 1770, 'photographer': 1771, 'close': 1772, 'kodos:': 1773, 'blind': 1774, 'offended': 1775, 'gunter:': 1776, 'united': 1777, 'poured': 1778, 'gil_gunderson:': 1779, 'covering': 1780, 'mirror': 1781, \"doctor's\": 1782, \"america's\": 1783, 'little_man:': 1784, 'cool': 1785, 'connor': 1786, 'steinbrenner': 1787, 'jolly': 1788, 'initially': 1789, 'relationship': 1790, 'obama': 1791, 'named': 1792, 'considering:': 1793, \"i'd\": 1794, 'beat': 1795, 'joining': 1796, 'closes': 1797, 'team': 1798, 'mixed': 1799, 'aidens': 1800, 'intruding': 1801, 'fools': 1802, 'teenage_barney:': 1803, 'badly': 1804, 'modestly': 1805, 'teen': 1806, 'possibly': 1807, 'crime': 1808, 'cooking': 1809, \"'ere\": 1810, 'fontaine': 1811, 'synthesize': 1812, 'beef': 1813, 'rainbows': 1814, 'stumble': 1815, 'jubilant': 1816, \"shan't\": 1817, 'dads': 1818, \"men's\": 1819, 'corpses': 1820, 'jernt': 1821, 'to': 1822, 'pats': 1823, 'ate': 1824, 'rotch': 1825, 'donation': 1826, 'god': 1827, 'scatter': 1828, 'proud': 1829, 'platinum': 1830, 'reached': 1831, 'speak': 1832, 'trucks': 1833, 'stepped': 1834, 'clearly': 1835, 'pleading': 1836, 'it': 1837, 'beneath': 1838, 'fancy': 1839, 'theatah': 1840, 'slot': 1841, 'general': 1842, 'as': 1843, 'narrator:': 1844, 'compressions': 1845, 'ugh': 1846, 'bulked': 1847, 'fiiiiile': 1848, 'key': 1849, 'yesterday': 1850, 'poetics': 1851, 'floating': 1852, 'donut': 1853, 'declan_desmond:': 1854, 'wing': 1855, 'leonard': 1856, 'mall': 1857, \"don't\": 1858, 'drawn': 1859, \"knockin'\": 1860, 'loboto-moth': 1861, 'informant': 1862, 'computer_voice_2:': 1863, 'take-back': 1864, 'county': 1865, 'attraction': 1866, 'collateral': 1867, 'smallest': 1868, 'flatly': 1869, 'assassination': 1870, 'original': 1871, 'teddy': 1872, 'gambler': 1873, 'murmurs': 1874, 'flew': 1875, 'somebody': 1876, 'housework': 1877, 'thomas': 1878, 'captain': 1879, 'shutting': 1880, 'no': 1881, 'misfire': 1882, 'noggin': 1883, 'tying': 1884, 'dear': 1885, 'chunky': 1886, 'compliments': 1887, 'grampa_simpson:': 1888, 'souvenir': 1889, 'dammit': 1890, 'air': 1891, 'muscles': 1892, 'men:': 1893, 'lookalike': 1894, 'nightmares': 1895, 'pennies': 1896, 'absorbent': 1897, 'mines': 1898, 'music': 1899, 'grumpy': 1900, 'thumb': 1901, 'senator': 1902, 'coal': 1903, 'gasps': 1904, 'it:': 1905, 'chipper': 1906, 'he': 1907, 'toss': 1908, 'hey': 1909, 'savagely': 1910, 'befouled': 1911, 'use': 1912, 'awareness': 1913, 'myself': 1914, 'mafia': 1915, \"edna's\": 1916, 'invited': 1917, 'dreamed': 1918, 'publishers': 1919, 'limericks': 1920, 'many': 1921, 'magnanimous': 1922, 'caught': 1923, 'tv-station_announcer:': 1924, 'unhook': 1925, 'football_announcer:': 1926, 'wrote': 1927, 'wondering': 1928, 'reminded': 1929, 'schnapps': 1930, 'opening': 1931, 'yourse': 1932, 'bottles': 1933, 'horror': 1934, 'today': 1935, 'eternity': 1936, 'commit': 1937, 'why': 1938, 'startled': 1939, 'koji': 1940, 'half': 1941, 'williams': 1942, 'affection': 1943, 'source': 1944, 'therapy': 1945, 'owned': 1946, 'proposing': 1947, \"betsy'll\": 1948, 'tavern': 1949, 'exits': 1950, 'coming': 1951, 'singers:': 1952, 'count': 1953, 'resigned': 1954, 'marry': 1955, 'troy_mcclure:': 1956, 'names': 1957, \"sittin'\": 1958, 'padre': 1959, 'apply': 1960, 'genuinely': 1961, 'holidays': 1962, 'agent': 1963, 'arms': 1964, 'blackjack': 1965, 'harm': 1966, \"team's\": 1967, 'calendars': 1968, 'beloved': 1969, 'peanut': 1970, 'glorious': 1971, 'hooray': 1972, 'dishonor': 1973, 'lighter': 1974, 'ivana': 1975, 'european': 1976, 'slightly': 1977, 'fbi_agent:': 1978, 'scratching': 1979, 'youse': 1980, 'highball': 1981, 'dies': 1982, 'twentieth': 1983, 'gary_chalmers:': 1984, 'sucked': 1985, 'wears': 1986, 'limits': 1987, 'glass': 1988, 'channel': 1989, 'upset': 1990, 'hard': 1991, 'crestfallen': 1992, 'eve': 1993, 'impeach': 1994, 'cletus_spuckler:': 1995, 'ahh': 1996, 'apu_nahasapeemapetilon:': 1997, 'punishment': 1998, 'mild': 1999, 'neighborhood': 2000, 'mmm-hmm': 2001, 'room': 2002, 'started': 2003, 'in-in-in': 2004, 'morning': 2005, 'smithers': 2006, 'issuing': 2007, 'shesh': 2008, 'congratulations': 2009, 'candles': 2010, 'symphonies': 2011, 'distract': 2012, 'breathalyzer': 2013, 'bottle': 2014, 'pugilist': 2015, 'heads': 2016, 'adventure': 2017, 'yoo': 2018, \"weren't\": 2019, 'practice': 2020, 'mortgage': 2021, 'kinda': 2022, 'composite': 2023, 'reality': 2024, 'hoax': 2025, 'eyeball': 2026, 'sobs': 2027, 'ladder': 2028, 'ireland': 2029, 'gabriel': 2030, 'sniffs': 2031, 'statue': 2032, 'brainiac': 2033, 'student': 2034, 'knives': 2035, 'married': 2036, 'bret:': 2037, 'sideshow_bob:': 2038, 'ass': 2039, 'pancakes': 2040, 'nantucket': 2041, 'floated': 2042, 'factor': 2043, 'friend': 2044, 'bear': 2045, 'snap': 2046, 'recap:': 2047, 'repressed': 2048, 'total': 2049, 'pass': 2050, 'mint': 2051, 'space': 2052, 'acquaintance': 2053, 'admiration': 2054, 'temper': 2055, 'jackpot-thief': 2056, 'fruit': 2057, 'parasol': 2058, 'club': 2059, 'press': 2060, 'badmouths': 2061, 'make': 2062, 'angry': 2063, 'eaten': 2064, \"drexel's\": 2065, 'attractive': 2066, 'blossoming': 2067, 'brunch': 2068, 'cueball': 2069, \"payin'\": 2070, 'mike': 2071, 'thru': 2072, 'emotion': 2073, 'blurbs': 2074, 'they': 2075, 'stomach': 2076, 'presents': 2077, 'crowned': 2078, 'image': 2079, 'parents': 2080, 'blues': 2081, 'laughs': 2082, 'spacey': 2083, 'quebec': 2084, 'gulps': 2085, 'closet': 2086, 'billy_the_kid:': 2087, 'chew': 2088, \"tramp's\": 2089, 'chauffeur:': 2090, 'la': 2091, 'seconds': 2092, 'failed': 2093, 'text': 2094, 'commission': 2095, 'bills': 2096, 'detective_homer_simpson:': 2097, 'owes': 2098, 'hans:': 2099, 'chow': 2100, 'above': 2101, 'creature': 2102, 'pep': 2103, 'anguished': 2104, 'gentlemen': 2105, 'wars': 2106, 'forget': 2107, 'ripcord': 2108, 'quick': 2109, 'burt_reynolds:': 2110, 'i/you': 2111, 'bedbugs': 2112, 'smiles': 2113, 'service': 2114, 'century': 2115, 'touched': 2116, 'asking': 2117, 'waist': 2118, 'para': 2119, 'drawer': 2120, 'stairs': 2121, \"ma's\": 2122, 'built': 2123, 'archaeologist': 2124, 'swear': 2125, 'toys': 2126, 'winded': 2127, 'radio': 2128, 'focused': 2129, 'tanked-up': 2130, 'understood:': 2131, 'cheer': 2132, 'stolen': 2133, 'near': 2134, 'attempting': 2135, 'pizzicato': 2136, 'ever': 2137, 'nicer': 2138, 'bag': 2139, 'king': 2140, 'enough': 2141, 'indeedy': 2142, 'soft': 2143, 'defiantly': 2144, \"cashin'\": 2145, 'malted': 2146, 'miracle': 2147, 'laramie': 2148, 'morlocks': 2149, 'ideal': 2150, 'watered': 2151, 'stock': 2152, 'dumpster': 2153, 'wide': 2154, 'diddilies': 2155, '3rd_voice:': 2156, 'stir': 2157, 'sensible': 2158, 'later': 2159, 'adeleine': 2160, 'perplexed': 2161, 'combines': 2162, 'dull': 2163, 'coy': 2164, 'frog': 2165, 'champ': 2166, 'jasper_beardly:': 2167, 'months': 2168, 'tips': 2169, 'stories': 2170, 'shout': 2171, 'lighten': 2172, 'considers': 2173, 'france': 2174, 'design': 2175, 'for': 2176, 'never': 2177, 'trees': 2178, 'christian': 2179, 'abandon': 2180, 'indifference': 2181, 'head-gunk': 2182, 'sacrifice': 2183, 'superdad': 2184, 'subscriptions': 2185, 'scooter': 2186, 'consoling': 2187, 'wind': 2188, 'short_man:': 2189, 'duffed': 2190, 'chapter': 2191, 'aiden': 2192, 'insurance': 2193, 'interested': 2194, 'spotting': 2195, 'squadron': 2196, \"wouldn't-a\": 2197, 'heliotrope': 2198, 'paris': 2199, \"stayin'\": 2200, 'damage': 2201, 'remember': 2202, 'pink': 2203, 'dumbbell': 2204, 'embarrassing': 2205, 'reluctant': 2206, 'cutting': 2207, 'shutup': 2208, 'big': 2209, 'world': 2210, 'inclination': 2211, 'badges': 2212, 'pajamas': 2213, 'streetlights': 2214, 'sniffles': 2215, 'ads': 2216, 'casting': 2217, 'ground': 2218, 'mountain': 2219, 'rabbits': 2220, 'sauce': 2221, 'parked': 2222, 'tomorrow': 2223, 'drown': 2224, 'depression': 2225, \"tony's\": 2226, 'ironed': 2227, 'mole': 2228, 'feminine': 2229, 'spilled': 2230, 'family-owned': 2231, 'w': 2232, 'take': 2233, 'weekly': 2234, 'guy': 2235, 'we-we-we': 2236, \"tree's\": 2237, 'chastity': 2238, \"wife's\": 2239, 'clipped': 2240, 'highest': 2241, 'brockman': 2242, 'moolah-stealing': 2243, 'renders': 2244, 'apology': 2245, 'burning': 2246, 'winner': 2247, 'buddha': 2248, 'there': 2249, 'moonnnnnnnn': 2250, 'gag': 2251, 'psst': 2252, 'theory': 2253, 'corporate': 2254, 'science': 2255, 'tolerable': 2256, 'color': 2257, 'delivery': 2258, 'annie': 2259, 'effervescent': 2260, 'sector': 2261, 'shriners': 2262, 'pip': 2263, 'none': 2264, 'judgments': 2265, 'handshake': 2266, 'lugs': 2267, 'snotty': 2268, 'running': 2269, 'man_with_crazy_beard:': 2270, 'gun': 2271, 'dinks': 2272, 'in-ground': 2273, 'mabel': 2274, 'enemy': 2275, 'displeased': 2276, 'muslim': 2277, 'lumpa': 2278, 'dame': 2279, 'rosey': 2280, 'grave': 2281, 'freaking': 2282, 'elder': 2283, 'career': 2284, 'lose': 2285, 'pad': 2286, 'mind': 2287, 'tiny': 2288, 'down': 2289, 'neighboreeno': 2290, 'host': 2291, 'facebook': 2292, 'sounds': 2293, 'produce': 2294, 'bush': 2295, 'hello': 2296, 'haiti': 2297, 'pipes': 2298, 'starts': 2299, 'puzzle': 2300, 'fragile': 2301, 'co-sign': 2302, 'lay': 2303, 'find': 2304, 'suddenly': 2305, '<<comma>>': 2306, 'sales': 2307, 'liar': 2308, \"fine-lookin'\": 2309, 'naval': 2310, 'perch': 2311, 'repeated': 2312, 'comeback': 2313, 'massachusetts': 2314, 'ali': 2315, 'access': 2316, 'adjourned': 2317, 'camera': 2318, 'jockey': 2319, 'ga': 2320, 'chinese_restaurateur:': 2321, 'louder': 2322, 'brockelstein': 2323, 'shirt': 2324, \"'roids\": 2325, 'mistresses': 2326, 'fbi': 2327, 'blood-thirsty': 2328, 'specific': 2329, 'lisa': 2330, 'yea': 2331, 'heavens': 2332, 'round': 2333, 'represents': 2334, 'shred': 2335, 'au': 2336, \"breakin'\": 2337, 'material': 2338, 'this:': 2339, 'mechanical': 2340, 'happily:': 2341, 'eyes': 2342, \"it'll\": 2343, 'conspiracy': 2344, 'sing': 2345, 'owe': 2346, 'stan': 2347, 'kahlua': 2348, 'hippies': 2349, 'scum-sucking': 2350, 'wave': 2351, 'fund': 2352, 'windelle': 2353, 'offa': 2354, \"grandmother's\": 2355, 'anonymous': 2356, 'fireball': 2357, 'incognito': 2358, 'precious': 2359, 'monkey': 2360, 'justice': 2361, 'excited': 2362, 'testing': 2363, 'enthusiasm': 2364, 'whee': 2365, 'cigarette': 2366, \"fightin'\": 2367, 'grenky': 2368, 'arrived': 2369, 'slipped': 2370, 'screws': 2371, 'kinderhook': 2372, 'jeers': 2373, 'reviews': 2374, 'insecure': 2375, 'what': 2376, 'eaters': 2377, 'belches': 2378, 'gorgeous': 2379, 'appointment': 2380, 'patrons': 2381, 'approval': 2382, 'could': 2383, 'joey_kramer:': 2384, 'mail': 2385, 'conditioning': 2386, 'ambrose': 2387, 'works': 2388, 'penny': 2389, 'patron_#1:': 2390, 'beer': 2391, 'unfortunately': 2392, 'shack': 2393, 'measurements': 2394, 'illegal': 2395, \"enjoyin'\": 2396, 'professor_jonathan_frink:': 2397, 're-al': 2398, 'touch': 2399, 'cost': 2400, 'anything': 2401, 'jeff': 2402, 'beep': 2403, 'birthday': 2404, 'begins': 2405, 'stingy': 2406, \"workin'\": 2407, 'closed': 2408, 'four': 2409, 'finance': 2410, \"they've\": 2411, 'a-a-b-b-a': 2412, 'except': 2413, 'capitalists': 2414, \"getting'\": 2415, 'around': 2416, \"people's\": 2417, 'examples': 2418, 'milk': 2419, 'dan': 2420, 'speech': 2421, 'park': 2422, 'knows': 2423, \"pullin'\": 2424, \"tap-pullin'\": 2425, 'race': 2426, 'hurts': 2427, 'cash': 2428, 'sneeze': 2429, 'pawed': 2430, 'atari': 2431, 'beaumarchais': 2432, 'third': 2433, \"choosin'\": 2434, 'back': 2435, 'butter': 2436, 'dough': 2437, 'huge': 2438, 'brightening': 2439, 'frankie': 2440, 'wolfe': 2441, 'relax': 2442, \"'im\": 2443, 'delicious': 2444, 'hits': 2445, 'korea': 2446, 'happen': 2447, 'wildfever': 2448, 'shelbyville': 2449, 'spy': 2450, 'cotton': 2451, 'lobster-politans': 2452, 'pasta': 2453, \"springfield's\": 2454, 'smoke': 2455, 'thankful': 2456, 'audience:': 2457, 'excavating': 2458, 'motel': 2459, 'tenuous': 2460, 'waking-up': 2461, 'sooner': 2462, 'bedridden': 2463, 'girlfriend': 2464, 'and/or': 2465, 'crawl': 2466, 'husband': 2467, 'mm-hmm': 2468, 'hers': 2469, 'scared': 2470, 'mumbling': 2471, 'cosmetics': 2472, 'plans': 2473, 'oughta': 2474, 'lock': 2475, 'lot': 2476, 'instantly': 2477, 'homer_doubles:': 2478, 'because': 2479, 'bathtub': 2480, 'tuborg': 2481, 'bonding': 2482, 'negative': 2483, 'donut-shaped': 2484, 'drop': 2485, 'brassiest': 2486, 'sturdy': 2487, 'products': 2488, \"kearney's_dad:\": 2489, 'gums': 2490, 'red': 2491, 'blow': 2492, 'storms': 2493, 'fica': 2494, 'slender': 2495, 'musical': 2496, 'followed': 2497, 'international': 2498, 'malfeasance': 2499, 'len-ny': 2500, 'jukebox': 2501, 'besides': 2502, 'ralphie': 2503, 'saying': 2504, 'mimes': 2505, 'dejected_barfly:': 2506, 'carnival': 2507, 'breaks': 2508, 'vanities': 2509, 'u': 2510, 'perfect': 2511, 'funeral': 2512, 'adrift': 2513, 'danish': 2514, \"president's\": 2515, 'glowers': 2516, 'sponsoring': 2517, 'beligerent': 2518, 'candidate': 2519, '2': 2520, '_zander:': 2521, \"game's\": 2522, 'warmth': 2523, 'strains': 2524, 'quimby': 2525, 'gumbo': 2526, 'libido': 2527, 'monkeyshines': 2528, 'simon': 2529, 'upn': 2530, 'inherent': 2531, 'weep': 2532, 'disappointment': 2533, 'skills': 2534, 'ye': 2535, 'sitting': 2536, 'patting': 2537, 'ivy-covered': 2538, 'sweetest': 2539, 'unforgettable': 2540, 'blinds': 2541, 'nonsense': 2542, 'card': 2543, 'cupid': 2544, 'burp': 2545, 'chick': 2546, 'pretending': 2547, 'las': 2548, 'chief_wiggum:': 2549, 'moonshine': 2550, 'throwing': 2551, 'clap': 2552, 'couch': 2553, 'forehead': 2554, 'a-lug': 2555, 'ripped': 2556, 'investment': 2557, 'glitz': 2558, 'crippling': 2559, \"lovers'\": 2560, \"must've\": 2561, 'button': 2562, 'bloodball': 2563, 'woulda': 2564, 'jerry': 2565, 'society': 2566, 'caper': 2567, 'everyone': 2568, 'sickened': 2569, 'edelbrock': 2570, 'urban': 2571, 'guts': 2572, 'leg': 2573, 'smurfs': 2574, 'wrap': 2575, 'rocks': 2576, 'twice': 2577, 'indecipherable': 2578, 'lifetime': 2579, 'eating': 2580, 'chair': 2581, 'without:': 2582, 'patrons:': 2583, 'rat-like': 2584, 'luck': 2585, 'natured': 2586, 'calculate': 2587, 'seriously': 2588, 'trade': 2589, 'op': 2590, 'whirlybird': 2591, \"show's\": 2592, 'stirrers': 2593, 'boyfriend': 2594, 'satisfied': 2595, 'chipped': 2596, 'salary': 2597, 'worry': 2598, 'churchill': 2599, 'uneasy': 2600, 'utensils': 2601, 'army': 2602, 'bull': 2603, 'realized': 2604, 'harvesting': 2605, 'pressure': 2606, \"ma'am\": 2607, 'comfortable': 2608, 'bets': 2609, 'progress': 2610, 'english': 2611, 'germs': 2612, 'law-abiding': 2613, 'match': 2614, 'enthused': 2615, 'kill': 2616, 'jobs': 2617, 'octa-': 2618, 'once': 2619, 'putting': 2620, 'harmony': 2621, 'gesture': 2622, 'absolut': 2623, 'unfresh': 2624, 'two-drink': 2625, 'commanding': 2626, 'sumatran': 2627, 'walks': 2628, 'bugging': 2629, 'young_homer:': 2630, 'renee:': 2631, 'comforting': 2632, 'schizophrenia': 2633, 'horribilis': 2634, 'fat_in_the_hat:': 2635, 'funds': 2636, 'ape-like': 2637, 'hydrant': 2638, \"can'tcha\": 2639, 'ohmygod': 2640, 'wipes': 2641, 'sucker': 2642, 'night-crawlers': 2643, 'anybody': 2644, 'burn': 2645, 'juan': 2646, 'rationalizing': 2647, 'curds': 2648, 'poison': 2649, 'somewhere': 2650, 'fleabag': 2651, 'wife-swapping': 2652, 'misconstrue': 2653, 'kl5-4796': 2654, 'growing': 2655, 'log': 2656, 'bitterly': 2657, 'rough': 2658, 'thanks': 2659, 'de': 2660, 'sperm': 2661, 'carlson': 2662, \"d'\": 2663, 'sizes': 2664, 'white_rabbit:': 2665, 'apartment': 2666, 'newsies': 2667, 'holds': 2668, 'verdict': 2669, 'him': 2670, \"startin'\": 2671, 'coaster': 2672, 'hate': 2673, 'fat': 2674, 'dumbass': 2675, 'conference': 2676, 'dashes': 2677, 'rat': 2678, 'taken': 2679, 'spirit': 2680, 'telemarketing': 2681, 'partly': 2682, 'relaxed': 2683, 'lighting': 2684, 'leak': 2685, 'dryer': 2686, 'ticket': 2687, 'banquo': 2688, 'saint': 2689, 'ferry': 2690, 'stained-glass': 2691, 'which': 2692, 'sells': 2693, 'heaven': 2694, 'barney-guarding': 2695, 'gloop': 2696, 'error': 2697, 'gift': 2698, 'tin': 2699, 'sedaris': 2700, 'whoops': 2701, 'jubilation': 2702, 'important': 2703, \"s'cuse\": 2704, 'ordered': 2705, 'bring': 2706, \"eatin'\": 2707, \"she'd\": 2708, 'booth': 2709, 'conversion': 2710, 'kiss': 2711, 'safecracker': 2712, 'homer_simpson:': 2713, 'specified': 2714, 'aghast': 2715, 'nameless': 2716, 'woozy': 2717, \"what're\": 2718, 'sponge:': 2719, 'ironic': 2720, \"hadn't\": 2721, 'tree': 2722, 'terror': 2723, 'flash-fry': 2724, 'ahead': 2725, '250': 2726, 'michael_stipe:': 2727, 'hemoglobin': 2728, 'foundation': 2729, 'hi': 2730, 'bar-boy': 2731, 'sex': 2732, 'she-pu': 2733, 'agnes_skinner:': 2734, 'available': 2735, 'still': 2736, 'nagurski': 2737, 'seems': 2738, 'teenage': 2739, 'omigod': 2740, 'cheering': 2741, 'formico:': 2742, \"family's\": 2743, 'linda': 2744, 'hobo': 2745, 'calling': 2746, 'sings': 2747, 'listen': 2748, 'traitor': 2749, 'whaaaa': 2750, 'forty': 2751, 'palm': 2752, 'aged_moe:': 2753, 'vegas': 2754, 'savings': 2755, 'fondest': 2756, 'completely': 2757, 'local': 2758, 'ran': 2759, 'haircuts': 2760, 'itchy': 2761, 'wistful': 2762, 'but': 2763, 'taste': 2764, 'picture': 2765, 'charm': 2766, 'ladies': 2767, 'young_marge:': 2768, 'gruff': 2769, 'flips': 2770, 'dumb-asses': 2771, 'up-bup-bup': 2772, 'rekindle': 2773, 'civil': 2774, 'declan': 2775, 'thirty-three': 2776, 'handoff': 2777, 'herself': 2778, 'aquafresh': 2779, 'walk': 2780, \"world's\": 2781, 'cab_driver:': 2782, 'bow': 2783, 'or': 2784, 'called': 2785, \"thinkin'\": 2786, 'number': 2787, 'period': 2788, 'occasion': 2789, 'marched': 2790, 'nice': 2791, 'guys': 2792, 'although': 2793, \"can't-believe-how-bald-he-is\": 2794, 'drunkenly': 2795, 'cameras': 2796, 'grow': 2797, 'smiled': 2798, 'dude': 2799, 'discriminate': 2800, 'joe': 2801, 'ha-ha': 2802, 'mister': 2803, 'overstressed': 2804, 'crotch': 2805, 'bell': 2806, 'nuked': 2807, 'touches': 2808, 'anyone': 2809, \"bringin'\": 2810, 'skoal': 2811, 'delighted': 2812, 'rods': 2813, 'warren': 2814, 'booger': 2815, 'managing': 2816, 'compliment': 2817, 'macbeth': 2818, \"ladies'\": 2819, 'neat': 2820, 'thought': 2821, 'carl': 2822, 'wear': 2823, \"somethin':\": 2824, 'grind': 2825, 'ugly': 2826, 'deliberate': 2827, 'ah-ha': 2828, 'leno': 2829, 'recorded': 2830, '70': 2831, 'virile': 2832, 'achem': 2833, 'ees': 2834, \"they'd\": 2835, 'widow': 2836, 'encore': 2837, 'fiction': 2838, 'plastered': 2839, 'ninety-six': 2840, 'art': 2841, 'philosophical': 2842, 'baseball': 2843, 'beach': 2844, 'outlook': 2845, 'skeptical': 2846, 'sketching': 2847, 'invisible': 2848, 'especially': 2849, 'country-fried': 2850, 'grants': 2851, 'mulder': 2852, 'fine': 2853, 'freeze': 2854, 'sexton': 2855, 'behavior': 2856, 'neil_gaiman:': 2857, 'gifts': 2858, 'noises': 2859, \"o'reilly\": 2860, 'geez': 2861, 'harvey': 2862, 'vampire': 2863, 'dignity': 2864, 'lear': 2865, 'violin': 2866, 'gas': 2867, 'missed': 2868, 'witches': 2869, 'heals': 2870, 'calvin': 2871, 'too': 2872, 'flames': 2873, 'federal': 2874, 'stinky': 2875, 'wobbly': 2876, 'understanding': 2877, 'wayne': 2878, \"high-falutin'\": 2879, 'boxer:': 2880, 'hottest': 2881, 'collapse': 2882, 'using': 2883, 'entirely': 2884, 'time': 2885, 'rub-a-dub': 2886, \"professor's\": 2887, 'finishing': 2888, \"'cept\": 2889, \"didn't\": 2890, 'conversations': 2891, 'mediterranean': 2892, 'y': 2893, 'wrecking': 2894, 'rafter': 2895, 'well': 2896, 'unison': 2897, 'kissed': 2898, 'had': 2899, 'extract': 2900, 'sesame': 2901, 'found': 2902, 'calmly': 2903, 'sticking': 2904, 'million': 2905, 'sixty-nine': 2906, 'reaction': 2907, 'botanical': 2908, 'rumor': 2909, 'irishman': 2910, 'planted': 2911, 'selling': 2912, 'cheery': 2913, 'else': 2914, 'beers': 2915, 'lying': 2916, '4x4': 2917, '<<return>>': 2918, 'piling': 2919, 'attention': 2920, 'retain': 2921, 'vicious': 2922, '_babcock:': 2923, 'aerosmith': 2924, 'idealistic': 2925, 'self-esteem': 2926, 'oils': 2927, 'sanitation': 2928, 'seminar': 2929, 'rings': 2930, 'ballot': 2931, 'pfft': 2932, 'eva': 2933, 'stengel': 2934, 'imitating': 2935, 'etc': 2936, 'earlier': 2937, 'extinguishers': 2938, 'test': 2939, 'virility': 2940, 'sloe': 2941, 'passion': 2942, 'tickets': 2943, 'banned': 2944, 'thousand': 2945, 'perfume': 2946, 'noble': 2947, 'protestantism': 2948, 'jar': 2949, 'sight': 2950, 'over': 2951, 'lachrymose': 2952, 'murderously': 2953, 'unhappy': 2954, 'riding': 2955, 'walking': 2956, 'maiden': 2957, \"ol'\": 2958, 'soaking': 2959, 'excuses': 2960, 'texan': 2961, 'disco': 2962, 'small_boy:': 2963, 'stalking': 2964, 'flayvin': 2965, 'predecessor': 2966, 'sassy': 2967, 'most:': 2968, 'lennyy': 2969, 'ayyy': 2970, 'drollery': 2971, 'instrument': 2972, 'affects': 2973, 'ech': 2974, 'steaming': 2975, 'woo': 2976, 'presidential': 2977, 'fire': 2978, 'inspection': 2979, 'difficult': 2980, 'edner': 2981, 'winks': 2982, 'depending': 2983, 'increasingly': 2984, 'cigars': 2985, 'faced': 2986, 'restroom': 2987, \"others'\": 2988, 'scram': 2989, 'string': 2990, 'bees': 2991, 'kid': 2992, 'intention': 2993, 'taxes': 2994, 'addiction': 2995, 'bursts': 2996, 'backbone': 2997, 'per': 2998, 'sneak': 2999, 'wiggle': 3000, 'installed': 3001, 'november': 3002, \"showin'\": 3003, 'now': 3004, 'forgets': 3005, 'nooo': 3006, 'competing': 3007, 'tonic': 3008, 'meal': 3009, 'giant': 3010, 'dentist': 3011, 'greystash': 3012, 'eight-year-old': 3013, 'dumb': 3014, 'unusually': 3015, 'ruin': 3016, 'following': 3017, 'bumbling': 3018, 'menlo': 3019, 'eww': 3020, 'splendid': 3021, 'lately': 3022, 'reflected': 3023, \"plaster's\": 3024, 'richard': 3025, 'fl': 3026, 'flanders:': 3027, 'answering': 3028, 'skinner': 3029, 'otherwise': 3030, 'feedbag': 3031, 'dateline:': 3032, 'way': 3033, 'message': 3034, 'punkin': 3035, 'hateful': 3036, 'clenched': 3037, 'clench': 3038, 'wieners': 3039, 'gees': 3040, 'old': 3041, 'sangre': 3042, 'jer': 3043, 'sweetly': 3044, 'dials': 3045, 'work': 3046, 'father': 3047, 'thinking': 3048, 'five': 3049, 'uncreeped-out': 3050, 'wrapped': 3051, 'boo': 3052, 'empty': 3053, 'famous': 3054, 'starve': 3055, 'goes': 3056, 'generously': 3057, 'punches': 3058, 'heartily': 3059, 'imagine': 3060, \"speakin'\": 3061, 'priority': 3062, 'incredible': 3063, 'looting': 3064, 'average-looking': 3065, 'advice': 3066, 'quarterback': 3067, 'bowled': 3068, 'turned': 3069, 'his': 3070, 'internet': 3071, 'novel': 3072, 'brow': 3073, \"cheerin'\": 3074, 'henry': 3075, 'jackass': 3076, 'died': 3077, 'wooooo': 3078, 'moan': 3079, 'hostages': 3080, \"who's\": 3081, 'event': 3082, 'hall': 3083, 'hats': 3084, 'simplest': 3085, 'housewife': 3086, 'chubby': 3087, 'amazing': 3088, 'tax': 3089, 'daaaaad': 3090, 'chunk': 3091, \"wino's\": 3092, 'trust': 3093, 'excuse': 3094, 'senators': 3095, 'agree': 3096, 'voodoo': 3097, 'lips': 3098, 'falling': 3099, 'twenty-five': 3100, 'solved': 3101, 'anyhoo': 3102, 'cowardly': 3103, 'group': 3104, 'crooks': 3105, 'infiltrate': 3106, 'writing': 3107, 'nein': 3108, 'spinning': 3109, 'savvy': 3110, 'tv_wife:': 3111, 'loud': 3112, 'reporter': 3113, 'road': 3114, 'private': 3115, 'cockroaches': 3116, 'brag': 3117, 'gel': 3118, 'a': 3119, \"i'd'a\": 3120, 'certified': 3121, 'kemi:': 3122, 'program': 3123, 'pinball': 3124, 'tv_father:': 3125, 'stupid': 3126, 'yuh-huh': 3127, 'smoothly': 3128, 'light': 3129, 'ought': 3130, 'stripes': 3131, 'tears': 3132, 'box': 3133, '6': 3134, 'regret': 3135, 'himself': 3136, 'sentimonies': 3137, 'enforced': 3138, 'ruint': 3139, 'grade': 3140, 'attitude': 3141, 'anti-lock': 3142, 'barney-type': 3143, 'scanning': 3144, 'pained': 3145, \"askin'\": 3146, 'legs': 3147, 'everything': 3148, 'upsetting': 3149, 'aged': 3150, 'weeks': 3151, 'disappointing': 3152, 'year': 3153, 'stein-stengel-': 3154, 'underwear': 3155, 'flown': 3156, 'visas': 3157, 'pointless': 3158, 'pas': 3159, 'singer': 3160, 'secret': 3161, 'lingus': 3162, 'stay': 3163, 'hank_williams_jr': 3164, \"g'on\": 3165, 'rebuilt': 3166, 'betty:': 3167, 'jukebox_record:': 3168, 'maintenance': 3169, 'kent': 3170, 'ad': 3171, \"he'd\": 3172, 'signal': 3173, 'cronies': 3174, 'smiling': 3175, 'hootie': 3176, 'first': 3177, 'navy': 3178, 'peanuts': 3179, 'flower': 3180, 'grammy': 3181, 'wedding': 3182, 'partner': 3183, 'pal': 3184, 'filed': 3185, 'states': 3186, 'suspended': 3187, 'yammering': 3188, 'through': 3189, 'smugglers': 3190, 'jury': 3191, 'fantastic': 3192, 'helpless': 3193, 'online': 3194, 'nick': 3195, \"bart's\": 3196, 'coherent': 3197, 'change': 3198, 'dizzy': 3199, 'hubub': 3200, 'prison': 3201, 'wally': 3202, 'shower': 3203, 'superpower': 3204, 'drift': 3205, \"o'clock\": 3206, 'lipo': 3207, 'wittgenstein': 3208, 'saved': 3209, 'rhyme': 3210, 'triumphantly': 3211, 'newsletter': 3212, 'patented': 3213, \"hawkin'\": 3214, 'sacajawea': 3215, 'trashed': 3216, \"'evening\": 3217, 'rafters': 3218, 'charge': 3219, 'arabs': 3220, 'doof': 3221, 'ab': 3222, 'greatest': 3223, 'contemplates': 3224, 'double': 3225, 'stickers': 3226, 'executive': 3227, \"stallin'\": 3228, 'pageant': 3229, 'ruby-studded': 3230, 'send': 3231, 'numbers': 3232, 'movement': 3233, 'street': 3234, 'wiggle-frowns': 3235, 'plug': 3236, 'ask': 3237, 'halvsies': 3238, 'greedy': 3239, 'smells': 3240, 'health': 3241, 'accent': 3242, '_powers:': 3243, 'planning': 3244, 'firm': 3245, 'extremely': 3246, 'socialize': 3247, 'direction': 3248, 'grunt': 3249, \"i'm\": 3250, 'priest': 3251, 'phasing': 3252, \"you're\": 3253, 'lurleen_lumpkin:': 3254, 'instead': 3255, '-ry': 3256, 'pickles': 3257, 's': 3258, 'cleaner': 3259, 'zinged': 3260, 'paid': 3261, 'sunday': 3262, 'delightful': 3263, \"man's\": 3264, 'pointed': 3265, 'ride': 3266, 'irish': 3267, \"soundin'\": 3268, 'arrested:': 3269, 'conditioner': 3270, 'jobless': 3271, 'nachos': 3272, 'freshened': 3273, 'rain': 3274, 'chapstick': 3275, 'mcbain': 3276, 'dimly': 3277, \"c'mom\": 3278, 'tofu': 3279, 'whining': 3280, 'blowfish': 3281, 'paste': 3282, 'nucular': 3283, 'lowest': 3284, 'win': 3285, 'fishing': 3286, 'swimmers': 3287, 'fox': 3288, 'homers': 3289, 'aziz': 3290, 'store': 3291, 'unusual': 3292, 'publish': 3293, \"tootin'\": 3294, 'grim': 3295, 'trolls': 3296, 'terrace': 3297, 'launch': 3298, 'name:': 3299, 'black': 3300, 'musketeers': 3301, 'counter': 3302, 'passports': 3303, 'lucius:': 3304, 'zone': 3305, 'billion': 3306, 'at': 3307, 'atlanta': 3308, 'fills': 3309, 'nbc': 3310, 'glamour': 3311, 'journey': 3312, 'jerking': 3313, 'africa': 3314, 'washed': 3315, \"spaghetti-o's\": 3316, \"carl's\": 3317, 'fifty': 3318, 'moe-clone': 3319, 'planned': 3320, \"homer'll\": 3321, 'might': 3322, 'oh-so-sophisticated': 3323, 'hurting': 3324, 'prettiest': 3325, 'mistakes': 3326, 't-shirt': 3327, 'mop': 3328, 'surgery': 3329, 'settles': 3330, 'gluten': 3331, 'license': 3332, 'only': 3333, 'droning': 3334, 'sinkhole': 3335, 'nurse': 3336, \"dog's\": 3337, 'swimming': 3338, 'sheet': 3339, 'deliberately': 3340, 'points': 3341, 'cake': 3342, 'day': 3343, 'guard': 3344, 'wasted': 3345, 'competitive': 3346, 'hold': 3347, 'brain-switching': 3348, 'standing': 3349, 'guns': 3350, 'handsome': 3351, 'nigel_bakerbutcher:': 3352, 'breakdown': 3353, 'icelandic': 3354, 'beautiful': 3355, 'mob': 3356, 'gold': 3357, \"rasputin's\": 3358, 'coat': 3359, 'senators:': 3360, 'vampires': 3361, 'low-blow': 3362, 'swigmore': 3363, 'elocution': 3364, 'you-need-man': 3365, 'dramatic': 3366, 'cases': 3367, 'horrors': 3368, 'frozen': 3369, \"'now\": 3370, 'ringing': 3371, 'excitement': 3372, 'thesaurus': 3373, 'pull': 3374, \"mecca's\": 3375, 'minutes': 3376, 'oak': 3377, 'raise': 3378, 'amanda': 3379, 'necessary': 3380, 'expensive': 3381, 'weekend': 3382, 'spiritual': 3383, 'mention': 3384, 'so-called': 3385, 'beeps': 3386, '1973': 3387, 'bolting': 3388, 'whose': 3389, 'mind-numbing': 3390, 'control': 3391, 'feast': 3392, 'lucinda': 3393, 'dreamy': 3394, \"kiddin'\": 3395, 'princess': 3396, 'repay': 3397, 'sympathy': 3398, 'kind': 3399, 'lenny': 3400, 'triple-sec': 3401, 'gives': 3402, 'ow': 3403, 'various': 3404, 'who-o-oa': 3405, 'slit': 3406, 'unfamiliar': 3407, 'owner': 3408, 'mock-up': 3409, 'elves:': 3410, 'boxing': 3411, 'typed': 3412, \"'tis\": 3413, 'gig': 3414, 'travel': 3415, 'luckily': 3416, 'dancing': 3417, 'hardwood': 3418, 'blown': 3419, 'enjoyed': 3420, 'gal': 3421, 'admiring': 3422, 'she': 3423, 'cesss': 3424, 'depressant': 3425, 'lowers': 3426, 'absolutely': 3427, 'aging': 3428, 'love-matic': 3429, 'heh-heh': 3430, 'beady': 3431, 'figured': 3432, 'irs': 3433, 'harrowing': 3434, 'option': 3435, 'ivanna': 3436, 'assent': 3437, 'department': 3438, 'talked': 3439, \"fallin'\": 3440, 'shoo': 3441, 'sap': 3442, 'stink': 3443, '<<dash>>': 3444, \"bettin'\": 3445, 'remains': 3446, 'rid': 3447, 'nahasapeemapetilon': 3448, 'clammy': 3449, 'listens': 3450, 'homer_': 3451, 'damned': 3452, 'heroism': 3453, 'grandiose': 3454, 'protecting': 3455, 'arm-pittish': 3456, 'mary': 3457, 'honeys': 3458, 'selma_bouvier:': 3459, 'games': 3460, 'fringe': 3461, 'hates': 3462, 'gin': 3463, \"father's\": 3464, 'told': 3465, 'forty-two': 3466, 'sue': 3467, 'multi-purpose': 3468, 'choice:': 3469, 'anyhow': 3470, 'swamp': 3471, 'civilization': 3472, 'percent': 3473, 'served': 3474, 'philosophic': 3475, 'moe-clone:': 3476, 'skydiving': 3477, 'hmmmm': 3478, 'willy': 3479, 'five-fifteen': 3480, 'roll': 3481, 'boisterous': 3482, 'oughtta': 3483, 'twenty': 3484, 'thrown': 3485, \"dyin'\": 3486, 'disappear': 3487, 'language': 3488, 'teenage_homer:': 3489, 'friday': 3490, 'profiling': 3491, 'say': 3492, 'fustigation': 3493, 'superior': 3494, 'cozies': 3495, 'won': 3496, '10:15': 3497, 'defected': 3498, 'cologne': 3499, 'face': 3500, 'stores': 3501, 'attach': 3502, 'hop': 3503, 'predictable': 3504, 'sobbing': 3505, 'sinister': 3506, '<<question_mark>>': 3507, 'mobile': 3508, 'crayola': 3509, 'closing': 3510, 'fonzie': 3511, 'voyager': 3512, 'exhale': 3513, 'sets': 3514, 'texas': 3515, 'quero': 3516, 'richer': 3517, 'cheesecake': 3518, \"gettin'\": 3519, 'leftover': 3520, 'remembers': 3521, 'rent': 3522, 'officer': 3523, 'next': 3524, 'flanders': 3525, 'amber': 3526, 'necklace': 3527, 'bubble': 3528, 'bulldozing': 3529, 'ha': 3530, 'plenty': 3531, 'sad': 3532, 'geyser': 3533, 'good-looking': 3534, 'far': 3535, 'bust': 3536, 'brooklyn': 3537, 'juke': 3538, 'upbeat': 3539, 'pub': 3540, 'bartholomé:': 3541, 'connection': 3542, '/': 3543, 'propose': 3544, 'divorced': 3545, 'twenty-two': 3546, 'eat': 3547, \"smokin'\": 3548, 'squeezed': 3549, 'repeating': 3550, 'oil': 3551, 'heard': 3552, 'exactly': 3553, 'crystal': 3554, \"what's\": 3555, 'dealer': 3556, 'shaking': 3557, 'show-off': 3558, 'strongly': 3559, 'falsetto': 3560, 'nevada': 3561, 'hospital': 3562, 'founded': 3563, 'craft': 3564, 'busy': 3565, 'restaurant': 3566, 'homer': 3567, \"y'money's\": 3568, 'odd': 3569, 'listened': 3570, 'straighten': 3571, 'terrific': 3572, 'clincher': 3573, 'fox_mulder:': 3574, 'appendectomy': 3575, \"narratin'\": 3576, 'doy': 3577, 'fritz': 3578, 'schmoe': 3579, 'hot': 3580, 'acquitted': 3581, 'unjustly': 3582, 'made': 3583, 'tsk': 3584, 'moe-near-now': 3585, 'goodbye': 3586, 'michelin': 3587, 'girl-bart': 3588, 'sick': 3589, \"'n'\": 3590, 'locked': 3591, 'freedom': 3592, 'burnside': 3593, 'killer': 3594, 'would': 3595, 'twelve': 3596, 'bite': 3597, 'when': 3598, 'minus': 3599, 'ugliest': 3600, \"smokin'_joe_frazier:\": 3601, 'um': 3602, 'mozzarella': 3603, 'anymore': 3604, 'watashi': 3605, 'created': 3606, 'sat': 3607, 'jay:': 3608, 'brother': 3609, 'human': 3610, 'self-satisfied': 3611, 'kings': 3612, 'admirer': 3613, \"ain't\": 3614, 'hafta': 3615, 'africanized': 3616, 'quarter': 3617, 'utility': 3618, 'dirge-like': 3619, 'awed': 3620, 'forbids': 3621, 'simpsons': 3622, 'ref': 3623, 'drop-off': 3624, 'formico': 3625, 'bauer': 3626, 'colossal': 3627, 'troy:': 3628, 'awake': 3629, 'con': 3630, 'celeste': 3631, 'deals': 3632, 'fool': 3633, 'sideshow_mel:': 3634, 'outlive': 3635, 'arm': 3636, 'presidents': 3637, '_kissingher:': 3638, 'label': 3639, 'pre-recorded': 3640, 'annual': 3641, 'parrot': 3642, 'pleasure': 3643, 'buying': 3644, 'murdered': 3645, 'fuss': 3646, 'kisses': 3647, 'grudgingly': 3648, 'comment': 3649, 'even': 3650, 'cough': 3651, 'knit': 3652, 'agency': 3653, 'farewell': 3654, 'menacing': 3655, 'town': 3656, 'blooded': 3657, 'sugar': 3658, 'astronauts': 3659, 'mount': 3660, 'marriage': 3661, 'mansions': 3662, 'sang': 3663, 'prizefighters': 3664, 'womb': 3665, 'guzzles': 3666, 'moe_recording:': 3667, 'apron': 3668, 'yellow-belly': 3669, 'lifestyle': 3670, 'delivery_boy:': 3671, 'steely-eyed': 3672, 'high': 3673, 'drederick': 3674, 'few': 3675, 'watered-down': 3676, 'stones': 3677, 'door': 3678, 'with': 3679, 'suits': 3680, 'milks': 3681, 'paintings': 3682, 'yells': 3683, 'gamble': 3684, 'italian': 3685, 'diapers': 3686, 'kool': 3687, 'disco_stu:': 3688, 'gestated': 3689, 'bill': 3690, 'junebug': 3691, 'victory': 3692, 'ashamed': 3693, 'heart': 3694, 'disappointed': 3695, 'teriyaki': 3696, 'homesick': 3697, 'crowds': 3698, 'half-beer': 3699, \"aristotle's\": 3700, 'patriotic': 3701, 'moans': 3702, 'ruined': 3703, 'montrer': 3704, 'wednesday': 3705, 'social': 3706, 'hideous': 3707, 'rev': 3708, 'cheryl': 3709, 'southern': 3710, 'pepsi': 3711, 'coward': 3712, 'encouraged': 3713, 'suds': 3714, 'dory': 3715, 'renew': 3716, 'studio': 3717, 'ring': 3718, 'mayor_joe_quimby:': 3719, 'blamed': 3720, 'seeing': 3721, 'headhunters': 3722, 'catholic': 3723, 'flea:': 3724, 'hope': 3725, 'remorseful': 3726, 'suave': 3727, 'slick': 3728, 'boggs': 3729, 'about': 3730, 'fat_tony:': 3731, 'bronco': 3732, 'wore': 3733, 'fabulous': 3734, 'sleeps': 3735, 'matter-of-fact': 3736, 'wells': 3737, 'effect': 3738, 'amnesia': 3739, 'hollowed-out': 3740, 'signed': 3741, 'believe': 3742, 'answer': 3743, 'goal': 3744, 'little_hibbert_girl:': 3745, 'barkeep': 3746, 'cappuccino': 3747, 'folks': 3748, 'hang': 3749, 'steal': 3750, 'lurleen': 3751, 'whoa-ho': 3752, 'attracted': 3753, 'greetings': 3754, 'madonna': 3755, 'ones': 3756, \"g'night\": 3757, 'shark': 3758, 'bon': 3759, 'norway': 3760, 'rats': 3761, 'boxer': 3762, 'ho-la': 3763, 'peabody': 3764, 'shores': 3765, 'tradition': 3766, 'wa': 3767, 'soul-crushing': 3768, 'preparation': 3769, 'reciting': 3770, \"england's\": 3771, 'depository': 3772, 'decency': 3773, 'moon-bounce': 3774, 'rookie': 3775, 'cold': 3776, 'jewelry': 3777, 'burt': 3778, 'sheepish': 3779, 'legally': 3780, 'chosen': 3781, \"'er\": 3782, 'gee': 3783, 'protesting': 3784, 'alcoholic': 3785, 'hearts': 3786, 'mirthless': 3787, 'hygienically': 3788, 'snatch': 3789, 'rainier': 3790, 'rather': 3791, \"fun's\": 3792, 'buffalo': 3793, 'reaching': 3794, 'ineffective': 3795, 'onassis': 3796, 'rhode': 3797, 'swill': 3798, 'chance': 3799, 'decide:': 3800, 'microbrew': 3801, 'watched': 3802, 'information': 3803, 'links': 3804, 'stillwater:': 3805, 'hunger': 3806, 'wings': 3807, 'wholeheartedly': 3808, 'onion': 3809, 'jack': 3810, 'branding': 3811, 'one': 3812, 'disgraceful': 3813, 'one-hour': 3814, 'clock': 3815, 'bindle': 3816, 'maybe': 3817, 'fondly': 3818, 'reptile': 3819, 'carb': 3820, 'knees': 3821, 'motor': 3822, 'delete': 3823, \"mo'\": 3824, 'snout': 3825, 'loser': 3826, 'write': 3827, 'outrageous': 3828, 'contractors': 3829, 'royal': 3830, 'cent': 3831, 'bill_james:': 3832, 'metal': 3833, 'mathis': 3834, 'poking': 3835, 'stood': 3836, \"spiffin'\": 3837, 'yee-haw': 3838, 'bathroom': 3839, 'arrest': 3840, 'offshoot': 3841, 'expect': 3842, 'lap': 3843, 'nah': 3844, 'hugh': 3845, 'raising': 3846, 'fence': 3847, 'tobacky': 3848, 'minimum': 3849, \"industry's\": 3850, 'plucked': 3851, 'seymour_skinner:': 3852, 'kako:': 3853, 'turkey': 3854, 'pirate': 3855, 'director': 3856, 'therapist': 3857, 'gets': 3858, 'princesses': 3859, 'saga': 3860, 'foodie': 3861, 'cobbling': 3862, 'hunky': 3863, 'coincidentally': 3864, 'tv_announcer:': 3865, 'jumps': 3866, 'single-mindedness': 3867, 'ding-a-ding-ding-ding-ding-ding-ding': 3868, 'muertos': 3869, 'throat': 3870, 'toledo': 3871, 'tremendous': 3872, 'poster': 3873, \"it'd\": 3874, 'smuggled': 3875, 'foot': 3876, 'gay': 3877, 'placed': 3878, \"raggin'\": 3879, 'saw': 3880, 'professor': 3881, 'bits': 3882, 'wade_boggs:': 3883, 'gibson': 3884, 'adjust': 3885, 'spine': 3886, 'fledgling': 3887, 'defensive': 3888, 'eats': 3889, 'dennis': 3890, 'wins': 3891, 'tick': 3892, \"messin'\": 3893, \"bartender's\": 3894, 'all-star': 3895, 'corkscrew': 3896, 'vincent': 3897, 'can': 3898, 'waltz': 3899, 'manager': 3900, '530': 3901, 'rubs': 3902, 'hidden': 3903, 'rife': 3904, 'kisser': 3905, 'normal': 3906, 'dropping': 3907, 'view': 3908, 'moving': 3909, 'academy': 3910, 'brief': 3911, 'spreads': 3912, 'suru': 3913, 'self': 3914, 'troubles': 3915, 'bender:': 3916, 'chicks': 3917, 'death': 3918, 'distinct': 3919, 'bartending': 3920, 'eightball': 3921, 'ah': 3922, 'cannot': 3923, 'shotgun': 3924, 'legend': 3925, \"cat's\": 3926, 'woman:': 3927, 'tabs': 3928, 'treehouse': 3929, 'andrew': 3930, \"s'okay\": 3931, 'least': 3932, 'measure': 3933, 'results': 3934, \"hole'\": 3935, 'stretches': 3936, 'life-extension': 3937, 'frustrated': 3938, 'wildest': 3939, 'said:': 3940, 'joined': 3941, 'consulting': 3942, 'pardon': 3943, 'calls': 3944, 'position': 3945, 'practically': 3946, 'alma': 3947, 'waste': 3948, 'passes': 3949, 'payday': 3950, 'maitre': 3951, 'paparazzo': 3952, 'sneering': 3953, 'fresco': 3954, 'recall': 3955, 'button-pusher': 3956, 'civic': 3957, \"battin'\": 3958, 'girls': 3959, 'compromise:': 3960, 'portfolium': 3961, 'sport': 3962, 'criminal': 3963, 'darkest': 3964, 'frankenstein': 3965, 'scornful': 3966, 'sincerely': 3967, 'march': 3968, 'yourself': 3969, 'coins': 3970, 'tow-talitarian': 3971, 'c': 3972, \"wallet's\": 3973, 'likes': 3974, 'gabriel:': 3975, 'badge': 3976, \"kid's\": 3977, 'eight': 3978, 'crap': 3979, 'resist': 3980, 'hurry': 3981, 'charlie:': 3982, 'glee': 3983, 'connor-politan': 3984, 'krusty_the_clown:': 3985, 'shrugging': 3986, 'doreen': 3987, 'full-bodied': 3988, 'sold': 3989, 'workers': 3990, 'slow': 3991, 'hyahh': 3992, 'small': 3993, 'sued': 3994, 'politics': 3995, 'nos': 3996, 'volunteer': 3997, 'promise': 3998, 'worldly': 3999, 'refreshment': 4000, 'quimby_#2:': 4001, 'snake-handler': 4002, 'winnings': 4003, \"renovatin'\": 4004, 'easier': 4005, 'cuddling': 4006, 'correct': 4007, 'dee-fense': 4008, 'reunion': 4009, 'shaker': 4010, 'despite': 4011, \"dimwit's\": 4012, 'start': 4013, 'exultant': 4014, 'project': 4015, 'dreamily': 4016, 'aggravated': 4017, 'moon': 4018, 'fresh': 4019, 'chief': 4020, 'lindsay': 4021, 'cars': 4022, 'compadre': 4023, \"beggin'\": 4024, 'alright': 4025, 'hammy': 4026, 'neighbors': 4027, 'sugar-free': 4028, 'without': 4029, 'clothespins:': 4030, 'mailbox': 4031, 'spooky': 4032, 'think': 4033, 'brunswick': 4034, 'decadent': 4035, 'miles': 4036, 'forecast': 4037, 'peach': 4038, 'jacks': 4039, \"won't\": 4040, 'washouts': 4041, 'fellas': 4042, 'anti-crime': 4043, 'drivers': 4044, 'pickled': 4045, 'am': 4046, 'aw': 4047, 'shrieks': 4048, 'fifteen': 4049, 'real': 4050, 'crab': 4051, 'ready': 4052, 'word': 4053, 'across': 4054, 'answered': 4055, 'beverage': 4056, 'safely': 4057, 'belch': 4058, 'carll': 4059, 'coupon': 4060, 'pickle': 4061, 'health_inspector:': 4062, 'presto:': 4063, 'normals': 4064, \"o'\": 4065, 'killarney': 4066, \"boy's\": 4067, 'beauty': 4068, 'shame': 4069, 'and': 4070, 'traffic': 4071, 'resolution': 4072, 'bike': 4073, 'choices': 4074, 'absentmindedly': 4075, 'gargoyles': 4076, 'booze': 4077, 'th-th-th-the': 4078, 'anyway': 4079, 'bathing': 4080, 'inspire': 4081, 'came': 4082, 'nail': 4083, 'dance': 4084, \"washin'\": 4085, 'tell': 4086, 'marguerite:': 4087, 'mice': 4088, 'artist': 4089, 'bottom': 4090, 'beatings': 4091, 'jerky': 4092, 'anarchy': 4093, \"what'sa\": 4094, 'spent': 4095, \"havin'\": 4096, 'grab': 4097, 'slugger': 4098, 'east': 4099, 'laughing': 4100, 'jailbird': 4101, \"who'da\": 4102, '7-year-old_brockman:': 4103, 'sketch': 4104, 'binoculars': 4105, 'month': 4106, 'checks': 4107, 'romantic': 4108, 'puts': 4109, 'geysir': 4110, 'grateful': 4111, 'gayer': 4112, 'hand': 4113, 'smile:': 4114, 'radical': 4115, \"football's\": 4116, 'partially': 4117, 'bugs': 4118, 'wiping': 4119, 'piece': 4120, 'afford': 4121, 'rented': 4122, 'steel': 4123, 'complete': 4124, '100': 4125, 'overturned': 4126, '_hooper:': 4127, 'america': 4128, 'loudly': 4129, 'then:': 4130, 'horrified': 4131, 'happier': 4132, 'pay': 4133, 'paint': 4134, 'doubt': 4135, 'maxed': 4136, 'impending': 4137, 'bar_rag:': 4138, 'presided': 4139, 'bee': 4140, 'semi-imported': 4141, 'bums': 4142, 'ya': 4143, 'bonfire': 4144, 'pin': 4145, 'tatum': 4146, 'interrupting': 4147, 'fuhgetaboutit': 4148, 'hot-rod': 4149, 'grain': 4150, 'finding': 4151, 'verticality': 4152, 'trouble': 4153, 'duff_announcer:': 4154, 'creme': 4155, 'classy': 4156, 'showing': 4157, 'pantsless': 4158, 'lard': 4159, 'cocoa': 4160, 'knuckles': 4161, 'lenses': 4162, 'goldarnit': 4163, 'person': 4164, 'tries': 4165, 'supports': 4166, \"usin'\": 4167, 'taunting': 4168, 'midge:': 4169, 'super': 4170, 'unbelievable': 4171, 'stooges': 4172, 'television': 4173, \"valentine's\": 4174, 'kindly': 4175, 'sneaky': 4176, 'realizing': 4177, 'promotion': 4178, \"barney's\": 4179, 'rickles': 4180, 'best': 4181, 'sacrilicious': 4182, 'bald': 4183, 'gut': 4184, 'kidnaps': 4185, 'designer': 4186, 'bridge': 4187, 'tomatoes': 4188, 'invented': 4189, 'late': 4190, 'fail': 4191, 'alive': 4192, 'scrutinizes': 4193, 'donated': 4194, 'concentrate': 4195, 'f-l-a-n-r-d-s': 4196, 'times': 4197, 'stretch': 4198, 'gore': 4199, 'saturday': 4200, 'rainier_wolfcastle:': 4201, 'rest': 4202, 'just': 4203, 'crossed': 4204, 'mccall': 4205, 'sidekick': 4206, 'plant': 4207, 'placing': 4208, 'buddy': 4209, 'born': 4210, 'honest': 4211, 'examines': 4212, 'loss': 4213, 'fun': 4214, 'eye': 4215, 'mortal': 4216, 'power': 4217, 'getcha': 4218, 'settled': 4219, 'ned': 4220, 'ing': 4221, 'spelling': 4222, 'colonel:': 4223, 'earrings': 4224, \"duelin'\": 4225, 'midnight': 4226, 'charged': 4227, 'worried': 4228, 'women': 4229, 'entrance': 4230, 'ebullient': 4231, 'browns': 4232, 'whistles': 4233, 'snackie': 4234, 'solid': 4235, 'planet': 4236, 'really': 4237, 'follow': 4238, 'plane': 4239, 'according': 4240, 'haw': 4241, 'walther_hotenhoffer:': 4242, 'à': 4243, 'force': 4244, 'yello': 4245, 'exasperated': 4246, \"spyin'\": 4247, 'thighs': 4248, 'thnord': 4249, 'pretentious_rat_lover:': 4250, 'everybody': 4251, 'greatly': 4252, 'unless': 4253, 'backwards': 4254, 'cocking': 4255, 'incriminating': 4256, 'moesy': 4257, 'devastated': 4258, 'jam': 4259, 'monster': 4260, 'mccarthy': 4261, 'tigers': 4262, 'confidential': 4263, 'barely': 4264, 'hammock': 4265, 'sissy': 4266, 'whole': 4267, 'swooning': 4268, 'dignified': 4269, 'jacques:': 4270, \"could've\": 4271, 'improved': 4272, 'announcer:': 4273, 'fights': 4274, \"countin'\": 4275, 'carlotta:': 4276, 'bide': 4277, 'er': 4278, 'cajun': 4279, 'happily': 4280, 'decided': 4281, 'barney_gumble:': 4282, \"aren't\": 4283, 'afloat': 4284, 'tells': 4285, 'meyerhof': 4286, 'pantry': 4287, 'lowering': 4288, 'muttering': 4289, 'bragging': 4290, 'julienne': 4291, 'changes': 4292, 'tried': 4293, 'tv_daughter:': 4294, 'flag': 4295, 'means': 4296, 'chinua': 4297, 'reporter:': 4298, 'highway': 4299, 'fad': 4300, 'spews': 4301, 'pinchpenny': 4302, 'billingsley': 4303, 'inexorable': 4304, 'wangs': 4305, 'meteor': 4306, 'polls': 4307, 'walther': 4308, 'arab_man:': 4309, \"money's\": 4310, 'urge': 4311, 'delivery_man:': 4312, 'dealt': 4313, 'craphole': 4314, 'writers': 4315, 'peter_buck:': 4316, 'lis': 4317, 'home': 4318, 'nauseous': 4319, 'wayne:': 4320, 'tidy': 4321, 'ram': 4322, 'locklear': 4323, 'violations': 4324, 'struggling': 4325, 'notorious': 4326, 'riveting': 4327, 'mostly': 4328, 'thrilled': 4329, 'ancestors': 4330, 'video': 4331, 'date': 4332, 'fountain': 4333, 'children': 4334, 'raining': 4335, 'democracy': 4336, 'nap': 4337, 'habitrail': 4338, 'pure': 4339, 'taylor': 4340, \"ya'\": 4341, 'chum': 4342, 'coughs': 4343, 'star': 4344, 'degradation': 4345, 'cheap': 4346, 'huddle': 4347, 'theatrical': 4348, \"number's\": 4349, 'occurrence': 4350, 'lied': 4351, 'warmly': 4352, 'acting': 4353, 'pro': 4354, 'taught': 4355, 'tasty': 4356, 'decent': 4357, 'majesty': 4358, 'peeping': 4359, 'seat': 4360, 'yo': 4361, 'assert': 4362, 'choose': 4363, 'sweat': 4364, 'fourth': 4365, 'blob': 4366, 'barn': 4367, 'comic_book_guy:': 4368, 'oof': 4369, 'purse': 4370, 'medieval': 4371, 'mock': 4372, 'kang:': 4373, 'shows': 4374, 'furiously': 4375, 'nuclear': 4376, 'buy': 4377, 'does': 4378, 'boozy': 4379, 'energy': 4380, 'hated': 4381, 'brakes': 4382, 'leans': 4383, 'wife': 4384, 'fainted': 4385, 'spending': 4386, 'all-all-all': 4387, 'hockey-fight': 4388, 'fall': 4389, 'sistine': 4390, 'tiger': 4391, 'liability': 4392, \"patrick's\": 4393, 'eyeballs': 4394, 'kids': 4395, 'return': 4396, 'transfer': 4397, 'squabbled': 4398, 'warranty': 4399, 'share': 4400, 'reserved': 4401, 'nectar': 4402, 'beam': 4403, 'puke-pail': 4404, 'goodnight': 4405, 'happened': 4406, 'specializes': 4407, 'hooky': 4408, 'oblivious': 4409, 'dearest': 4410, 'part': 4411, 'peace': 4412, 'hungry': 4413, '_julius_hibbert:': 4414, 'inning': 4415, 'intoxicated': 4416, 'twerpy': 4417, 'country': 4418, 'rug': 4419, 'years': 4420, 'longer': 4421, 'nods': 4422, 'sweaty': 4423, 'radiator': 4424, 'santeria': 4425, 'k': 4426, 'reads': 4427, 'insults': 4428, 'chinese': 4429, 'swell': 4430, 'theme': 4431, 'priceless': 4432, 'mmm': 4433, 'buddies': 4434, 'dramatically': 4435, 'someplace': 4436, 'unrelated': 4437, 'boozer': 4438, 'karaoke_machine:': 4439, 'schedule': 4440, 'stagy': 4441, 'scornfully': 4442, 'grubby': 4443, \"'ceptin'\": 4444, 'sabermetrics': 4445, 'mrs': 4446, 'future': 4447, 'monday': 4448, 'bunion': 4449, 'mid-seventies': 4450, 'compared': 4451, 'virtual': 4452, 'reliable': 4453, 'mini-beret': 4454, 'changing': 4455, 'winning': 4456, 'tester': 4457, 'crunch': 4458, 'treat': 4459, 'cow': 4460, 'life': 4461, 'train': 4462, 'joking': 4463, 'hotel': 4464, 'asks': 4465, 'pretzels': 4466, \"snappin'\": 4467, 'cell-ee': 4468, 'heartless': 4469, 'vengeance': 4470, 'arimasen': 4471, 'japanese': 4472, 'answers': 4473, 'buffet': 4474, 'high-definition': 4475, 'watching': 4476, 'sips': 4477, 'population': 4478, \"shootin'\": 4479, 'schemes': 4480, 'skin': 4481, 'are': 4482, 'thirty-five': 4483, 'gumbel': 4484, 'beats': 4485, 'situation': 4486, 'bullet-proof': 4487, 'fast': 4488, 'woman_bystander:': 4489, 'market': 4490, 'lessee': 4491, \"car's\": 4492, 'pulled': 4493, 'refund': 4494, 'scare': 4495, 'malibu': 4496, 'p-k': 4497, 'tabooger': 4498, 'break-up': 4499, 'graveyard': 4500, 'poulet': 4501, 'standards': 4502, 'bono': 4503, 'powers': 4504, 'bleacher': 4505, 'singing': 4506, 'scoffs': 4507, '2nd_voice_on_transmitter:': 4508, 'industry': 4509, 'hollywood': 4510, 'darjeeling': 4511, 'curiosity': 4512, 'until': 4513, 'book_club_member:': 4514, 'espn': 4515, \"we're\": 4516, 'crisis': 4517, 'corner': 4518, 'awesome': 4519, 'bubbles': 4520, 'sob': 4521, 'easy': 4522, 'belly-aching': 4523, 'hops': 4524, \"buffalo's\": 4525, 'reading:': 4526, \"clancy's\": 4527, 'guessing': 4528, 'weirder': 4529, \"fans'll\": 4530, 'hiring': 4531, 'drug': 4532, 'prints': 4533, \"'kay-zugg'\": 4534, 'telephone': 4535, 'attack': 4536, 'while': 4537, 'legoland': 4538, 'peeved': 4539, 'salvador': 4540, 'proves': 4541, 'history': 4542, 'way:': 4543, 'flying': 4544, 'dutch': 4545, 'stands': 4546, 'brick': 4547, 'duffman': 4548, 'ohh': 4549, \"i've\": 4550, 'needs': 4551, 'eh': 4552, '8': 4553, 'egg': 4554, 'summer': 4555, 'chuckle': 4556, 'seven': 4557, 'alpha-crow': 4558, 'sitar': 4559, 'blew': 4560, 'intelligent': 4561, 'correction': 4562, 'lie': 4563, 'macaulay': 4564, 'enterprising': 4565, \"someone's\": 4566, 'lenny:': 4567, 'buttocks': 4568, 'catch': 4569, 'guff': 4570, 'flush': 4571, 'tuna': 4572, 'achebe': 4573, 'rancid': 4574, 'pronounce': 4575, 'absentminded': 4576, 'wisconsin': 4577, 'samples': 4578, 'warning': 4579, 'forgive': 4580, 'bowl': 4581, 'emphasis': 4582, 'dating': 4583, 'gently': 4584, 'mcstagger': 4585, 'society_matron:': 4586, 'puffy': 4587, 'reward': 4588, 'solo': 4589, 'sending': 4590, 'sucks': 4591, \"man's_voice:\": 4592, 'sudoku': 4593, 'course': 4594, 'being': 4595, 'sniper': 4596, 'alibi': 4597, 'beer-dorf': 4598, 'backward': 4599, 'pusillanimous': 4600, 'tongue': 4601, 'darkness': 4602, 'bucket': 4603, 'exact': 4604, 'successful': 4605, 'bags': 4606, 'caused': 4607, 'looked': 4608, 'astonishment': 4609, 'sitcom': 4610, 'peaked': 4611, 'move': 4612, 'neanderthal': 4613, 'aer': 4614, 'terrorizing': 4615, 'beating': 4616, 'quit': 4617, 'interesting': 4618, 'those': 4619, 'shop': 4620, 'skirt': 4621, 'device': 4622, 'elaborate': 4623, 'lotta': 4624, 'denver': 4625, 'infatuation': 4626, 'pine': 4627, 'michael': 4628, 'upon': 4629, 'show': 4630, 'die': 4631, 'dishrag': 4632, 'engine': 4633, 'jets': 4634, 'hushed': 4635, ':': 4636, 'revenge': 4637, 'buyer': 4638, 'crank': 4639, 'considering': 4640, 'hunting': 4641, 'naively': 4642, 'trail': 4643, 'furniture': 4644, 'sleigh-horses': 4645, 'artie': 4646, 'stagehand:': 4647, 'betrayed': 4648, 'awww': 4649, 'aisle': 4650, 'me': 4651, 'tied': 4652, 'infestation': 4653, 'soir': 4654, 'undated': 4655, 'repairman': 4656, 'slapped': 4657, 'computer': 4658, 'teacup': 4659, 'poisoning': 4660, 'attractive_woman_#1:': 4661, 'drag': 4662, 'belts': 4663, 'hearing': 4664, 'ballclub': 4665, 'chuckling': 4666, 'brain': 4667, 'able': 4668, 'dea-d-d-dead': 4669, \"mother's\": 4670, 'depressing': 4671, 'manatee': 4672, 'bulletin': 4673, 'city': 4674, 'restless': 4675, 'immiggants': 4676, 'not': 4677, 'cable': 4678, 'choking': 4679, 'distributor': 4680, 'place': 4681, 'moe-lennium': 4682, 'set': 4683, \"heat's\": 4684, \"time's\": 4685, 'steamed': 4686, 'stay-puft': 4687, 'wall': 4688, 'remodel': 4689, \"brady's\": 4690, 'gosh': 4691, 'starlets': 4692, 'investor': 4693, \"i'm-so-stupid\": 4694, 'roof': 4695, 'lenny_leonard:': 4696, 'nineteen': 4697, 'lame': 4698, \"liberty's\": 4699, 'up': 4700, 'restaurants': 4701, 'cranberry': 4702, 'shuts': 4703, 'open': 4704, 'diet': 4705, 'nigerian': 4706, \"rustlin'\": 4707, 'wanna': 4708, 'devils:': 4709, 'cruiser': 4710, 'casual': 4711, 'paints': 4712, 'düffenbraus': 4713, \"buyin'\": 4714, 'cruel': 4715, 'us': 4716, 'ping-pong': 4717, 'christmas': 4718, 'young_moe:': 4719, 'pridesters:': 4720, 'starters': 4721, 'flush-town': 4722, 'awkward': 4723, 'nightmare': 4724, 'tomahto': 4725, 'mckinley': 4726, 'strawberry': 4727, 'umm': 4728, 'supermodel': 4729, 'hmf': 4730, 'ale': 4731, 'bread': 4732, 'sees/': 4733, 'tail': 4734, 'shorter': 4735, '_marvin_monroe:': 4736, 'meeting': 4737, 'reynolds': 4738, 'cheaper': 4739, 'whenever': 4740, 'larry:': 4741, 'ruuuule': 4742, 'glen': 4743, 'frazier': 4744, \"soakin's\": 4745, 'heather': 4746, 'forbidden': 4747, 'challenge': 4748, 'intoxicants': 4749, 'young': 4750, 'szyslak': 4751, 'golden': 4752, 'higher': 4753, 'privacy': 4754, '$42': 4755, \"yieldin'\": 4756, 'multiple': 4757, 'newsweek': 4758, 'cracked': 4759, 'tank': 4760, 'tornado': 4761, 'dessert': 4762, 'frontrunner': 4763, 'slays': 4764, 'moe-ron': 4765, 'salt': 4766, 'goo': 4767, 'declare': 4768, 'attractive_woman_#2:': 4769, 'belly': 4770, 'pitcher': 4771, 'body': 4772, 'marmaduke': 4773, 'sign': 4774, 'whaaa': 4775, 'shhh': 4776, 'forty-seven': 4777, 'polish': 4778, 'memories': 4779, 'u2:': 4780, 'complicated': 4781, 'app': 4782, 'patty': 4783, 'credit': 4784, 'scientific': 4785, 'dispenser': 4786, 'stewart': 4787, 'cattle': 4788, 'itself': 4789, 'intakes': 4790, 'blubberino': 4791, 'erasers': 4792, \"somethin'\": 4793, 'continuing': 4794, 'cauliflower': 4795, 'wooden': 4796, 'refill': 4797, 'law': 4798, 'ribbon': 4799, 'eminence': 4800, 'sweet': 4801, 'tony': 4802, 'endorsed': 4803, 'bum:': 4804, 'week': 4805, 'undies': 4806, 'themselves': 4807, 'sec_agent_#1:': 4808, 'freaky': 4809, 'throw': 4810, 'exclusive:': 4811, 'table': 4812, 'nine': 4813, 'experience': 4814, 'act': 4815, 'klingon': 4816, 'einstein': 4817, '<<right_parentheses>>': 4818, 'hooch': 4819, 'earpiece': 4820, 'literature': 4821, 'spectacular': 4822, 'pocket': 4823, 'passenger': 4824, 'sobo': 4825, 'bash': 4826, 'man_at_bar:': 4827, 'fortune': 4828, 'middle': 4829, 'movies': 4830, 'contemptuous': 4831, 'arts': 4832, 'wrestle': 4833, \"makin'\": 4834, 'shaved': 4835, \"renee's\": 4836, 'cruise': 4837, 'counting': 4838, \"feelin's\": 4839, \"daughter's\": 4840, 'managed': 4841, 'ton': 4842, \"there's\": 4843, 'rumaki': 4844, \"poundin'\": 4845, 'argue': 4846, 'oopsie': 4847, 'prove': 4848, 'dallas': 4849, 'organ': 4850, 'ned_flanders:': 4851, 'chub': 4852, 'window': 4853, '91': 4854, 'louie:': 4855, '21': 4856, 'wire': 4857, '_eugene_blatz:': 4858, 'bears': 4859, 'shoes': 4860, 'slaps': 4861, 'divine': 4862, 'lady': 4863, 'producers': 4864, 'burns': 4865, 'magazine': 4866, 'putty': 4867, 'kent_brockman:': 4868, \"marge's\": 4869, 'possessions': 4870, 'disappeared': 4871, 'beast': 4872, 'illegally': 4873, 'self-centered': 4874, 'homeland': 4875, 'booking': 4876, 'see': 4877, 'ling': 4878, 'bites': 4879, 'north': 4880, 'hexa-': 4881, 'shall': 4882, 'given': 4883, 'her': 4884, 'roy': 4885, 'mystery': 4886, 'spouses': 4887, 'damn': 4888, 'sunglasses': 4889, 'desire': 4890, 'jovial': 4891, 'england': 4892, \"fishin'\": 4893, 'deli': 4894, 'these': 4895, 'jazz': 4896, 'ultimate': 4897, 'pretends': 4898, 'training': 4899, 'alec_baldwin:': 4900, 'deeply': 4901, \"talkin'\": 4902, 'smelly': 4903, 'weather': 4904, 'stern': 4905, 'mayor': 4906, 'cuff': 4907, 'patterns': 4908, 'usual': 4909, 'talk-sings': 4910, 'mudflap': 4911, 'balls': 4912, 'mocking': 4913, 'between': 4914, 'doll': 4915, 'smart': 4916, 'johnny_carson:': 4917, \"summer's\": 4918, \"i'll\": 4919, \"how's\": 4920, 'chill': 4921, 'countryman': 4922, 'though': 4923, 'clears': 4924, 'swan': 4925, 'snail': 4926, 'offensive': 4927, 'apu': 4928, 'avalanche': 4929, 'eco-fraud': 4930, 'wise': 4931, 'courteous': 4932, 'experiments': 4933, 'inches': 4934, 'replace': 4935, 'julep': 4936, 'annoying': 4937, 'pint': 4938, 'insulin': 4939, 'applicant': 4940, 'perfunctory': 4941, 'punching': 4942, 'entire': 4943, 'german': 4944, 'cares': 4945, 'kentucky': 4946, 'muhammad': 4947, 'unattended': 4948, 'weak': 4949, 'cowboys': 4950, 'dazed': 4951, 'transylvania': 4952, 'every': 4953, \"leavin'\": 4954, 'lloyd': 4955, 'swe-ee-ee-ee-eet': 4956, 'shoulders': 4957, \"'bout\": 4958, 'jump': 4959, 'retired': 4960, 'nervously': 4961, 'railroads': 4962, 'cage': 4963, \"cuckold's\": 4964, 'poplar': 4965, 'form': 4966, 'duel': 4967, 'birthplace': 4968, 'other': 4969, 'read': 4970, 'war': 4971, 'invulnerable': 4972, 'quarry': 4973, 'six': 4974, 'sighs': 4975, 'audience': 4976, 'disgracefully': 4977, 'acceptance': 4978, 'ninety-eight': 4979, 'pack': 4980, 'recreate': 4981, 'squeal': 4982, 'eleven': 4983, 'cowboy': 4984, 'morose': 4985, 's-a-u-r-c-e': 4986, 'tow': 4987, 'unsafe': 4988, 'oh': 4989, 'california': 4990, 'overflowing': 4991, \"she's\": 4992, 'question': 4993, \"wouldn't\": 4994, 'cozy': 4995, 'everywhere': 4996, 'eddie': 4997, 'more': 4998, 'guide': 4999, 'mug': 5000, 'suppose': 5001, 'ons': 5002, 'cushions': 5003, 'threatening': 5004, 'sleeping': 5005, 'uh': 5006, 'pilsner-pusher': 5007, 'quickly': 5008, 'whatchacallit': 5009, 'assume': 5010, 'smelling': 5011, 'gruesome': 5012, 'remaining': 5013, 'faded': 5014, 'song': 5015, 'baritone': 5016, 'golf': 5017, \"nick's\": 5018, 'nailed': 5019, 'snorts': 5020, 'mellow': 5021, 'class': 5022, 'seductive': 5023, 'doctor': 5024, 'players': 5025, 'waylon': 5026, \"waitin'\": 5027, 'maude': 5028, 'slurred': 5029, 'wheel': 5030, 'actually': 5031, 'subject': 5032, 'weary': 5033, 'fears': 5034, 'calm': 5035, 'edna_krabappel-flanders:': 5036, 'tow-joes': 5037, 'malabar': 5038, 'jerk': 5039, 'nonchalant': 5040, 'hours': 5041, 'western': 5042, 'splattered': 5043, 'b': 5044, 'rasputin': 5045, 'sam:': 5046, 'thanksgiving': 5047, 'son-of-a': 5048, 'powerful': 5049, 'rip-off': 5050, 'skins': 5051, 'cobra': 5052, 'alley': 5053, 'pays': 5054, 'prayer': 5055, 'cookies': 5056, 'freely': 5057, 'needy': 5058, 'dropped': 5059, 'stalin': 5060, 'amid': 5061, 'surprise': 5062, 'squeals': 5063, 'chuckles': 5064, 'proposition': 5065, 'karaoke': 5066, 'maggie': 5067, \"y'know\": 5068, 'over-pronouncing': 5069, 'tasimeter': 5070, 'crowded': 5071, 'whale': 5072, 'xx': 5073, 'e-z': 5074, 'trapped': 5075, 'limber': 5076, 'eyed': 5077, 'behind': 5078, 'sometimes': 5079, '1895': 5080, 'chocolate': 5081, 'pitch': 5082, 'dungeon': 5083, 'al': 5084, 'uniforms': 5085, 'kickoff': 5086, 'maher': 5087, 'naturally': 5088, 'winces': 5089, 'ball': 5090, 'impress': 5091, 'speaking': 5092, 'appropriate': 5093, 'hair': 5094, 'timbuk-tee': 5095, 'anxious': 5096, 'housing': 5097, \"calf's\": 5098, 'securities': 5099, 'pall': 5100, 'estranged': 5101, 'term': 5102, 'finish': 5103, 'regretful': 5104, 'figure': 5105, 'fumes': 5106, 'blocked': 5107, 'punch': 5108, 'thrust': 5109, 'bumped': 5110, 'pizza': 5111, 'burger': 5112, 'recent': 5113, 'der': 5114, 'jacksons': 5115, 'dank': 5116, 'clubs': 5117, 'ronstadt': 5118, 'against': 5119, 'play': 5120, 'lazy': 5121, 'accident': 5122, 'barney-shaped_form:': 5123, 'illustrates': 5124, 'padres': 5125, 'reasons': 5126, 'investigating': 5127, 'pepto-bismol': 5128, 'statistician': 5129, 'luckiest': 5130, 'mmmmm': 5131, 'hit': 5132, 'disposal': 5133, 'swatch': 5134, 'sense': 5135, 'example': 5136, 'lanes': 5137, 'lights': 5138, 'freak': 5139, 'ralph': 5140, \"other's\": 5141, 'duty': 5142, 'david_byrne:': 5143, \"that's\": 5144, 'th': 5145, 'typing': 5146, 'heatherton': 5147, 'halfway': 5148, 'sits': 5149, 'separator': 5150, 'deny': 5151, \"pickin'\": 5152, 'laws': 5153, 'steak': 5154, 'barstools': 5155, 'aboard': 5156, 'problems': 5157, 'curse': 5158, 'slop': 5159, \"homer's_brain:\": 5160, \"town's\": 5161, 'scent': 5162, 'campaign': 5163, 'tape': 5164, 'numeral': 5165, 'veteran': 5166, 'some': 5167, 'derisive': 5168, 'ford': 5169, 'abolish': 5170, 'hearse': 5171, 'car:': 5172, 'ohhhh': 5173, \"year's\": 5174, 'boyhood': 5175, 'diaper': 5176, 'broken:': 5177, 'nigeria': 5178, 'will': 5179, 'optimistic': 5180, 'portentous': 5181, 'effects': 5182, 'met': 5183, 'ear': 5184, 'jacques': 5185, 'pudgy': 5186, 'gulliver_dark:': 5187, 'sail': 5188, 'butterball': 5189, 'stadium': 5190, 'stab': 5191, 'tyson/secretariat': 5192, 'confession': 5193, 'rugged': 5194, 'grains': 5195, 'panties': 5196, \"burnin'\": 5197, 'dressed': 5198, 'yours': 5199, 'statues': 5200, 'hero': 5201, 'busiest': 5202, 'thought_bubble_homer:': 5203, \"poisonin'\": 5204, 'prompting': 5205, 'fatty': 5206, 'remembering': 5207, 'published': 5208, 'domed': 5209, 'holiday': 5210, 'confused': 5211, 'gunk': 5212, 'rag': 5213, 'begin': 5214, 'booze-bags': 5215, 'baby': 5216, 'bedroom': 5217, 'p': 5218, 'mahatma': 5219, 'eye-gouger': 5220, 'mull': 5221, 'ointment': 5222, 'payback': 5223, 'ziff': 5224, 'forever': 5225, 'where': 5226, 'roller': 5227, 'crimes': 5228, 'waters': 5229, 'excellent': 5230, \"jimbo's_dad:\": 5231, 'wallet': 5232, 'title': 5233, 'bad-mouth': 5234, 'stranger:': 5235, 'underbridge': 5236, 'homunculus': 5237, 'phony': 5238, 'chest': 5239, 'airport': 5240, 'waylon_smithers:': 5241, 'title:': 5242, 'loneliness': 5243, 'marvin': 5244, 'perking': 5245, 'softer': 5246, 'napkins': 5247, 'strictly': 5248, 'matter': 5249, 'duh': 5250, 'half-day': 5251, 'left': 5252, 'friendship': 5253, \"can't\": 5254, 'crew': 5255, 'teenage_bart:': 5256, \"duff's\": 5257, 'aerospace': 5258, 'before': 5259, 'dealie': 5260, 'dead': 5261, 'fastest': 5262, 'runaway': 5263, 'rusty': 5264, 'catching': 5265, 'mill': 5266, \"plank's\": 5267, 'copy': 5268, 'judges': 5269, 'heck': 5270, 'leaving': 5271, 'youth': 5272, 'random': 5273, 'trip': 5274, 'vodka': 5275, 'regretted': 5276, 'goodwill': 5277, \"nothin'\": 5278, 'trapping': 5279, 'merchants': 5280, 'tha': 5281, \"bo's\": 5282, 'praise': 5283, 'faiths': 5284, 'coms': 5285, 'hawking:': 5286, 'menace': 5287, 'kills': 5288, 'system': 5289, \"isn't\": 5290, 'shipment': 5291, 'sexy': 5292, 'unlocked': 5293, 'troll': 5294, 'court': 5295, 'nelson_muntz:': 5296, 'undermine': 5297, 'tokens': 5298, 'pile': 5299, 'fire_inspector:': 5300, 'tv_husband:': 5301, 'dictating': 5302, 'staying': 5303, 'bart_simpson:': 5304, 'racially-diverse': 5305, 'generally': 5306, 'arrange': 5307, 'exhaust': 5308, 'santa': 5309, 'alphabet': 5310, 'eighteen': 5311, 'when-i-get-a-hold-of-you': 5312, 'yet': 5313, 'chips': 5314, 'kneeling': 5315, 'danny': 5316, 'butt': 5317, 'mindless': 5318, 'jägermeister': 5319, 'tanking': 5320, 'appalled': 5321, 'clapping': 5322, 'ratted': 5323, 'bye': 5324, 'satisfaction': 5325, 'l': 5326, 'thirteen': 5327, 'my-y-y-y-y-y': 5328, 'in': 5329, 'pointy': 5330, 'true': 5331, 'holy': 5332, 'huggenkiss': 5333, 'researching': 5334, 'pretend': 5335, 'influence': 5336, 'crack': 5337, 'temporarily': 5338, 'infor': 5339, 'cheers': 5340, \"that'd\": 5341, 'needed': 5342, 'beard': 5343, 'citizens': 5344, 'its': 5345, 'supermarket': 5346, 'uninhibited': 5347, 'teams': 5348, 'robbers': 5349, 'make:': 5350, \"stabbin'\": 5351, 'wantcha': 5352, 'sight-unseen': 5353, 'diamond': 5354, 'tribute': 5355, 'nitwit': 5356, 'patient': 5357, 'kegs': 5358, 'trick': 5359, 'fridge': 5360, 'physical': 5361, 'exited': 5362, 'easter': 5363, 'martini': 5364, 'champion': 5365, 'regulars': 5366, 'crumble': 5367, 'draw': 5368, 'authenticity': 5369, 'offer': 5370, 'genius': 5371, 'pharmaceutical': 5372, 'shakespeare': 5373, 'our': 5374, 'hillbillies': 5375, 'large': 5376, 'traditions': 5377, 'militia': 5378, 'improv': 5379, 'dump': 5380, 'failure': 5381, 'broke': 5382, 'blinded': 5383, 'nascar': 5384, 'looooooooooooooooooong': 5385, 'grampa': 5386, 'warn': 5387, 'mumble': 5388, 'thirty-thousand': 5389, 'tar-paper': 5390, 'amused': 5391, 'tapered': 5392, 'pepper': 5393, 'midge': 5394, 'blessing': 5395, 'cheerleaders:': 5396, 'shaken': 5397, 'oblongata': 5398, 'non-losers': 5399, 'authorized': 5400, \"playin'\": 5401, 'bono:': 5402, 'musta': 5403, 'ghouls': 5404, 'lovers': 5405, 'moe_szyslak:': 5406, 'finger': 5407, \"watchin'\": 5408, 'knew': 5409, 'eggs': 5410, 'sports': 5411, 'saving': 5412, 'days': 5413, 'raccoons': 5414, 'sass': 5415, 'hibachi': 5416, 'bride': 5417, 'ways': 5418, 'further': 5419, 'brother-in-law': 5420, 'seek': 5421, 'youuu': 5422, 'hooters': 5423, 'helllp': 5424, 'takes': 5425, 'probably': 5426, 'william': 5427, 'care': 5428, 'laney': 5429, 'frosty': 5430, 'already': 5431, 'showed': 5432, 'world-class': 5433, 'brine': 5434, 'reckless': 5435, 'dirty': 5436, 'advertise': 5437, 'bon-bons': 5438, 'mason': 5439, 'doreen:': 5440, 'nature': 5441, 'something:': 5442, 'sotto': 5443, 'selection': 5444, 'house': 5445, \"'morning\": 5446, 'fumigated': 5447, 'lurks': 5448, 'four-drink': 5449, 'church': 5450, 'rom': 5451, 'overhearing': 5452, 'lecture': 5453, 'experienced': 5454, 'syrup': 5455, 'seats': 5456, 'amiable': 5457, 'wacky': 5458, 'mariah': 5459, 'ding-a-ding-ding-a-ding-ding': 5460, 'sisters': 5461, 'office': 5462, 'correcting': 5463, 'men': 5464, 'videotaped': 5465, 'bird': 5466, 'gunter': 5467, 'sympathizer': 5468, 'dynamite': 5469, 'contemplated': 5470, 'honey': 5471, 'daughter': 5472, 'adult_bart:': 5473, 'flailing': 5474, 'envy-tations': 5475, 'voice:': 5476, 'poem': 5477, 'insured': 5478, 'conditioners': 5479, 'fry': 5480, 'ingrates': 5481, 'non-american': 5482, 'additional-seating-capacity': 5483, 'starla:': 5484, 'extended': 5485, 'sub-monkeys': 5486, \"tellin'\": 5487, \"city's\": 5488, 'prime': 5489, 'cheered': 5490, 'oww': 5491, 'motorcycle': 5492, 'picked': 5493, 'allow': 5494, 'pulitzer': 5495, 'giving': 5496, 'appreciate': 5497, 'sobriety': 5498, 'certificate': 5499, 'moxie': 5500, 'cleveland': 5501, 'so': 5502, 'conclude': 5503, 'twelve-step': 5504, 'joy': 5505, 'stealings': 5506, 'exchanged': 5507, 'survive': 5508, 'doors': 5509, 'male_singers:': 5510, 'ungrateful': 5511, 'nelson': 5512, 'entering': 5513, 'counterfeit': 5514, 'grope': 5515, 'blade': 5516, 'committee': 5517, 'b-day': 5518, 'landfill': 5519, 'poin-dexterous': 5520, 'john': 5521, 'enveloped': 5522, 'celebrate': 5523, 'roz:': 5524, 'stunned': 5525, 'kick-ass': 5526, 'squirrels': 5527, 'paper': 5528, 'books': 5529, 'cricket': 5530, 'fight': 5531, 'phlegm': 5532, 'half-back': 5533, 'knowledge': 5534, 'cursed': 5535, \"meanin'\": 5536, 'parking': 5537, 'loan': 5538, 'stinger': 5539, 'hate-hugs': 5540, \"somebody's\": 5541, 'canyoner-oooo': 5542, 'murmur': 5543, 'bar': 5544, \"school's\": 5545, 'familiar': 5546, 'break': 5547, 'photo': 5548, 'wowww': 5549, \"drawin'\": 5550, 'wonderful': 5551, 'scientists': 5552, 'flashing': 5553, 'fired': 5554, 'fritz:': 5555, 'brought': 5556, 'reserve': 5557, 'lord': 5558, 'come': 5559, 'spit': 5560, 'suing': 5561, 'cakes': 5562, 'makes': 5563, 'humanity': 5564, 'elect': 5565, 'corn': 5566, 'incapable': 5567, 'mushy': 5568, 'fake': 5569, 'involving': 5570, 'stand': 5571, 'pulls': 5572, 'harder': 5573, 'noooooooooo': 5574, 'words': 5575, 'sweater': 5576, 'cap': 5577, 'toy': 5578, 'detail': 5579, 'benjamin:': 5580, \"today's\": 5581, 'advertising': 5582, \"round's\": 5583, 'teacher': 5584, 'inquiries': 5585, 'angrily': 5586, 'dregs': 5587, 'plus': 5588, 'w-a-3-q-i-zed': 5589, 'wrong': 5590, 'freed': 5591, 'gossipy': 5592, 'killing': 5593, 'orgasmville': 5594, 'concerned': 5595, 'lead': 5596, 'prank': 5597, 'clearing': 5598, 'harv': 5599, 'hail': 5600, 'eighty-one': 5601, 'vehicle': 5602, 'emotional': 5603, 'cleaning': 5604, 'larson': 5605, 'ho-ly': 5606, 'bottoms': 5607, 'tracks': 5608, 'suspenders': 5609, 'compare': 5610, 'onto': 5611, 'glad': 5612, 'stick': 5613, \"cleanin'\": 5614, 'knowingly': 5615, 'margarita': 5616, 'electronic': 5617, 'sharity': 5618, 'thorn': 5619, 'spoken': 5620, 'iranian': 5621, 'quiet': 5622, \"livin'\": 5623, 'bupkus': 5624, 'mmmm': 5625, 'community': 5626, 'bible': 5627, 'gang': 5628, 'sensitivity': 5629, 'doooown': 5630, 'innocence': 5631, 'twelveball': 5632, 'lifts': 5633, 'gator': 5634, 'thorough': 5635, 'delicate': 5636, 'bam': 5637, 'germany': 5638, 'hmmm': 5639, 'albert': 5640, 'nervous': 5641, 'rims': 5642, 'off': 5643, \"should've\": 5644, 'methinks': 5645, 'here': 5646, \"children's\": 5647, 'abcs': 5648, 'businessman_#1:': 5649, \"haven't\": 5650, 'boring': 5651, 'fist': 5652, 'tragedy': 5653, 'smokes': 5654, 'grammys': 5655, 'director:': 5656, 'hide': 5657, 'tones': 5658, 'till': 5659, 'advance': 5660, 'hawaii': 5661, 'car': 5662, 'wheeeee': 5663, 'worth': 5664, 'tire': 5665, 'eyesore': 5666, 'eager': 5667, 'sixty-five': 5668, 'dig': 5669, 'thousand-year': 5670, 'sharing': 5671, 'tune': 5672, 'lance': 5673, 'candy': 5674, 'cutest': 5675, 'pour': 5676, 'celebration': 5677, 'chip': 5678, 'fudd': 5679, 'distraught': 5680, 'slight': 5681, 'humiliation': 5682, \"foolin'\": 5683, 'love': 5684, 'silence': 5685, 'serious': 5686, 'dean': 5687, 'tropical': 5688, 'quotes': 5689, 'ma': 5690, 'cops': 5691, 'rules': 5692, 'gentle': 5693, 'three-man': 5694, \"ball's\": 5695, 'associate': 5696, \"sayin'\": 5697, 'plain': 5698, 'hollye': 5699, 'grumbling': 5700, \"you'll\": 5701, 'embarrassed': 5702, \"neighbor's\": 5703, 'low': 5704, 'aah': 5705, 'thoughtfully': 5706, 'yew': 5707, 'guiltily': 5708, 'full-time': 5709, \"starla's\": 5710, 'lousy': 5711, 'clothes': 5712, 'naegle': 5713, \"'your\": 5714, 'chapel': 5715, 'quality': 5716, \"ragin'\": 5717, 'mess': 5718, 'drunk': 5719, 'drawing': 5720, 'hairs': 5721, 'graves': 5722, 'expose': 5723, \"listenin'\": 5724, 'circus': 5725, 'nickels': 5726, 'size': 5727, 'lee': 5728, 'average': 5729, 'painting': 5730, 'pretty': 5731, 'playing': 5732, 'furious': 5733, 'sun': 5734, 'tall': 5735, 'filth': 5736, 'lady_duff:': 5737, 'sunny': 5738, 'pillows': 5739, 'harvard': 5740, 'orifice': 5741, 'captain:': 5742, 'surprised': 5743, 'i-i-i': 5744, 'singing/pushing': 5745, 'wazoo': 5746, 'statesmanlike': 5747, 'here-here-here': 5748, 'wrestling': 5749, 'throats': 5750, 'pursue': 5751, 'engraved': 5752, 'asleep': 5753, 'operation': 5754, \"swishifyin'\": 5755, 'bret': 5756, 'diminish': 5757, 'david': 5758, 'dizer': 5759, 'bachelor': 5760, 'jail': 5761, 'fierce': 5762, 'all-american': 5763, 'apart': 5764, \"brockman's\": 5765, 'tie': 5766, 'americans': 5767, \"g'ahead\": 5768, 'lady-free': 5769, 'packets': 5770, 'accept': 5771, 'unattractive': 5772, 'expense': 5773, 'wishes': 5774, 'vacations': 5775, 'compete': 5776, 'help': 5777, 'problemo': 5778, 'popped': 5779, '&': 5780, 'meaning': 5781, 'loved': 5782, 'wage': 5783, 'religion': 5784, 'romance': 5785, 'assumed': 5786, 'be-stainèd': 5787, 'figures': 5788, 'cockroach': 5789, 'neck': 5790, 'morning-after': 5791, 'school': 5792, 'code': 5793, 'wheels': 5794, 'sausage': 5795, 'bar:': 5796, 'ehhhhhh': 5797, 'comes': 5798, 'shifty': 5799, 'village': 5800, 'old-time': 5801, 'grabbing': 5802, \"mtv's\": 5803, 'alls': 5804, 'lover': 5805, 'hooked': 5806, 'babe': 5807, 'festival': 5808, 'ninety-seven': 5809, 'sink': 5810, 'under': 5811, 'takeaway': 5812, 'haikus': 5813, 'piano': 5814, 'deal': 5815, 'voice': 5816, 'nobel': 5817, 'creeps': 5818, 'corkscrews': 5819, 'nuts': 5820, 'price': 5821, 'bury': 5822, 'occurred': 5823, 'watch': 5824, 'kenny': 5825, \"collector's\": 5826, 'dawning': 5827, 'urine': 5828, 'insist': 5829, 'yelp': 5830, 'equivalent': 5831, 'rude': 5832, \"treatin'\": 5833, 'spend': 5834, 'driveability': 5835, 'bigger': 5836, 'surgeonnn': 5837, 'peppers': 5838, 'crazy': 5839, 'teach': 5840, 'kissingher': 5841, 'going': 5842, 'environment': 5843, 'boy': 5844, 'grrrreetings': 5845, 'smoker': 5846, 'painless': 5847, 'fustigate': 5848, 'thoughts': 5849, 'thirsty': 5850, 'granted': 5851, 'abe': 5852, 'weird': 5853, 'decision': 5854, 'character': 5855, 'gasp': 5856, 'forty-nine': 5857, 'please': 5858, 'blend': 5859, 'mad': 5860, 'charity': 5861, 'sternly': 5862, 'other_player:': 5863, 'refresh': 5864, 'twins': 5865, 'took': 5866, 'cartoons': 5867, \"aren'tcha\": 5868, 'wakede': 5869, 'miss': 5870, 'whispered': 5871, 'cab': 5872, 'kay': 5873, 'wally:': 5874, 'toward': 5875, 'heavyweight': 5876, 'provide': 5877, 'rage': 5878, 'sit': 5879, \"homer's\": 5880, 'rummy': 5881, 'feet': 5882, 'jewish': 5883, 'list': 5884, 'lungs': 5885, 'voice_on_transmitter:': 5886, 'sir': 5887, 'lobster': 5888, 'shoots': 5889, 'pope': 5890, 'du': 5891, 'politicians': 5892, 'scene': 5893, 'chuck': 5894, 'cooker': 5895, 'los': 5896, 'wine': 5897, 'groan': 5898, 'mural': 5899, 'proof': 5900, 'microphone': 5901, 'fan': 5902, 'effigy': 5903, 'sleep': 5904, 'threw': 5905, 'wondered': 5906, 'grieving': 5907, 'frogs': 5908, 'different': 5909, 'horses': 5910, 'dry': 5911, 'entertainer': 5912, 'waterfront': 5913, 'life-sized': 5914, 'delicately': 5915, 'sidelines': 5916, 'shakes': 5917, 'fourteen:': 5918, 'parenting': 5919, 'wishful': 5920, 'tired': 5921, 'nobody': 5922, 'shindig': 5923, 'sister-in-law': 5924, 'annus': 5925, \"writin'\": 5926, 'owns': 5927, 'wolfcastle': 5928, 'pernt': 5929, 'broad': 5930, 'helicopter': 5931, 'blows': 5932, \"donatin'\": 5933, 'brace': 5934, 'femininity': 5935, 'continued': 5936, 'ripping': 5937, 'whoo': 5938, 'presentable': 5939, 'wearing': 5940, 'forget-me-shot': 5941, 'idiot': 5942, 'irrelevant': 5943, 'explaining': 5944, 'buzz': 5945, 'deadly': 5946, 'victorious': 5947, 'fevered': 5948, 'shape': 5949, 'hiya': 5950, 'toe': 5951, 'glen:': 5952, 'renee': 5953, 'grin': 5954, \"drinkin'\": 5955, 'vacation': 5956, 'dateline': 5957, 'uncle': 5958, 'age': 5959, 'wraps': 5960, 'refreshing': 5961, 'screw': 5962, 'fayed': 5963, 'including': 5964, \"i'unno\": 5965, 'louse': 5966, 'understand': 5967, 'plum': 5968, 'barflies:': 5969, 'presses': 5970, 'heh': 5971, 'wenceslas': 5972, 'sponge': 5973, 'exhibit': 5974, 'prize': 5975, 'turns': 5976, 'almost': 5977, 'long': 5978, 'job': 5979, 'trainers': 5980, 'happy': 5981, 'grocery': 5982, 'soul': 5983, 'allegiance': 5984, 'neighbor': 5985, 'grand': 5986, 'stripe': 5987, 'justify': 5988, 'nerve': 5989, 'ugliness': 5990, 'bushes': 5991, 'dice': 5992, 'robin': 5993, 'super-genius': 5994, 'chauffeur': 5995, \"kids'\": 5996, 'network': 5997, 'friendly': 5998, 'dint': 5999, 'actor': 6000, 'salad': 6001, 'transmission': 6002, 'aid': 6003, \"man'd\": 6004, 'knocks': 6005, 'clientele': 6006, 'grammar': 6007, 'flowers': 6008, 'unlucky': 6009, 'ne': 6010, 'honor': 6011, \"lisa's\": 6012, 'alky': 6013, 'spellbinding': 6014, 'poke': 6015, 'avenue': 6016, 'buttons': 6017, 'nose': 6018, 'asked': 6019, 'painted': 6020, 'brothers': 6021, \"where's\": 6022, 'meet': 6023, 'janette': 6024, 'shut': 6025, 'porn': 6026, 'lend': 6027, 'ahem': 6028, 'miss_lois_pennycandy:': 6029, 'outta': 6030, 'inserts': 6031, 'knowing': 6032, 'dangerous': 6033, 'windowshade': 6034, 'picky': 6035, 'flaking': 6036, 'awe': 6037, \"'em\": 6038, 'venture': 6039, 'someone': 6040, \"takin'\": 6041, 'we': 6042, 'mission': 6043, 'ooo': 6044, 'bad': 6045, 'know': 6046, 'has': 6047, \"fendin'\": 6048, 'site': 6049, \"lookin'\": 6050, 'dumbest': 6051, 'plow': 6052, 'faceful': 6053, 'neon': 6054, 'befriend': 6055, 'water': 6056, 'mini-dumpsters': 6057, 'whether': 6058, 'hare-brained': 6059, 'fell': 6060, 'lone': 6061, 'anniversary': 6062, 'klown': 6063, 'cats': 6064, 'boston': 6065, 'fanciest': 6066, 'whiny': 6067, 'is:': 6068, 'most': 6069, 'charlie': 6070, 'liser': 6071, 'isle': 6072, 'handling': 6073, '50%': 6074, 'tapestry': 6075, 'believer': 6076, 'plums': 6077, 'sec': 6078, 'treats': 6079, 'sorry': 6080, 'wipe': 6081, \"everyone's\": 6082, 'noticing': 6083, 'manipulation': 6084, 'fifth': 6085, 'careful': 6086, 'certainly': 6087, \"tester's\": 6088, 'guttural': 6089, 'reaches': 6090, 'pool': 6091, 'de-scramble': 6092, 'huh': 6093, 'reading': 6094, 'disturbing': 6095, 'puzzled': 6096, 'who': 6097, '<<exclamation_mark>>': 6098, 'urinal': 6099, 'indicates': 6100, 'insensitive': 6101, 'daniel': 6102, 'dumptruck': 6103, 'dad': 6104, \"blowin'\": 6105, 'pig': 6106, 'prices': 6107, 'lou:': 6108, 'apulina': 6109, 'dyspeptic': 6110, 'spot': 6111, 'saucy': 6112, 'confidentially': 6113, 'wild': 6114, \"disrobin'\": 6115, 'jay_leno:': 6116, 'inanely': 6117, 'woooooo': 6118, 'prayers': 6119, 'refinanced': 6120, 'simple': 6121, 'barney': 6122, 'darts': 6123, 'horns': 6124, 'gutenberg': 6125, 'resenting': 6126, 'beer-jerks': 6127, 'uhhhh': 6128, 'handed': 6129, 'daddy': 6130, 'ails': 6131, 'early': 6132, \"he'll\": 6133, 'breaking': 6134, 'fuzzlepitch': 6135, 'rubbed': 6136, 'ends': 6137, 'center': 6138, 'bart': 6139, 'college': 6140, 'ripper': 6141, 'bathed': 6142, 'hilarious': 6143, 'talkative': 6144, 'jimmy': 6145, 'bowling': 6146, 'valley': 6147, 'goods': 6148, 'mexican': 6149, 'hourly': 6150, 'strong': 6151, 'sprawl': 6152, 'perfected': 6153, 'fish': 6154, \"you'd\": 6155, 'bob': 6156, 'occurs': 6157, 'bagged': 6158, 'exception:': 6159, \"fryer's\": 6160, 'contact': 6161, 'pointing': 6162, 'remote': 6163, 'pews': 6164, \"handwriting's\": 6165, 'wake': 6166, 'germans': 6167, 'tubman': 6168, 'pause': 6169, 'hellhole': 6170, 'cutie': 6171, 'led': 6172, 'uh-huh': 6173, 'something': 6174, 'store-bought': 6175, 'braun:': 6176, 'pus-bucket': 6177, 'lotsa': 6178, 'hostile': 6179, 'majority': 6180, 'selfish': 6181, 'macho': 6182, 'jamaican': 6183, 'rutabaga': 6184, 'poet': 6185, 'manjula': 6186, 'self-made': 6187, \"moe's\": 6188, 'vin': 6189, 'sweetie': 6190, 'animals': 6191, 'sure': 6192, 'occupied': 6193, 'sorts': 6194, 'barf': 6195, 'toilet': 6196, 'fault': 6197, 'awfully': 6198, \"mcstagger's\": 6199, 'gus': 6200, 'island': 6201, 'taxi': 6202, 'phone': 6203, 'flynt': 6204, 'looks': 6205, 'nudge': 6206, 'ease': 6207, 'stupidly': 6208, 'ew': 6209, 'coach:': 6210, 'six-barrel': 6211, 'allowed': 6212, \"somethin's\": 6213, 'expression': 6214, 'application': 6215, 'denser': 6216, 'good': 6217, 'mouths': 6218, 'respect': 6219, 'shush': 6220, 'labor': 6221, 'ruled': 6222, 'simp-sonnnn': 6223, 'address': 6224, 'hitler': 6225, \"dad's\": 6226, 'prejudice': 6227, 'idiots': 6228, 'releases': 6229, 'scully': 6230, 'surprising': 6231, 'point': 6232, 'espousing': 6233, 'haws': 6234, 'scruffy_blogger:': 6235, 'bartenders': 6236, 'slab': 6237, 'gone': 6238, \"you've\": 6239, 'agents': 6240, 'raggie': 6241, 'boneheaded': 6242, 'wolveriskey': 6243, 'inside': 6244, 'incarcerated': 6245, 'lager': 6246, 'hike': 6247, 'naked': 6248, 'mater': 6249, 'gum': 6250, 'marge_simpson:': 6251, 'hoagie': 6252, 'another': 6253, 'spit-backs': 6254, 'ambrosia': 6255, 'past': 6256, 'letter': 6257, 'joke': 6258, 'tender': 6259, 'refiero': 6260, 'benjamin': 6261, 'incredulous': 6262, 'intervention': 6263, \"singin'\": 6264, 'police': 6265, 'cocktail': 6266, 'notices': 6267, 'badmouth': 6268, 'vulgar': 6269, 'telling': 6270, 'dana_scully:': 6271, \"'pu\": 6272, 'the_edge:': 6273, 'amount': 6274, 'innocuous': 6275, 'grey': 6276, 'looser': 6277, 'yak': 6278, 'othello': 6279, 'meditative': 6280, 'station': 6281, 'email': 6282, 'model': 6283, 'beanbag': 6284, 'pretzel': 6285, 'handing': 6286, 'imported-sounding': 6287, 'labels': 6288, 'bluff': 6289, 'based': 6290, 'mate': 6291, 'mm': 6292, 'ze-ro': 6293, 'football': 6294, 'certain': 6295, 'aunt': 6296, 'junior': 6297, 'turlet': 6298, 'life:': 6299, 'glitterati': 6300, 'obese': 6301, 'positive': 6302, 'panicky': 6303, 'sweden': 6304, 'inflated': 6305, 'firmly': 6306, 'studied': 6307, 'chanting': 6308, 'hugh:': 6309, 'pointedly': 6310, 'super-tough': 6311, 'mexican_duffman:': 6312, 'grandmother': 6313, 'bid': 6314, 'desperate': 6315, 'better': 6316, 'distance': 6317, \"floatin'\": 6318, 'relaxing': 6319, 'manuel': 6320, \"games'd\": 6321, \"robbin'\": 6322, 'mistake': 6323, 'hispanic_crowd:': 6324, 'employees': 6325, 'personal': 6326, 'kicks': 6327, 'hosting': 6328, 'raises': 6329, 'moe-heads': 6330, 'same': 6331, \"lenny's\": 6332, 'worthless': 6333, 'again': 6334, 'such': 6335, 'hopeful': 6336, 'elephants': 6337, 'slap': 6338, 'broncos': 6339, \"bart'd\": 6340, 'barkeeps': 6341, 'bloodiest': 6342, 'papa': 6343, 'villanova': 6344, 'row': 6345, 'attend': 6346, 'bed': 6347, 'cushion': 6348, 'handwriting': 6349, 'forgotten': 6350, 'realize': 6351, 'odor': 6352, 'hose': 6353, 'banquet': 6354, 'flashbacks': 6355, 'landlord': 6356, 'laughter': 6357, 'located': 6358, 'bus': 6359, 'reminds': 6360, 'cliff': 6361, '<<quotation_mark>>': 6362, 'james': 6363, 'fact': 6364, 'smell': 6365, 'hero-phobia': 6366, 'drains': 6367, 'anti-intellectualism': 6368, 'what-for': 6369, 'charges': 6370, 'glummy': 6371, 'opens': 6372, 'astronaut': 6373, 'dislike': 6374, 'thing:': 6375, 'seething': 6376, 'getaway': 6377, 'kadlubowski': 6378, 'indigenous': 6379, \"something's\": 6380, 'offense': 6381, 'radioactive': 6382, 'sloppy': 6383, \"we'll\": 6384, 'forty-five': 6385, 'masks': 6386, 'item': 6387, 'combine': 6388, 'face-macer': 6389, 'dan_gillick:': 6390, 'phrase': 6391, 'dive': 6392, 'contest': 6393, 'dreary': 6394, 'trenchant': 6395, 'capitol': 6396, 'feisty': 6397, 'thirty-nine': 6398, 'loyal': 6399, 'tom': 6400, 'favorite': 6401, 'faint': 6402, 'dirt': 6403, 'zero': 6404, 'augustus': 6405, 'dozen': 6406, 'puff': 6407, 'swishkabobs': 6408, 'emporium': 6409, 'stinks': 6410, \"pressure's\": 6411, 'defeated': 6412, 'raging': 6413, 'warm_female_voice:': 6414, 'wh': 6415, 'playoff': 6416, 'give': 6417, 'snake': 6418, 'covers': 6419, 'cents': 6420, 'hunka': 6421, 'ninety-nine': 6422, 're:': 6423, 'rap': 6424, \"b-52's:\": 6425, 'mis-statement': 6426, 'friend:': 6427, 'read:': 6428, 'learned': 6429, 'sell': 6430, 'unable': 6431, 'choked': 6432, \"coaster's\": 6433, 'i-i': 6434, \"he's\": 6435, 'searching': 6436, 'eu': 6437, 'white': 6438, 'domestic': 6439, \"i-i'm\": 6440, 'feminist': 6441, 'je': 6442, 'procedure': 6443, 'friction': 6444, 'medical': 6445, 'appreciated': 6446, 'heart-broken': 6447, 'burps': 6448, 'purveyor': 6449, 'accelerating': 6450, 'arse': 6451, 'wang': 6452, 'whoopi': 6453, 'whatsit': 6454, 'sugar-me-do': 6455, \"coffee'll\": 6456, 'jogging': 6457, 'coast': 6458, 'rice': 6459, 'lookalike:': 6460, 'liven': 6461, 'quitcher': 6462, '7g': 6463, 'hanging': 6464, 'gimme': 6465, 'appear': 6466, 'crying': 6467, 'wok': 6468, 'skinheads': 6469, 'pity': 6470, 'outstanding': 6471, 'cure': 6472, \"table's\": 6473, 'stupidest': 6474, 'tearfully': 6475, 'reentering': 6476, 'hardhat': 6477, 'changed': 6478, 'weight': 6479, 'anderson': 6480, 'done': 6481, 'was': 6482, 'hmm': 6483, 'jaegermeister': 6484, 'enlightened': 6485, 'dark': 6486, 'encouraging': 6487, 'special': 6488, 'hundreds': 6489, \"'cause\": 6490, 'shill': 6491, 'grub': 6492, 'represent': 6493, 'creepy': 6494, 'okay': 6495, 'pleased': 6496, 'springfield': 6497, 'got': 6498, 'squirrel': 6499, 'helping': 6500, \"tonight's\": 6501, 'delightfully': 6502, 'fletcherism': 6503, 'depressed': 6504, 'blimp': 6505, 'continuum': 6506, 'tactful': 6507, 'kirk_van_houten:': 6508, 'permitting': 6509, 'unfair': 6510, 'involved': 6511, 'reluctantly': 6512, 'enemies': 6513, 'terrified': 6514, 'whup': 6515, 'living': 6516, 'bake': 6517, 'gotten': 6518, 'appearance-altering': 6519, 'two-thirds-empty': 6520, 'prince': 6521, 'disgusted': 6522, 'blaze': 6523, 'knock': 6524, 'fortensky': 6525, 'idea': 6526, 'support': 6527, 'dreams': 6528, 'screams': 6529, 'x-men': 6530, 'puke': 6531, 'jay': 6532, 'laugh': 6533, 'mitts': 6534, 'demand': 6535, 'barber': 6536, 'garbage': 6537, 'own': 6538, 'official': 6539, 'wuss': 6540, 'breathtaking': 6541, 'stu': 6542, 'meant': 6543, 'pigtown': 6544, 'twenty-six': 6545, 'exploiter': 6546, 'accepting': 6547, 'enter': 6548, 'potatoes': 6549, \"hangin'\": 6550, 'spits': 6551, 'hah': 6552, 'mel': 6553, 'steam': 6554, 'alfalfa': 6555, 'that': 6556, 'al_gore:': 6557, \"idea's\": 6558, 'military': 6559, \"'\": 6560, 'breakfast': 6561, 'modest': 6562, 'intense': 6563, 'life-partner': 6564, 'mommy': 6565, 'jerks': 6566, 'shoulda': 6567, 'brainheaded': 6568, 'castle': 6569, 'betcha': 6570, 'scam': 6571, 'hoped': 6572, 'notch': 6573, 'accidents': 6574, 'thousands': 6575, 'ducked': 6576, 'adequate': 6577, 'edna': 6578, 'polenta': 6579, 'frink': 6580, 'charming': 6581, 'space-time': 6582, 'powered': 6583, 'superhero': 6584, 'specials': 6585, 'pumping': 6586, 'kicked': 6587, 'lofty': 6588, 'child': 6589, 'open-casket': 6590, 'scum': 6591, 'mustard': 6592, 'milhouse_van_houten:': 6593, 'moonlight': 6594, 'strap': 6595, 'winston': 6596, 'wood': 6597, 'getup': 6598, 'stool': 6599, 'cause': 6600, \"now's\": 6601, \"neat's-foot\": 6602, 'ancient': 6603, 'partners': 6604, 'occupancy': 6605, 'supreme': 6606, 'muscle': 6607, 'não': 6608, 'accurate': 6609, 'touchdown': 6610, 'gallon': 6611, 'should': 6612, 'ralph_wiggum:': 6613, \"o'problem\": 6614, 'chug-monkeys': 6615, 'whatcha': 6616, 'media': 6617, 'thanking': 6618, 'eighty-five': 6619, 'tap': 6620, 'unearth': 6621, 'nibble': 6622, \"how'd\": 6623, 'cheapskates': 6624, 'scarf': 6625, 'groin': 6626, 'dash': 6627, 'stools': 6628, 'snake_jailbird:': 6629, 'caholic': 6630, 'tourist': 6631, 'frenchman': 6632, 'marge': 6633, 'carney': 6634, 'bumpy-like': 6635, 'boxcars': 6636, 'endorse': 6637, 'fix': 6638, 'payments': 6639, 'flack': 6640, 'case': 6641, 'each': 6642, 'dang': 6643, 'jebediah': 6644, 'gheet': 6645, 'supervising': 6646, 'trusted': 6647, 'single': 6648, 'demo': 6649, 'sodas': 6650, 'spied': 6651, 'versus': 6652, 'rockers': 6653, 'clothespins': 6654, 'prohibit': 6655, 'wienerschnitzel': 6656, 'seem': 6657, 'bidet': 6658, 'solely': 6659, 'fatso': 6660, 'evergreen': 6661, 'gator:': 6662, 'shortcomings': 6663, 'suspect': 6664, 'swings': 6665, 'activity': 6666, 'cute': 6667, 'straight': 6668, 'all:': 6669, 'darn': 6670, 'life-threatening': 6671, 'out': 6672, \"when's\": 6673, 'railroad': 6674, 'wiggum': 6675, 'be': 6676, 'on': 6677, 'dilemma': 6678, 'shot': 6679, 'chorus:': 6680, 'yup': 6681, 'chicken': 6682, 'truth': 6683, \"wonderin'\": 6684, 'chateau': 6685, 'astrid': 6686, 'jeff_gordon:': 6687, \"tv's\": 6688, 'benefits': 6689, 'm': 6690, 'farthest': 6691, 'wordloaf': 6692, 'byrne': 6693, 'injury': 6694, 'sanctuary': 6695, 'burglary': 6696, 'blokes': 6697, 'nards': 6698, 'microwave': 6699, 'handle': 6700, 'lonely': 6701, 'characteristic': 6702, 'compels': 6703, 'mona_simpson:': 6704, 'squashing': 6705, 'keeps': 6706, 'plywood': 6707, 'windshield': 6708, 'minors': 6709, 'someday': 6710, \"stinkin'\": 6711, 'tear': 6712, 'intimacy': 6713, \"gentleman's\": 6714, 'nothing': 6715, 'clandestine': 6716, 'fwooof': 6717, 'gift:': 6718, 'explanation': 6719, 'foam': 6720, 'side:': 6721, 'deeper': 6722, \"c'mere\": 6723, \"pope's\": 6724, 'dejected': 6725, 'appealing': 6726, 'spender': 6727, 'doing': 6728, 'if': 6729, 'agent_miller:': 6730, 'flustered': 6731, \"here's\": 6732, 'delts': 6733, 'carpet': 6734, 'gordon': 6735, 'then': 6736, 'writer:': 6737, 'completing': 6738, 'drunkening': 6739, \"santa's\": 6740, 'alva': 6741, \"'topes\": 6742, 'legal': 6743, 'evasive': 6744, 'scrubbing': 6745, 'toxins': 6746, 'camp': 6747, 'biggest': 6748, 'sooo': 6749, 'free': 6750, 'options': 6751, 'supplying': 6752, 'strategizing': 6753, 'carl:': 6754, 'is': 6755, 'banks': 6756, 'beyond': 6757, 'steampunk': 6758, 'series': 6759, 'very': 6760, 'rascals': 6761, 'dexterous': 6762, 'stuff': 6763, 'cuckoo': 6764, 'habit': 6765, 'coma': 6766, 'babar': 6767, 'birth': 6768, 'lost': 6769, 'moron': 6770, 'super-nice': 6771, 'woodchucks': 6772, 'spanish': 6773, 'presumir': 6774, 'easy-going': 6775, 'bartender': 6776, 'johnny': 6777, 'type': 6778}\n"
     ]
    }
   ],
   "source": [
    "\"\"\"\n",
    "DON'T MODIFY ANYTHING IN THIS CELL\n",
    "\"\"\"\n",
    "# Preprocess Training, Validation, and Testing Data\n",
    "helper.preprocess_and_save_data(data_dir, token_lookup, create_lookup_tables)"
   ]
  },
  {
   "cell_type": "markdown",
   "metadata": {},
   "source": [
    "# Check Point\n",
    "This is your first checkpoint. If you ever decide to come back to this notebook or have to restart the notebook, you can start from here. The preprocessed data has been saved to disk."
   ]
  },
  {
   "cell_type": "code",
   "execution_count": 38,
   "metadata": {},
   "outputs": [],
   "source": [
    "\"\"\"\n",
    "DON'T MODIFY ANYTHING IN THIS CELL\n",
    "\"\"\"\n",
    "import helper\n",
    "import numpy as np\n",
    "import problem_unittests as tests\n",
    "\n",
    "int_text, vocab_to_int, int_to_vocab, token_dict = helper.load_preprocess()"
   ]
  },
  {
   "cell_type": "markdown",
   "metadata": {},
   "source": [
    "## Build the Neural Network\n",
    "You'll build the components necessary to build a RNN by implementing the following functions below:\n",
    "- get_inputs\n",
    "- get_init_cell\n",
    "- get_embed\n",
    "- build_rnn\n",
    "- build_nn\n",
    "- get_batches\n",
    "\n",
    "### Check the Version of TensorFlow and Access to GPU"
   ]
  },
  {
   "cell_type": "code",
   "execution_count": 39,
   "metadata": {},
   "outputs": [
    {
     "name": "stdout",
     "output_type": "stream",
     "text": [
      "TensorFlow Version: 1.3.0\n",
      "Default GPU Device: /gpu:0\n"
     ]
    }
   ],
   "source": [
    "\"\"\"\n",
    "DON'T MODIFY ANYTHING IN THIS CELL\n",
    "\"\"\"\n",
    "from distutils.version import LooseVersion\n",
    "import warnings\n",
    "import tensorflow as tf\n",
    "\n",
    "# Check TensorFlow Version\n",
    "assert LooseVersion(tf.__version__) >= LooseVersion('1.3'), 'Please use TensorFlow version 1.3 or newer'\n",
    "print('TensorFlow Version: {}'.format(tf.__version__))\n",
    "\n",
    "# Check for a GPU\n",
    "if not tf.test.gpu_device_name():\n",
    "    warnings.warn('No GPU found. Please use a GPU to train your neural network.')\n",
    "else:\n",
    "    print('Default GPU Device: {}'.format(tf.test.gpu_device_name()))"
   ]
  },
  {
   "cell_type": "markdown",
   "metadata": {},
   "source": [
    "### Input\n",
    "Implement the `get_inputs()` function to create TF Placeholders for the Neural Network.  It should create the following placeholders:\n",
    "- Input text placeholder named \"input\" using the [TF Placeholder](https://www.tensorflow.org/api_docs/python/tf/placeholder) `name` parameter.\n",
    "- Targets placeholder\n",
    "- Learning Rate placeholder\n",
    "\n",
    "Return the placeholders in the following tuple `(Input, Targets, LearningRate)`"
   ]
  },
  {
   "cell_type": "code",
   "execution_count": 40,
   "metadata": {},
   "outputs": [
    {
     "name": "stdout",
     "output_type": "stream",
     "text": [
      "Tests Passed\n"
     ]
    }
   ],
   "source": [
    "def get_inputs():\n",
    "    \"\"\"\n",
    "    Create TF Placeholders for input, targets, and learning rate.\n",
    "    :return: Tuple (input, targets, learning rate)\n",
    "    \"\"\"\n",
    "    # TODO: Implement Function\n",
    "    \n",
    "    inputs = tf.placeholder(tf.int32, [None, None], name='input')\n",
    "    targets = tf.placeholder(tf.int32, [None, None], name='targets')\n",
    "    \n",
    "    learning_rate = tf.placeholder(tf.float32, name='learning_rate')\n",
    "    \n",
    "    return inputs , targets , learning_rate\n",
    "\n",
    "\n",
    "\"\"\"\n",
    "DON'T MODIFY ANYTHING IN THIS CELL THAT IS BELOW THIS LINE\n",
    "\"\"\"\n",
    "tests.test_get_inputs(get_inputs)"
   ]
  },
  {
   "cell_type": "markdown",
   "metadata": {},
   "source": [
    "### Build RNN Cell and Initialize\n",
    "Stack one or more [`BasicLSTMCells`](https://www.tensorflow.org/api_docs/python/tf/contrib/rnn/BasicLSTMCell) in a [`MultiRNNCell`](https://www.tensorflow.org/api_docs/python/tf/contrib/rnn/MultiRNNCell).\n",
    "- The Rnn size should be set using `rnn_size`\n",
    "- Initalize Cell State using the MultiRNNCell's [`zero_state()`](https://www.tensorflow.org/api_docs/python/tf/contrib/rnn/MultiRNNCell#zero_state) function\n",
    "    - Apply the name \"initial_state\" to the initial state using [`tf.identity()`](https://www.tensorflow.org/api_docs/python/tf/identity)\n",
    "\n",
    "Return the cell and initial state in the following tuple `(Cell, InitialState)`"
   ]
  },
  {
   "cell_type": "code",
   "execution_count": 41,
   "metadata": {},
   "outputs": [
    {
     "name": "stdout",
     "output_type": "stream",
     "text": [
      "Tests Passed\n"
     ]
    }
   ],
   "source": [
    "\n",
    "def get_init_cell(batch_size, rnn_size):\n",
    "    \"\"\"\n",
    "    Create an RNN Cell and initialize it.\n",
    "    :param batch_size: Size of batches\n",
    "    :param rnn_size: Size of RNNs\n",
    "    :return: Tuple (cell, initialize state)\n",
    "    \"\"\"\n",
    "    # TODO: Implement Function\n",
    "    rnn_layers = 2\n",
    "    def build_cell(rnn_size):\n",
    "        \n",
    "        lstm = tf.contrib.rnn.BasicLSTMCell(rnn_size)\n",
    "        return lstm\n",
    "    \n",
    "    cell = tf.contrib.rnn.MultiRNNCell([build_cell(rnn_size) for _ in range(rnn_layers)])\n",
    "    initial_state = tf.identity(cell.zero_state(batch_size, tf.float32),name=\"initial_state\")\n",
    "    \n",
    "    return cell, initial_state\n",
    "\n",
    "\n",
    "\"\"\"\n",
    "DON'T MODIFY ANYTHING IN THIS CELL THAT IS BELOW THIS LINE\n",
    "\"\"\"\n",
    "tests.test_get_init_cell(get_init_cell)"
   ]
  },
  {
   "cell_type": "markdown",
   "metadata": {},
   "source": [
    "### Word Embedding\n",
    "Apply embedding to `input_data` using TensorFlow.  Return the embedded sequence."
   ]
  },
  {
   "cell_type": "code",
   "execution_count": 42,
   "metadata": {},
   "outputs": [
    {
     "name": "stdout",
     "output_type": "stream",
     "text": [
      "Tests Passed\n"
     ]
    }
   ],
   "source": [
    "def get_embed(input_data, vocab_size, embed_dim):\n",
    "    \"\"\"\n",
    "    Create embedding for <input_data>.\n",
    "    :param input_data: TF placeholder for text input.\n",
    "    :param vocab_size: Number of words in vocabulary.\n",
    "    :param embed_dim: Number of embedding dimensions\n",
    "    :return: Embedded input.\n",
    "    \"\"\"\n",
    "    # TODO: Implement Function\n",
    "        \n",
    "    embedding = tf.Variable(tf.random_uniform((vocab_size, embed_dim), -1, 1))\n",
    "    embedded_sequence = tf.nn.embedding_lookup(embedding, input_data)\n",
    "        \n",
    "    return embedded_sequence\n",
    "\n",
    "\n",
    "\"\"\"\n",
    "DON'T MODIFY ANYTHING IN THIS CELL THAT IS BELOW THIS LINE\n",
    "\"\"\"\n",
    "tests.test_get_embed(get_embed)"
   ]
  },
  {
   "cell_type": "markdown",
   "metadata": {},
   "source": [
    "### Build RNN\n",
    "You created a RNN Cell in the `get_init_cell()` function.  Time to use the cell to create a RNN.\n",
    "- Build the RNN using the [`tf.nn.dynamic_rnn()`](https://www.tensorflow.org/api_docs/python/tf/nn/dynamic_rnn)\n",
    " - Apply the name \"final_state\" to the final state using [`tf.identity()`](https://www.tensorflow.org/api_docs/python/tf/identity)\n",
    "\n",
    "Return the outputs and final_state state in the following tuple `(Outputs, FinalState)` "
   ]
  },
  {
   "cell_type": "code",
   "execution_count": 43,
   "metadata": {},
   "outputs": [
    {
     "name": "stdout",
     "output_type": "stream",
     "text": [
      "Tests Passed\n"
     ]
    }
   ],
   "source": [
    "def build_rnn(cell, inputs) :\n",
    "    \"\"\"\n",
    "    Create a RNN using a RNN Cell\n",
    "    :param cell: RNN Cell\n",
    "    :param inputs: Input text data\n",
    "    :return: Tuple (Outputs, Final State)\n",
    "    \"\"\"\n",
    "    # TODO: Implement Function\n",
    "    \n",
    "    outputs, final_state = tf.nn.dynamic_rnn(cell , inputs , dtype=tf.float32 ) \n",
    "    final_state = tf.identity (final_state , name=\"final_state\")                                        \n",
    "    return outputs, final_state\n",
    "\n",
    "\n",
    "\"\"\"\n",
    "DON'T MODIFY ANYTHING IN THIS CELL THAT IS BELOW THIS LINE\n",
    "\"\"\"\n",
    "tests.test_build_rnn(build_rnn)"
   ]
  },
  {
   "cell_type": "markdown",
   "metadata": {},
   "source": [
    "### Build the Neural Network\n",
    "Apply the functions you implemented above to:\n",
    "- Apply embedding to `input_data` using your `get_embed(input_data, vocab_size, embed_dim)` function.\n",
    "- Build RNN using `cell` and your `build_rnn(cell, inputs)` function.\n",
    "- Apply a fully connected layer with a linear activation and `vocab_size` as the number of outputs.\n",
    "\n",
    "Return the logits and final state in the following tuple (Logits, FinalState) "
   ]
  },
  {
   "cell_type": "code",
   "execution_count": 44,
   "metadata": {},
   "outputs": [
    {
     "name": "stdout",
     "output_type": "stream",
     "text": [
      "Tests Passed\n"
     ]
    }
   ],
   "source": [
    "def build_nn(cell, rnn_size, input_data, vocab_size, embed_dim):\n",
    "    \"\"\"\n",
    "    Build part of the neural network\n",
    "    :param cell: RNN cell\n",
    "    :param rnn_size: Size of rnns\n",
    "    :param input_data: Input data\n",
    "    :param vocab_size: Vocabulary size\n",
    "    :param embed_dim: Number of embedding dimensions\n",
    "    :return: Tuple (Logits, FinalState)\n",
    "    \"\"\"\n",
    "    # TODO: Implement Function\n",
    "    y=get_embed(input_data,vocab_size,embed_dim)\n",
    "    x,final_state=build_rnn(cell,y)\n",
    "    logits = tf.contrib.layers.fully_connected(x,vocab_size,activation_fn=None)\n",
    "  \n",
    "    return logits , final_state\n",
    "\n",
    "\n",
    "\"\"\"\n",
    "DON'T MODIFY ANYTHING IN THIS CELL THAT IS BELOW THIS LINE\n",
    "\"\"\"\n",
    "tests.test_build_nn(build_nn)"
   ]
  },
  {
   "cell_type": "markdown",
   "metadata": {},
   "source": [
    "### Batches\n",
    "Implement `get_batches` to create batches of input and targets using `int_text`.  The batches should be a Numpy array with the shape `(number of batches, 2, batch size, sequence length)`. Each batch contains two elements:\n",
    "- The first element is a single batch of **input** with the shape `[batch size, sequence length]`\n",
    "- The second element is a single batch of **targets** with the shape `[batch size, sequence length]`\n",
    "\n",
    "If you can't fill the last batch with enough data, drop the last batch.\n",
    "\n",
    "For example, `get_batches([1, 2, 3, 4, 5, 6, 7, 8, 9, 10, 11, 12, 13, 14, 15, 16, 17, 18, 19, 20], 3, 2)` would return a Numpy array of the following:\n",
    "```\n",
    "[\n",
    "  # First Batch\n",
    "  [\n",
    "    # Batch of Input\n",
    "    [[ 1  2], [ 7  8], [13 14]]\n",
    "    # Batch of targets\n",
    "    [[ 2  3], [ 8  9], [14 15]]\n",
    "  ]\n",
    "\n",
    "  # Second Batch\n",
    "  [\n",
    "    # Batch of Input\n",
    "    [[ 3  4], [ 9 10], [15 16]]\n",
    "    # Batch of targets\n",
    "    [[ 4  5], [10 11], [16 17]]\n",
    "  ]\n",
    "\n",
    "  # Third Batch\n",
    "  [\n",
    "    # Batch of Input\n",
    "    [[ 5  6], [11 12], [17 18]]\n",
    "    # Batch of targets\n",
    "    [[ 6  7], [12 13], [18  1]]\n",
    "  ]\n",
    "]\n",
    "```\n",
    "\n",
    "Notice that the last target value in the last batch is the first input value of the first batch. In this case, `1`. This is a common technique used when creating sequence batches, although it is rather unintuitive."
   ]
  },
  {
   "cell_type": "code",
   "execution_count": 45,
   "metadata": {},
   "outputs": [
    {
     "name": "stdout",
     "output_type": "stream",
     "text": [
      "Tests Passed\n"
     ]
    }
   ],
   "source": [
    "def get_batches(int_text, batch_size, seq_length):\n",
    "    \"\"\"\n",
    "    Return batches of input and target\n",
    "    :param int_text: Text with the words replaced by their ids\n",
    "    :param batch_size: The size of batch\n",
    "    :param seq_length: The length of sequence\n",
    "    :return: Batches as a Numpy array\n",
    "    \"\"\"\n",
    "    # TODO: Implement Function\n",
    "    number_batches = len (int_text) // (batch_size*seq_length)\n",
    "    \n",
    "    batch_of_input =np.reshape(np.array(int_text[:(number_batches*batch_size*seq_length)]),(-1,seq_length))\n",
    "    batch_of_output = np.roll(batch_of_input, -1).reshape(-1, seq_length)\n",
    "    batches = np.ones(shape=(number_batches, 2, batch_size, seq_length)) \n",
    "    \n",
    "    for i in range(0, batch_of_input.shape[0]):\n",
    "        x = i % number_batches\n",
    "        y = i // number_batches\n",
    "        batches[x,0,y,:] = batch_of_input[i,:]\n",
    "        batches[x,1,y,:] = batch_of_output[i,:]\n",
    "        \n",
    "    return batches\n",
    "  \n",
    "\n",
    "\n",
    "\"\"\"\n",
    "DON'T MODIFY ANYTHING IN THIS CELL THAT IS BELOW THIS LINE\n",
    "\"\"\"\n",
    "tests.test_get_batches(get_batches)"
   ]
  },
  {
   "cell_type": "markdown",
   "metadata": {},
   "source": [
    "## Neural Network Training\n",
    "### Hyperparameters\n",
    "Tune the following parameters:\n",
    "\n",
    "- Set `num_epochs` to the number of epochs.\n",
    "- Set `batch_size` to the batch size.\n",
    "- Set `rnn_size` to the size of the RNNs.\n",
    "- Set `embed_dim` to the size of the embedding.\n",
    "- Set `seq_length` to the length of sequence.\n",
    "- Set `learning_rate` to the learning rate.\n",
    "- Set `show_every_n_batches` to the number of batches the neural network should print progress."
   ]
  },
  {
   "cell_type": "code",
   "execution_count": 46,
   "metadata": {},
   "outputs": [],
   "source": [
    "# Number of Epochs\n",
    "num_epochs = 128\n",
    "# Batch Size\n",
    "batch_size = 128\n",
    "# RNN Size\n",
    "rnn_size = 512\n",
    "# Embedding Dimension Size\n",
    "embed_dim = 265\n",
    "# Sequence Length\n",
    "seq_length = 16\n",
    "# Learning Rate\n",
    "learning_rate = 0.001\n",
    "# Show stats for every n number of batches\n",
    "show_every_n_batches = 128\n",
    "\n",
    "\"\"\"\n",
    "DON'T MODIFY ANYTHING IN THIS CELL THAT IS BELOW THIS LINE\n",
    "\"\"\"\n",
    "save_dir = './save'"
   ]
  },
  {
   "cell_type": "markdown",
   "metadata": {},
   "source": [
    "### Build the Graph\n",
    "Build the graph using the neural network you implemented."
   ]
  },
  {
   "cell_type": "code",
   "execution_count": 47,
   "metadata": {},
   "outputs": [],
   "source": [
    "\"\"\"\n",
    "DON'T MODIFY ANYTHING IN THIS CELL\n",
    "\"\"\"\n",
    "from tensorflow.contrib import seq2seq\n",
    "\n",
    "train_graph = tf.Graph()\n",
    "with train_graph.as_default():\n",
    "    vocab_size = len(int_to_vocab)\n",
    "    input_text, targets, lr = get_inputs()\n",
    "    input_data_shape = tf.shape(input_text)\n",
    "    cell, initial_state = get_init_cell(input_data_shape[0], rnn_size)\n",
    "    logits, final_state = build_nn(cell, rnn_size, input_text, vocab_size, embed_dim)\n",
    "\n",
    "    # Probabilities for generating words\n",
    "    probs = tf.nn.softmax(logits, name='probs')\n",
    "\n",
    "    # Loss function\n",
    "    cost = seq2seq.sequence_loss(\n",
    "        logits,\n",
    "        targets,\n",
    "        tf.ones([input_data_shape[0], input_data_shape[1]]))\n",
    "\n",
    "    # Optimizer\n",
    "    optimizer = tf.train.AdamOptimizer(lr)\n",
    "\n",
    "    # Gradient Clipping\n",
    "    gradients = optimizer.compute_gradients(cost)\n",
    "    capped_gradients = [(tf.clip_by_value(grad, -1., 1.), var) for grad, var in gradients if grad is not None]\n",
    "    train_op = optimizer.apply_gradients(capped_gradients)"
   ]
  },
  {
   "cell_type": "markdown",
   "metadata": {},
   "source": [
    "## Train\n",
    "Train the neural network on the preprocessed data.  If you have a hard time getting a good loss, check the [forums](https://discussions.udacity.com/) to see if anyone is having the same problem."
   ]
  },
  {
   "cell_type": "code",
   "execution_count": 48,
   "metadata": {},
   "outputs": [
    {
     "name": "stdout",
     "output_type": "stream",
     "text": [
      "Epoch   0 Batch    0/33   train_loss = 8.822\n",
      "Epoch   3 Batch   29/33   train_loss = 6.165\n",
      "Epoch   7 Batch   25/33   train_loss = 5.754\n",
      "Epoch  11 Batch   21/33   train_loss = 5.484\n",
      "Epoch  15 Batch   17/33   train_loss = 4.957\n",
      "Epoch  19 Batch   13/33   train_loss = 4.661\n",
      "Epoch  23 Batch    9/33   train_loss = 4.281\n",
      "Epoch  27 Batch    5/33   train_loss = 4.164\n",
      "Epoch  31 Batch    1/33   train_loss = 3.655\n",
      "Epoch  34 Batch   30/33   train_loss = 3.680\n",
      "Epoch  38 Batch   26/33   train_loss = 3.297\n",
      "Epoch  42 Batch   22/33   train_loss = 3.069\n",
      "Epoch  46 Batch   18/33   train_loss = 2.884\n",
      "Epoch  50 Batch   14/33   train_loss = 2.613\n",
      "Epoch  54 Batch   10/33   train_loss = 2.352\n",
      "Epoch  58 Batch    6/33   train_loss = 2.119\n",
      "Epoch  62 Batch    2/33   train_loss = 1.997\n",
      "Epoch  65 Batch   31/33   train_loss = 1.698\n",
      "Epoch  69 Batch   27/33   train_loss = 1.578\n",
      "Epoch  73 Batch   23/33   train_loss = 1.318\n",
      "Epoch  77 Batch   19/33   train_loss = 1.114\n",
      "Epoch  81 Batch   15/33   train_loss = 1.007\n",
      "Epoch  85 Batch   11/33   train_loss = 0.913\n",
      "Epoch  89 Batch    7/33   train_loss = 0.784\n",
      "Epoch  93 Batch    3/33   train_loss = 0.681\n",
      "Epoch  96 Batch   32/33   train_loss = 0.585\n",
      "Epoch 100 Batch   28/33   train_loss = 0.469\n",
      "Epoch 104 Batch   24/33   train_loss = 0.521\n",
      "Epoch 108 Batch   20/33   train_loss = 0.384\n",
      "Epoch 112 Batch   16/33   train_loss = 0.406\n",
      "Epoch 116 Batch   12/33   train_loss = 0.344\n",
      "Epoch 120 Batch    8/33   train_loss = 0.313\n",
      "Epoch 124 Batch    4/33   train_loss = 0.273\n",
      "Model Trained and Saved\n"
     ]
    }
   ],
   "source": [
    "\"\"\"\n",
    "DON'T MODIFY ANYTHING IN THIS CELL\n",
    "\"\"\"\n",
    "batches = get_batches(int_text, batch_size, seq_length)\n",
    "\n",
    "with tf.Session(graph=train_graph) as sess:\n",
    "    sess.run(tf.global_variables_initializer())\n",
    "\n",
    "    for epoch_i in range(num_epochs):\n",
    "        state = sess.run(initial_state, {input_text: batches[0][0]})\n",
    "\n",
    "        for batch_i, (x, y) in enumerate(batches):\n",
    "            feed = {\n",
    "                input_text: x,\n",
    "                targets: y,\n",
    "                initial_state: state,\n",
    "                lr: learning_rate}\n",
    "            train_loss, state, _ = sess.run([cost, final_state, train_op], feed)\n",
    "\n",
    "            # Show every <show_every_n_batches> batches\n",
    "            if (epoch_i * len(batches) + batch_i) % show_every_n_batches == 0:\n",
    "                print('Epoch {:>3} Batch {:>4}/{}   train_loss = {:.3f}'.format(\n",
    "                    epoch_i,\n",
    "                    batch_i,\n",
    "                    len(batches),\n",
    "                    train_loss))\n",
    "\n",
    "    # Save Model\n",
    "    saver = tf.train.Saver()\n",
    "    saver.save(sess, save_dir)\n",
    "    print('Model Trained and Saved')"
   ]
  },
  {
   "cell_type": "markdown",
   "metadata": {},
   "source": [
    "## Save Parameters\n",
    "Save `seq_length` and `save_dir` for generating a new TV script."
   ]
  },
  {
   "cell_type": "code",
   "execution_count": 49,
   "metadata": {},
   "outputs": [],
   "source": [
    "\"\"\"\n",
    "DON'T MODIFY ANYTHING IN THIS CELL\n",
    "\"\"\"\n",
    "# Save parameters for checkpoint\n",
    "helper.save_params((seq_length, save_dir))"
   ]
  },
  {
   "cell_type": "markdown",
   "metadata": {},
   "source": [
    "# Checkpoint"
   ]
  },
  {
   "cell_type": "code",
   "execution_count": 50,
   "metadata": {},
   "outputs": [],
   "source": [
    "\"\"\"\n",
    "DON'T MODIFY ANYTHING IN THIS CELL\n",
    "\"\"\"\n",
    "import tensorflow as tf\n",
    "import numpy as np\n",
    "import helper\n",
    "import problem_unittests as tests\n",
    "\n",
    "_, vocab_to_int, int_to_vocab, token_dict = helper.load_preprocess()\n",
    "seq_length, load_dir = helper.load_params()"
   ]
  },
  {
   "cell_type": "markdown",
   "metadata": {},
   "source": [
    "## Implement Generate Functions\n",
    "### Get Tensors\n",
    "Get tensors from `loaded_graph` using the function [`get_tensor_by_name()`](https://www.tensorflow.org/api_docs/python/tf/Graph#get_tensor_by_name).  Get the tensors using the following names:\n",
    "- \"input:0\"\n",
    "- \"initial_state:0\"\n",
    "- \"final_state:0\"\n",
    "- \"probs:0\"\n",
    "\n",
    "Return the tensors in the following tuple `(InputTensor, InitialStateTensor, FinalStateTensor, ProbsTensor)` "
   ]
  },
  {
   "cell_type": "code",
   "execution_count": 52,
   "metadata": {},
   "outputs": [
    {
     "name": "stdout",
     "output_type": "stream",
     "text": [
      "Tests Passed\n"
     ]
    }
   ],
   "source": [
    "def get_tensors(loaded_graph):\n",
    "    \"\"\"\n",
    "    Get input, initial state, final state, and probabilities tensor from <loaded_graph>\n",
    "    :param loaded_graph: TensorFlow graph loaded from file\n",
    "    :return: Tuple (InputTensor, InitialStateTensor, FinalStateTensor, ProbsTensor)\n",
    "    \"\"\"\n",
    "    # TODO: Implement Function\n",
    "    InputTensor = loaded_graph.get_tensor_by_name('input:0')\n",
    "    InitialStateTensor = loaded_graph.get_tensor_by_name('initial_state:0')\n",
    "    FinalStateTensor = loaded_graph.get_tensor_by_name('final_state:0')\n",
    "    ProbsTensor = loaded_graph.get_tensor_by_name('probs:0')\n",
    "        \n",
    "    return InputTensor, InitialStateTensor, FinalStateTensor, ProbsTensor\n",
    "\n",
    "\n",
    "\"\"\"\n",
    "DON'T MODIFY ANYTHING IN THIS CELL THAT IS BELOW THIS LINE\n",
    "\"\"\"\n",
    "tests.test_get_tensors(get_tensors)"
   ]
  },
  {
   "cell_type": "markdown",
   "metadata": {},
   "source": [
    "### Choose Word\n",
    "Implement the `pick_word()` function to select the next word using `probabilities`."
   ]
  },
  {
   "cell_type": "code",
   "execution_count": 53,
   "metadata": {},
   "outputs": [
    {
     "name": "stdout",
     "output_type": "stream",
     "text": [
      "Tests Passed\n"
     ]
    }
   ],
   "source": [
    "def pick_word(probabilities, int_to_vocab):\n",
    "    \"\"\"\n",
    "    Pick the next word in the generated text\n",
    "    :param probabilities: Probabilites of the next word\n",
    "    :param int_to_vocab: Dictionary of word ids as the keys and words as the values\n",
    "    :return: String of the predicted word\n",
    "    \"\"\"\n",
    "    # TODO: Implement Function\n",
    "    max = np.argmax(probabilities)\n",
    "    word = int_to_vocab[max]\n",
    "    return word\n",
    "\n",
    "\"\"\"\n",
    "DON'T MODIFY ANYTHING IN THIS CELL THAT IS BELOW THIS LINE\n",
    "\"\"\"\n",
    "tests.test_pick_word(pick_word)"
   ]
  },
  {
   "cell_type": "markdown",
   "metadata": {},
   "source": [
    "## Generate TV Script\n",
    "This will generate the TV script for you.  Set `gen_length` to the length of TV script you want to generate."
   ]
  },
  {
   "cell_type": "code",
   "execution_count": 54,
   "metadata": {},
   "outputs": [
    {
     "name": "stdout",
     "output_type": "stream",
     "text": [
      "INFO:tensorflow:Restoring parameters from ./save\n",
      "moe_szyslak:(cheering up) yeah. yeah, you know, that actually makes me feel good out, but you can use the money.\n",
      "moe_szyslak: i can't close down your car?\n",
      "barney_gumble: hey, are you gonna do that?\n",
      "barney_gumble:(cutting him off) too too, a little girl who take the movies. you didn't have a little.\n",
      "lisa_simpson: i'm not good. hey, if you get that\" drink homer, he had a big company.\n",
      "\n",
      "\n",
      "barney_gumble: wow, but i can't believe that if you give me a beer?\n",
      "barney_gumble:(to nobel face) moe, this is so, but...(grabbing phone) go, moe, i gotta tell something let me a little more cerebral, and i gotta use it to the town.\n",
      "moe_szyslak:(upset) no man... he wants in first hand.\n",
      "moe_szyslak: what?(yells) hey, homer, what's the matter, marge? it's me?\n",
      "homer_simpson:(sweet) yeah. what's the matter\n"
     ]
    }
   ],
   "source": [
    "gen_length = 200\n",
    "# homer_simpson, moe_szyslak, or Barney_Gumble\n",
    "prime_word = 'moe_szyslak'\n",
    "\n",
    "\"\"\"\n",
    "DON'T MODIFY ANYTHING IN THIS CELL THAT IS BELOW THIS LINE\n",
    "\"\"\"\n",
    "loaded_graph = tf.Graph()\n",
    "with tf.Session(graph=loaded_graph) as sess:\n",
    "    # Load saved model\n",
    "    loader = tf.train.import_meta_graph(load_dir + '.meta')\n",
    "    loader.restore(sess, load_dir)\n",
    "\n",
    "    # Get Tensors from loaded model\n",
    "    input_text, initial_state, final_state, probs = get_tensors(loaded_graph)\n",
    "\n",
    "    # Sentences generation setup\n",
    "    gen_sentences = [prime_word + ':']\n",
    "    prev_state = sess.run(initial_state, {input_text: np.array([[1]])})\n",
    "\n",
    "    # Generate sentences\n",
    "    for n in range(gen_length):\n",
    "        # Dynamic Input\n",
    "        dyn_input = [[vocab_to_int[word] for word in gen_sentences[-seq_length:]]]\n",
    "        dyn_seq_length = len(dyn_input[0])\n",
    "\n",
    "        # Get Prediction\n",
    "        probabilities, prev_state = sess.run(\n",
    "            [probs, final_state],\n",
    "            {input_text: dyn_input, initial_state: prev_state})\n",
    "        \n",
    "        pred_word = pick_word(probabilities[0][dyn_seq_length-1], int_to_vocab)\n",
    "\n",
    "        gen_sentences.append(pred_word)\n",
    "    \n",
    "    # Remove tokens\n",
    "    tv_script = ' '.join(gen_sentences)\n",
    "    for key, token in token_dict.items():\n",
    "        ending = ' ' if key in ['\\n', '(', '\"'] else ''\n",
    "        tv_script = tv_script.replace(' ' + token.lower(), key)\n",
    "    tv_script = tv_script.replace('\\n ', '\\n')\n",
    "    tv_script = tv_script.replace('( ', '(')\n",
    "        \n",
    "    print(tv_script)"
   ]
  },
  {
   "cell_type": "markdown",
   "metadata": {},
   "source": [
    "# The TV Script is Nonsensical\n",
    "It's ok if the TV script doesn't make any sense.  We trained on less than a megabyte of text.  In order to get good results, you'll have to use a smaller vocabulary or get more data.  Luckily there's more data!  As we mentioned in the beggining of this project, this is a subset of [another dataset](https://www.kaggle.com/wcukierski/the-simpsons-by-the-data).  We didn't have you train on all the data, because that would take too long.  However, you are free to train your neural network on all the data.  After you complete the project, of course.\n",
    "# Submitting This Project\n",
    "When submitting this project, make sure to run all the cells before saving the notebook. Save the notebook file as \"dlnd_tv_script_generation.ipynb\" and save it as a HTML file under \"File\" -> \"Download as\". Include the \"helper.py\" and \"problem_unittests.py\" files in your submission."
   ]
  }
 ],
 "metadata": {
  "kernelspec": {
   "display_name": "Python 3",
   "language": "python",
   "name": "python3"
  },
  "language_info": {
   "codemirror_mode": {
    "name": "ipython",
    "version": 3
   },
   "file_extension": ".py",
   "mimetype": "text/x-python",
   "name": "python",
   "nbconvert_exporter": "python",
   "pygments_lexer": "ipython3",
   "version": "3.6.3"
  },
  "widgets": {
   "state": {},
   "version": "1.1.2"
  }
 },
 "nbformat": 4,
 "nbformat_minor": 1
}
